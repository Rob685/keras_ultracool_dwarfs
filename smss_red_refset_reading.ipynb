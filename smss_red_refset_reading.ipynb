{
  "nbformat": 4,
  "nbformat_minor": 0,
  "metadata": {
    "colab": {
      "name": "smss_red_refset_reading.ipynb",
      "provenance": [],
      "collapsed_sections": [],
      "machine_shape": "hm",
      "authorship_tag": "ABX9TyOGohmSYVZzW2DX017I9U2p",
      "include_colab_link": true
    },
    "kernelspec": {
      "name": "python3",
      "display_name": "Python 3"
    },
    "accelerator": "GPU"
  },
  "cells": [
    {
      "cell_type": "markdown",
      "metadata": {
        "id": "view-in-github",
        "colab_type": "text"
      },
      "source": [
        "<a href=\"https://colab.research.google.com/github/Rob685/coolstarsucsd/blob/master/smss_red_refset_reading.ipynb\" target=\"_parent\"><img src=\"https://colab.research.google.com/assets/colab-badge.svg\" alt=\"Open In Colab\"/></a>"
      ]
    },
    {
      "cell_type": "markdown",
      "metadata": {
        "id": "8ixtag9YOcqj",
        "colab_type": "text"
      },
      "source": [
        "# Building a new SkyMapper Reference and Training Sets\n",
        "\n",
        "I'm re-tracing some steps and reading new skymapper data downloaded on 05/20/2020 because I can't find the original data that we used to build the old one. Also, I applied the completion cuts right as I downloaded them in Coldbrew using `all_skymapper_reading.py`. The cuts are the following:\n",
        "\n",
        "1. $i - z > 0.75$\n",
        "2. $i\\_psf < 20.0$, $z\\_psf < 19.0$\n",
        "3. `flags == 0`"
      ]
    },
    {
      "cell_type": "code",
      "metadata": {
        "id": "Cq8CdPQ1N9tK",
        "colab_type": "code",
        "colab": {
          "base_uri": "https://localhost:8080/",
          "height": 122
        },
        "outputId": "945a0e04-d450-4204-d8d5-ea8732736c55"
      },
      "source": [
        "import pandas as pd\n",
        "import numpy as np\n",
        "from scipy import stats\n",
        "import scipy\n",
        "import matplotlib.pyplot as plt\n",
        "from matplotlib.colors import LogNorm\n",
        "from astropy.io import ascii\n",
        "from astropy.table import Table\n",
        "from astropy.io.misc.hdf5 import read_table_hdf5\n",
        "from collections import Counter\n",
        "from google.colab import drive\n",
        "drive.mount('/content/gdrive')\n",
        "\n",
        "import sys\n",
        "sys.path.append('/content/gdrive/My Drive/Colab Notebooks')\n",
        "\n",
        "path_sm = 'gdrive/My Drive/Colab Notebooks/sm_workspace/'"
      ],
      "execution_count": null,
      "outputs": [
        {
          "output_type": "stream",
          "text": [
            "Go to this URL in a browser: https://accounts.google.com/o/oauth2/auth?client_id=947318989803-6bn6qk8qdgf4n4g3pfee6491hc0brc4i.apps.googleusercontent.com&redirect_uri=urn%3aietf%3awg%3aoauth%3a2.0%3aoob&response_type=code&scope=email%20https%3a%2f%2fwww.googleapis.com%2fauth%2fdocs.test%20https%3a%2f%2fwww.googleapis.com%2fauth%2fdrive%20https%3a%2f%2fwww.googleapis.com%2fauth%2fdrive.photos.readonly%20https%3a%2f%2fwww.googleapis.com%2fauth%2fpeopleapi.readonly\n",
            "\n",
            "Enter your authorization code:\n",
            "··········\n",
            "Mounted at /content/gdrive\n"
          ],
          "name": "stdout"
        }
      ]
    },
    {
      "cell_type": "code",
      "metadata": {
        "id": "1GJSCmjNzan-",
        "colab_type": "code",
        "colab": {}
      },
      "source": [
        "plt.rcParams['figure.facecolor'] = 'white'\n",
        "plt.rc('text', usetex=True)\n",
        "plt.rc('font', family='serif',size=15)\n",
        "plt.rc('axes', linewidth=2.5) # change back to 1.5\n",
        "plt.rc('axes', labelsize=15) # change back to 10\n",
        "plt.rc('xtick', labelsize=8)\n",
        "plt.rc('ytick', labelsize=8)\n",
        "plt.rc('legend', fontsize=15) # change back to 7"
      ],
      "execution_count": null,
      "outputs": []
    },
    {
      "cell_type": "code",
      "metadata": {
        "id": "nhQK4izow4aD",
        "colab_type": "code",
        "colab": {
          "base_uri": "https://localhost:8080/",
          "height": 1000
        },
        "outputId": "65207847-f6a5-47fe-ffca-888ff1b0d17c"
      },
      "source": [
        "! sudo apt-get install texlive-latex-recommended #1\n",
        "#! sudo apt-get install dvipng texlive-fonts-recommended #2\n",
        "! sudo apt-get install cm-super\n",
        "! sudo apt-get install dvipng texlive-latex-extra texlive-fonts-recommended \n",
        "! wget http://mirrors.ctan.org/macros/latex/contrib/type1cm.zip #3\n",
        "! unzip type1cm.zip -d /tmp/type1cm #4\n",
        "! cd /tmp/type1cm/type1cm/ && sudo latex type1cm.ins  #5\n",
        "! sudo mkdir /usr/share/texmf/tex/latex/type1cm #6\n",
        "! sudo cp /tmp/type1cm/type1cm/type1cm.sty /usr/share/texmf/tex/latex/type1cm #7\n",
        "! sudo texhash #8"
      ],
      "execution_count": null,
      "outputs": [
        {
          "output_type": "stream",
          "text": [
            "Reading package lists... Done\n",
            "Building dependency tree       \n",
            "Reading state information... Done\n",
            "The following package was automatically installed and is no longer required:\n",
            "  libnvidia-common-440\n",
            "Use 'sudo apt autoremove' to remove it.\n",
            "The following additional packages will be installed:\n",
            "  fonts-droid-fallback fonts-lmodern fonts-noto-mono libcupsfilters1\n",
            "  libcupsimage2 libgs9 libgs9-common libijs-0.35 libjbig2dec0 libkpathsea6\n",
            "  libpotrace0 libptexenc1 libsynctex1 libtexlua52 libtexluajit2 libzzip-0-13\n",
            "  lmodern poppler-data t1utils tex-common texlive-base texlive-binaries\n",
            "  texlive-latex-base\n",
            "Suggested packages:\n",
            "  fonts-noto poppler-utils ghostscript fonts-japanese-mincho\n",
            "  | fonts-ipafont-mincho fonts-japanese-gothic | fonts-ipafont-gothic\n",
            "  fonts-arphic-ukai fonts-arphic-uming fonts-nanum debhelper gv\n",
            "  | postscript-viewer perl-tk xpdf-reader | pdf-viewer texlive-latex-base-doc\n",
            "  texlive-latex-recommended-doc texlive-pstricks\n",
            "The following NEW packages will be installed:\n",
            "  fonts-droid-fallback fonts-lmodern fonts-noto-mono libcupsfilters1\n",
            "  libcupsimage2 libgs9 libgs9-common libijs-0.35 libjbig2dec0 libkpathsea6\n",
            "  libpotrace0 libptexenc1 libsynctex1 libtexlua52 libtexluajit2 libzzip-0-13\n",
            "  lmodern poppler-data t1utils tex-common texlive-base texlive-binaries\n",
            "  texlive-latex-base texlive-latex-recommended\n",
            "0 upgraded, 24 newly installed, 0 to remove and 35 not upgraded.\n",
            "Need to get 68.4 MB of archives.\n",
            "After this operation, 223 MB of additional disk space will be used.\n",
            "Get:1 http://archive.ubuntu.com/ubuntu bionic/main amd64 fonts-droid-fallback all 1:6.0.1r16-1.1 [1,805 kB]\n",
            "Get:2 http://archive.ubuntu.com/ubuntu bionic/main amd64 poppler-data all 0.4.8-2 [1,479 kB]\n",
            "Get:3 http://archive.ubuntu.com/ubuntu bionic/main amd64 tex-common all 6.09 [33.0 kB]\n",
            "Get:4 http://archive.ubuntu.com/ubuntu bionic/main amd64 fonts-lmodern all 2.004.5-3 [4,551 kB]\n",
            "Get:5 http://archive.ubuntu.com/ubuntu bionic/main amd64 fonts-noto-mono all 20171026-2 [75.5 kB]\n",
            "Get:6 http://archive.ubuntu.com/ubuntu bionic-updates/main amd64 libcupsfilters1 amd64 1.20.2-0ubuntu3.1 [108 kB]\n",
            "Get:7 http://archive.ubuntu.com/ubuntu bionic-updates/main amd64 libcupsimage2 amd64 2.2.7-1ubuntu2.8 [18.6 kB]\n",
            "Get:8 http://archive.ubuntu.com/ubuntu bionic/main amd64 libijs-0.35 amd64 0.35-13 [15.5 kB]\n",
            "Get:9 http://archive.ubuntu.com/ubuntu bionic/main amd64 libjbig2dec0 amd64 0.13-6 [55.9 kB]\n",
            "Get:10 http://archive.ubuntu.com/ubuntu bionic-updates/main amd64 libgs9-common all 9.26~dfsg+0-0ubuntu0.18.04.12 [5,092 kB]\n",
            "Get:11 http://archive.ubuntu.com/ubuntu bionic-updates/main amd64 libgs9 amd64 9.26~dfsg+0-0ubuntu0.18.04.12 [2,264 kB]\n",
            "Get:12 http://archive.ubuntu.com/ubuntu bionic-updates/main amd64 libkpathsea6 amd64 2017.20170613.44572-8ubuntu0.1 [54.9 kB]\n",
            "Get:13 http://archive.ubuntu.com/ubuntu bionic/main amd64 libpotrace0 amd64 1.14-2 [17.4 kB]\n",
            "Get:14 http://archive.ubuntu.com/ubuntu bionic-updates/main amd64 libptexenc1 amd64 2017.20170613.44572-8ubuntu0.1 [34.5 kB]\n",
            "Get:15 http://archive.ubuntu.com/ubuntu bionic-updates/main amd64 libsynctex1 amd64 2017.20170613.44572-8ubuntu0.1 [41.4 kB]\n",
            "Get:16 http://archive.ubuntu.com/ubuntu bionic-updates/main amd64 libtexlua52 amd64 2017.20170613.44572-8ubuntu0.1 [91.2 kB]\n",
            "Get:17 http://archive.ubuntu.com/ubuntu bionic-updates/main amd64 libtexluajit2 amd64 2017.20170613.44572-8ubuntu0.1 [230 kB]\n",
            "Get:18 http://archive.ubuntu.com/ubuntu bionic-updates/main amd64 libzzip-0-13 amd64 0.13.62-3.1ubuntu0.18.04.1 [26.0 kB]\n",
            "Get:19 http://archive.ubuntu.com/ubuntu bionic/main amd64 lmodern all 2.004.5-3 [9,631 kB]\n",
            "Get:20 http://archive.ubuntu.com/ubuntu bionic/main amd64 t1utils amd64 1.41-2 [56.0 kB]\n",
            "Get:21 http://archive.ubuntu.com/ubuntu bionic-updates/main amd64 texlive-binaries amd64 2017.20170613.44572-8ubuntu0.1 [8,179 kB]\n",
            "Get:22 http://archive.ubuntu.com/ubuntu bionic/main amd64 texlive-base all 2017.20180305-1 [18.7 MB]\n",
            "Get:23 http://archive.ubuntu.com/ubuntu bionic/main amd64 texlive-latex-base all 2017.20180305-1 [951 kB]\n",
            "Get:24 http://archive.ubuntu.com/ubuntu bionic/main amd64 texlive-latex-recommended all 2017.20180305-1 [14.9 MB]\n",
            "Fetched 68.4 MB in 3s (21.1 MB/s)\n",
            "debconf: unable to initialize frontend: Dialog\n",
            "debconf: (No usable dialog-like program is installed, so the dialog based frontend cannot be used. at /usr/share/perl5/Debconf/FrontEnd/Dialog.pm line 76, <> line 24.)\n",
            "debconf: falling back to frontend: Readline\n",
            "debconf: unable to initialize frontend: Readline\n",
            "debconf: (This frontend requires a controlling tty.)\n",
            "debconf: falling back to frontend: Teletype\n",
            "dpkg-preconfigure: unable to re-open stdin: \n",
            "Selecting previously unselected package fonts-droid-fallback.\n",
            "(Reading database ... 144465 files and directories currently installed.)\n",
            "Preparing to unpack .../00-fonts-droid-fallback_1%3a6.0.1r16-1.1_all.deb ...\n",
            "Unpacking fonts-droid-fallback (1:6.0.1r16-1.1) ...\n",
            "Selecting previously unselected package poppler-data.\n",
            "Preparing to unpack .../01-poppler-data_0.4.8-2_all.deb ...\n",
            "Unpacking poppler-data (0.4.8-2) ...\n",
            "Selecting previously unselected package tex-common.\n",
            "Preparing to unpack .../02-tex-common_6.09_all.deb ...\n",
            "Unpacking tex-common (6.09) ...\n",
            "Selecting previously unselected package fonts-lmodern.\n",
            "Preparing to unpack .../03-fonts-lmodern_2.004.5-3_all.deb ...\n",
            "Unpacking fonts-lmodern (2.004.5-3) ...\n",
            "Selecting previously unselected package fonts-noto-mono.\n",
            "Preparing to unpack .../04-fonts-noto-mono_20171026-2_all.deb ...\n",
            "Unpacking fonts-noto-mono (20171026-2) ...\n",
            "Selecting previously unselected package libcupsfilters1:amd64.\n",
            "Preparing to unpack .../05-libcupsfilters1_1.20.2-0ubuntu3.1_amd64.deb ...\n",
            "Unpacking libcupsfilters1:amd64 (1.20.2-0ubuntu3.1) ...\n",
            "Selecting previously unselected package libcupsimage2:amd64.\n",
            "Preparing to unpack .../06-libcupsimage2_2.2.7-1ubuntu2.8_amd64.deb ...\n",
            "Unpacking libcupsimage2:amd64 (2.2.7-1ubuntu2.8) ...\n",
            "Selecting previously unselected package libijs-0.35:amd64.\n",
            "Preparing to unpack .../07-libijs-0.35_0.35-13_amd64.deb ...\n",
            "Unpacking libijs-0.35:amd64 (0.35-13) ...\n",
            "Selecting previously unselected package libjbig2dec0:amd64.\n",
            "Preparing to unpack .../08-libjbig2dec0_0.13-6_amd64.deb ...\n",
            "Unpacking libjbig2dec0:amd64 (0.13-6) ...\n",
            "Selecting previously unselected package libgs9-common.\n",
            "Preparing to unpack .../09-libgs9-common_9.26~dfsg+0-0ubuntu0.18.04.12_all.deb ...\n",
            "Unpacking libgs9-common (9.26~dfsg+0-0ubuntu0.18.04.12) ...\n",
            "Selecting previously unselected package libgs9:amd64.\n",
            "Preparing to unpack .../10-libgs9_9.26~dfsg+0-0ubuntu0.18.04.12_amd64.deb ...\n",
            "Unpacking libgs9:amd64 (9.26~dfsg+0-0ubuntu0.18.04.12) ...\n",
            "Selecting previously unselected package libkpathsea6:amd64.\n",
            "Preparing to unpack .../11-libkpathsea6_2017.20170613.44572-8ubuntu0.1_amd64.deb ...\n",
            "Unpacking libkpathsea6:amd64 (2017.20170613.44572-8ubuntu0.1) ...\n",
            "Selecting previously unselected package libpotrace0.\n",
            "Preparing to unpack .../12-libpotrace0_1.14-2_amd64.deb ...\n",
            "Unpacking libpotrace0 (1.14-2) ...\n",
            "Selecting previously unselected package libptexenc1:amd64.\n",
            "Preparing to unpack .../13-libptexenc1_2017.20170613.44572-8ubuntu0.1_amd64.deb ...\n",
            "Unpacking libptexenc1:amd64 (2017.20170613.44572-8ubuntu0.1) ...\n",
            "Selecting previously unselected package libsynctex1:amd64.\n",
            "Preparing to unpack .../14-libsynctex1_2017.20170613.44572-8ubuntu0.1_amd64.deb ...\n",
            "Unpacking libsynctex1:amd64 (2017.20170613.44572-8ubuntu0.1) ...\n",
            "Selecting previously unselected package libtexlua52:amd64.\n",
            "Preparing to unpack .../15-libtexlua52_2017.20170613.44572-8ubuntu0.1_amd64.deb ...\n",
            "Unpacking libtexlua52:amd64 (2017.20170613.44572-8ubuntu0.1) ...\n",
            "Selecting previously unselected package libtexluajit2:amd64.\n",
            "Preparing to unpack .../16-libtexluajit2_2017.20170613.44572-8ubuntu0.1_amd64.deb ...\n",
            "Unpacking libtexluajit2:amd64 (2017.20170613.44572-8ubuntu0.1) ...\n",
            "Selecting previously unselected package libzzip-0-13:amd64.\n",
            "Preparing to unpack .../17-libzzip-0-13_0.13.62-3.1ubuntu0.18.04.1_amd64.deb ...\n",
            "Unpacking libzzip-0-13:amd64 (0.13.62-3.1ubuntu0.18.04.1) ...\n",
            "Selecting previously unselected package lmodern.\n",
            "Preparing to unpack .../18-lmodern_2.004.5-3_all.deb ...\n",
            "Unpacking lmodern (2.004.5-3) ...\n",
            "Selecting previously unselected package t1utils.\n",
            "Preparing to unpack .../19-t1utils_1.41-2_amd64.deb ...\n",
            "Unpacking t1utils (1.41-2) ...\n",
            "Selecting previously unselected package texlive-binaries.\n",
            "Preparing to unpack .../20-texlive-binaries_2017.20170613.44572-8ubuntu0.1_amd64.deb ...\n",
            "Unpacking texlive-binaries (2017.20170613.44572-8ubuntu0.1) ...\n",
            "Selecting previously unselected package texlive-base.\n",
            "Preparing to unpack .../21-texlive-base_2017.20180305-1_all.deb ...\n",
            "Unpacking texlive-base (2017.20180305-1) ...\n",
            "Selecting previously unselected package texlive-latex-base.\n",
            "Preparing to unpack .../22-texlive-latex-base_2017.20180305-1_all.deb ...\n",
            "Unpacking texlive-latex-base (2017.20180305-1) ...\n",
            "Selecting previously unselected package texlive-latex-recommended.\n",
            "Preparing to unpack .../23-texlive-latex-recommended_2017.20180305-1_all.deb ...\n",
            "Unpacking texlive-latex-recommended (2017.20180305-1) ...\n",
            "Setting up libgs9-common (9.26~dfsg+0-0ubuntu0.18.04.12) ...\n",
            "Setting up libkpathsea6:amd64 (2017.20170613.44572-8ubuntu0.1) ...\n",
            "Setting up libtexlua52:amd64 (2017.20170613.44572-8ubuntu0.1) ...\n",
            "Setting up fonts-droid-fallback (1:6.0.1r16-1.1) ...\n",
            "Setting up libsynctex1:amd64 (2017.20170613.44572-8ubuntu0.1) ...\n",
            "Setting up libptexenc1:amd64 (2017.20170613.44572-8ubuntu0.1) ...\n",
            "Setting up tex-common (6.09) ...\n",
            "debconf: unable to initialize frontend: Dialog\n",
            "debconf: (No usable dialog-like program is installed, so the dialog based frontend cannot be used. at /usr/share/perl5/Debconf/FrontEnd/Dialog.pm line 76.)\n",
            "debconf: falling back to frontend: Readline\n",
            "update-language: texlive-base not installed and configured, doing nothing!\n",
            "Setting up poppler-data (0.4.8-2) ...\n",
            "Setting up fonts-noto-mono (20171026-2) ...\n",
            "Setting up libcupsfilters1:amd64 (1.20.2-0ubuntu3.1) ...\n",
            "Setting up libcupsimage2:amd64 (2.2.7-1ubuntu2.8) ...\n",
            "Setting up libjbig2dec0:amd64 (0.13-6) ...\n",
            "Setting up t1utils (1.41-2) ...\n",
            "Setting up libijs-0.35:amd64 (0.35-13) ...\n",
            "Setting up libpotrace0 (1.14-2) ...\n",
            "Setting up libzzip-0-13:amd64 (0.13.62-3.1ubuntu0.18.04.1) ...\n",
            "Setting up libgs9:amd64 (9.26~dfsg+0-0ubuntu0.18.04.12) ...\n",
            "Setting up libtexluajit2:amd64 (2017.20170613.44572-8ubuntu0.1) ...\n",
            "Setting up fonts-lmodern (2.004.5-3) ...\n",
            "Setting up texlive-binaries (2017.20170613.44572-8ubuntu0.1) ...\n",
            "update-alternatives: using /usr/bin/xdvi-xaw to provide /usr/bin/xdvi.bin (xdvi.bin) in auto mode\n",
            "update-alternatives: using /usr/bin/bibtex.original to provide /usr/bin/bibtex (bibtex) in auto mode\n",
            "Setting up texlive-base (2017.20180305-1) ...\n",
            "mktexlsr: Updating /var/lib/texmf/ls-R-TEXLIVEDIST... \n",
            "mktexlsr: Updating /var/lib/texmf/ls-R-TEXMFMAIN... \n",
            "mktexlsr: Updating /var/lib/texmf/ls-R... \n",
            "mktexlsr: Done.\n",
            "tl-paper: setting paper size for dvips to a4: /var/lib/texmf/dvips/config/config-paper.ps\n",
            "tl-paper: setting paper size for dvipdfmx to a4: /var/lib/texmf/dvipdfmx/dvipdfmx-paper.cfg\n",
            "tl-paper: setting paper size for xdvi to a4: /var/lib/texmf/xdvi/XDvi-paper\n",
            "tl-paper: setting paper size for pdftex to a4: /var/lib/texmf/tex/generic/config/pdftexconfig.tex\n",
            "debconf: unable to initialize frontend: Dialog\n",
            "debconf: (No usable dialog-like program is installed, so the dialog based frontend cannot be used. at /usr/share/perl5/Debconf/FrontEnd/Dialog.pm line 76.)\n",
            "debconf: falling back to frontend: Readline\n",
            "Setting up texlive-latex-base (2017.20180305-1) ...\n",
            "Setting up lmodern (2.004.5-3) ...\n",
            "Setting up texlive-latex-recommended (2017.20180305-1) ...\n",
            "Processing triggers for libc-bin (2.27-3ubuntu1) ...\n",
            "/sbin/ldconfig.real: /usr/local/lib/python3.6/dist-packages/ideep4py/lib/libmkldnn.so.0 is not a symbolic link\n",
            "\n",
            "Processing triggers for man-db (2.8.3-2ubuntu0.1) ...\n",
            "Processing triggers for fontconfig (2.12.6-0ubuntu2) ...\n",
            "Processing triggers for mime-support (3.60ubuntu1) ...\n",
            "Processing triggers for tex-common (6.09) ...\n",
            "debconf: unable to initialize frontend: Dialog\n",
            "debconf: (No usable dialog-like program is installed, so the dialog based frontend cannot be used. at /usr/share/perl5/Debconf/FrontEnd/Dialog.pm line 76.)\n",
            "debconf: falling back to frontend: Readline\n",
            "Running updmap-sys. This may take some time... done.\n",
            "Running mktexlsr /var/lib/texmf ... done.\n",
            "Building format(s) --all.\n",
            "\tThis may take some time... done.\n",
            "Reading package lists... Done\n",
            "Building dependency tree       \n",
            "Reading state information... Done\n",
            "The following package was automatically installed and is no longer required:\n",
            "  libnvidia-common-440\n",
            "Use 'sudo apt autoremove' to remove it.\n",
            "The following additional packages will be installed:\n",
            "  cm-super-minimal pfb2t1c2pfb\n",
            "The following NEW packages will be installed:\n",
            "  cm-super cm-super-minimal pfb2t1c2pfb\n",
            "0 upgraded, 3 newly installed, 0 to remove and 35 not upgraded.\n",
            "Need to get 24.5 MB of archives.\n",
            "After this operation, 59.9 MB of additional disk space will be used.\n",
            "Get:1 http://archive.ubuntu.com/ubuntu bionic/universe amd64 cm-super-minimal all 0.3.4-11 [5,810 kB]\n",
            "Get:2 http://archive.ubuntu.com/ubuntu bionic/universe amd64 pfb2t1c2pfb amd64 0.3-11 [9,342 B]\n",
            "Get:3 http://archive.ubuntu.com/ubuntu bionic/universe amd64 cm-super all 0.3.4-11 [18.7 MB]\n",
            "Fetched 24.5 MB in 2s (13.9 MB/s)\n",
            "debconf: unable to initialize frontend: Dialog\n",
            "debconf: (No usable dialog-like program is installed, so the dialog based frontend cannot be used. at /usr/share/perl5/Debconf/FrontEnd/Dialog.pm line 76, <> line 3.)\n",
            "debconf: falling back to frontend: Readline\n",
            "debconf: unable to initialize frontend: Readline\n",
            "debconf: (This frontend requires a controlling tty.)\n",
            "debconf: falling back to frontend: Teletype\n",
            "dpkg-preconfigure: unable to re-open stdin: \n",
            "Selecting previously unselected package cm-super-minimal.\n",
            "(Reading database ... 151799 files and directories currently installed.)\n",
            "Preparing to unpack .../cm-super-minimal_0.3.4-11_all.deb ...\n",
            "Unpacking cm-super-minimal (0.3.4-11) ...\n",
            "Selecting previously unselected package pfb2t1c2pfb.\n",
            "Preparing to unpack .../pfb2t1c2pfb_0.3-11_amd64.deb ...\n",
            "Unpacking pfb2t1c2pfb (0.3-11) ...\n",
            "Selecting previously unselected package cm-super.\n",
            "Preparing to unpack .../cm-super_0.3.4-11_all.deb ...\n",
            "Unpacking cm-super (0.3.4-11) ...\n",
            "Setting up pfb2t1c2pfb (0.3-11) ...\n",
            "Setting up cm-super-minimal (0.3.4-11) ...\n",
            "Setting up cm-super (0.3.4-11) ...\n",
            "Creating fonts. This may take some time... done.\n",
            "Processing triggers for fontconfig (2.12.6-0ubuntu2) ...\n",
            "Processing triggers for tex-common (6.09) ...\n",
            "debconf: unable to initialize frontend: Dialog\n",
            "debconf: (No usable dialog-like program is installed, so the dialog based frontend cannot be used. at /usr/share/perl5/Debconf/FrontEnd/Dialog.pm line 76.)\n",
            "debconf: falling back to frontend: Readline\n",
            "Running mktexlsr. This may take some time... done.\n",
            "Running updmap-sys. This may take some time... done.\n",
            "Running mktexlsr /var/lib/texmf ... done.\n",
            "Processing triggers for man-db (2.8.3-2ubuntu0.1) ...\n",
            "Reading package lists... Done\n",
            "Building dependency tree       \n",
            "Reading state information... Done\n",
            "The following package was automatically installed and is no longer required:\n",
            "  libnvidia-common-440\n",
            "Use 'sudo apt autoremove' to remove it.\n",
            "The following additional packages will be installed:\n",
            "  fonts-lato fonts-texgyre ghostscript gsfonts javascript-common libjs-jquery\n",
            "  libruby2.5 preview-latex-style rake ruby ruby-did-you-mean ruby-minitest\n",
            "  ruby-net-telnet ruby-power-assert ruby-test-unit ruby2.5\n",
            "  rubygems-integration tex-gyre texlive-pictures texlive-plain-generic tipa\n",
            "Suggested packages:\n",
            "  ghostscript-x apache2 | lighttpd | httpd ri ruby-dev bundler\n",
            "  texlive-fonts-recommended-doc python-pygments icc-profiles\n",
            "  libfile-which-perl libspreadsheet-parseexcel-perl texlive-latex-extra-doc\n",
            "  dot2tex prerex ruby-tcltk | libtcltk-ruby texlive-pictures-doc vprerex\n",
            "The following NEW packages will be installed:\n",
            "  dvipng fonts-lato fonts-texgyre ghostscript gsfonts javascript-common\n",
            "  libjs-jquery libruby2.5 preview-latex-style rake ruby ruby-did-you-mean\n",
            "  ruby-minitest ruby-net-telnet ruby-power-assert ruby-test-unit ruby2.5\n",
            "  rubygems-integration tex-gyre texlive-fonts-recommended texlive-latex-extra\n",
            "  texlive-pictures texlive-plain-generic tipa\n",
            "0 upgraded, 24 newly installed, 0 to remove and 35 not upgraded.\n",
            "Need to get 69.8 MB of archives.\n",
            "After this operation, 221 MB of additional disk space will be used.\n",
            "Get:1 http://archive.ubuntu.com/ubuntu bionic/main amd64 fonts-lato all 2.0-2 [2,698 kB]\n",
            "Get:2 http://archive.ubuntu.com/ubuntu bionic-updates/main amd64 ghostscript amd64 9.26~dfsg+0-0ubuntu0.18.04.12 [50.9 kB]\n",
            "Get:3 http://archive.ubuntu.com/ubuntu bionic/universe amd64 dvipng amd64 1.15-1 [78.2 kB]\n",
            "Get:4 http://archive.ubuntu.com/ubuntu bionic/universe amd64 fonts-texgyre all 20160520-1 [8,761 kB]\n",
            "Get:5 http://archive.ubuntu.com/ubuntu bionic/main amd64 gsfonts all 1:8.11+urwcyr1.0.7~pre44-4.4 [3,120 kB]\n",
            "Get:6 http://archive.ubuntu.com/ubuntu bionic/main amd64 javascript-common all 11 [6,066 B]\n",
            "Get:7 http://archive.ubuntu.com/ubuntu bionic/main amd64 libjs-jquery all 3.2.1-1 [152 kB]\n",
            "Get:8 http://archive.ubuntu.com/ubuntu bionic/main amd64 rubygems-integration all 1.11 [4,994 B]\n",
            "Get:9 http://archive.ubuntu.com/ubuntu bionic-updates/main amd64 ruby2.5 amd64 2.5.1-1ubuntu1.6 [48.6 kB]\n",
            "Get:10 http://archive.ubuntu.com/ubuntu bionic/main amd64 ruby amd64 1:2.5.1 [5,712 B]\n",
            "Get:11 http://archive.ubuntu.com/ubuntu bionic-updates/main amd64 rake all 12.3.1-1ubuntu0.1 [44.9 kB]\n",
            "Get:12 http://archive.ubuntu.com/ubuntu bionic/main amd64 ruby-did-you-mean all 1.2.0-2 [9,700 B]\n",
            "Get:13 http://archive.ubuntu.com/ubuntu bionic/main amd64 ruby-minitest all 5.10.3-1 [38.6 kB]\n",
            "Get:14 http://archive.ubuntu.com/ubuntu bionic/main amd64 ruby-net-telnet all 0.1.1-2 [12.6 kB]\n",
            "Get:15 http://archive.ubuntu.com/ubuntu bionic/main amd64 ruby-power-assert all 0.3.0-1 [7,952 B]\n",
            "Get:16 http://archive.ubuntu.com/ubuntu bionic/main amd64 ruby-test-unit all 3.2.5-1 [61.1 kB]\n",
            "Get:17 http://archive.ubuntu.com/ubuntu bionic-updates/main amd64 libruby2.5 amd64 2.5.1-1ubuntu1.6 [3,069 kB]\n",
            "Get:18 http://archive.ubuntu.com/ubuntu bionic/main amd64 preview-latex-style all 11.91-1ubuntu1 [185 kB]\n",
            "Get:19 http://archive.ubuntu.com/ubuntu bionic/universe amd64 tex-gyre all 20160520-1 [4,998 kB]\n",
            "Get:20 http://archive.ubuntu.com/ubuntu bionic/universe amd64 texlive-fonts-recommended all 2017.20180305-1 [5,262 kB]\n",
            "Get:21 http://archive.ubuntu.com/ubuntu bionic/universe amd64 texlive-pictures all 2017.20180305-1 [4,026 kB]\n",
            "Get:22 http://archive.ubuntu.com/ubuntu bionic/universe amd64 texlive-latex-extra all 2017.20180305-2 [10.6 MB]\n",
            "Get:23 http://archive.ubuntu.com/ubuntu bionic/universe amd64 texlive-plain-generic all 2017.20180305-2 [23.6 MB]\n",
            "Get:24 http://archive.ubuntu.com/ubuntu bionic/universe amd64 tipa all 2:1.3-20 [2,978 kB]\n",
            "Fetched 69.8 MB in 3s (20.4 MB/s)\n",
            "debconf: unable to initialize frontend: Dialog\n",
            "debconf: (No usable dialog-like program is installed, so the dialog based frontend cannot be used. at /usr/share/perl5/Debconf/FrontEnd/Dialog.pm line 76, <> line 24.)\n",
            "debconf: falling back to frontend: Readline\n",
            "debconf: unable to initialize frontend: Readline\n",
            "debconf: (This frontend requires a controlling tty.)\n",
            "debconf: falling back to frontend: Teletype\n",
            "dpkg-preconfigure: unable to re-open stdin: \n",
            "Selecting previously unselected package fonts-lato.\n",
            "(Reading database ... 152260 files and directories currently installed.)\n",
            "Preparing to unpack .../00-fonts-lato_2.0-2_all.deb ...\n",
            "Unpacking fonts-lato (2.0-2) ...\n",
            "Selecting previously unselected package ghostscript.\n",
            "Preparing to unpack .../01-ghostscript_9.26~dfsg+0-0ubuntu0.18.04.12_amd64.deb ...\n",
            "Unpacking ghostscript (9.26~dfsg+0-0ubuntu0.18.04.12) ...\n",
            "Selecting previously unselected package dvipng.\n",
            "Preparing to unpack .../02-dvipng_1.15-1_amd64.deb ...\n",
            "Unpacking dvipng (1.15-1) ...\n",
            "Selecting previously unselected package fonts-texgyre.\n",
            "Preparing to unpack .../03-fonts-texgyre_20160520-1_all.deb ...\n",
            "Unpacking fonts-texgyre (20160520-1) ...\n",
            "Selecting previously unselected package gsfonts.\n",
            "Preparing to unpack .../04-gsfonts_1%3a8.11+urwcyr1.0.7~pre44-4.4_all.deb ...\n",
            "Unpacking gsfonts (1:8.11+urwcyr1.0.7~pre44-4.4) ...\n",
            "Selecting previously unselected package javascript-common.\n",
            "Preparing to unpack .../05-javascript-common_11_all.deb ...\n",
            "Unpacking javascript-common (11) ...\n",
            "Selecting previously unselected package libjs-jquery.\n",
            "Preparing to unpack .../06-libjs-jquery_3.2.1-1_all.deb ...\n",
            "Unpacking libjs-jquery (3.2.1-1) ...\n",
            "Selecting previously unselected package rubygems-integration.\n",
            "Preparing to unpack .../07-rubygems-integration_1.11_all.deb ...\n",
            "Unpacking rubygems-integration (1.11) ...\n",
            "Selecting previously unselected package ruby2.5.\n",
            "Preparing to unpack .../08-ruby2.5_2.5.1-1ubuntu1.6_amd64.deb ...\n",
            "Unpacking ruby2.5 (2.5.1-1ubuntu1.6) ...\n",
            "Selecting previously unselected package ruby.\n",
            "Preparing to unpack .../09-ruby_1%3a2.5.1_amd64.deb ...\n",
            "Unpacking ruby (1:2.5.1) ...\n",
            "Selecting previously unselected package rake.\n",
            "Preparing to unpack .../10-rake_12.3.1-1ubuntu0.1_all.deb ...\n",
            "Unpacking rake (12.3.1-1ubuntu0.1) ...\n",
            "Selecting previously unselected package ruby-did-you-mean.\n",
            "Preparing to unpack .../11-ruby-did-you-mean_1.2.0-2_all.deb ...\n",
            "Unpacking ruby-did-you-mean (1.2.0-2) ...\n",
            "Selecting previously unselected package ruby-minitest.\n",
            "Preparing to unpack .../12-ruby-minitest_5.10.3-1_all.deb ...\n",
            "Unpacking ruby-minitest (5.10.3-1) ...\n",
            "Selecting previously unselected package ruby-net-telnet.\n",
            "Preparing to unpack .../13-ruby-net-telnet_0.1.1-2_all.deb ...\n",
            "Unpacking ruby-net-telnet (0.1.1-2) ...\n",
            "Selecting previously unselected package ruby-power-assert.\n",
            "Preparing to unpack .../14-ruby-power-assert_0.3.0-1_all.deb ...\n",
            "Unpacking ruby-power-assert (0.3.0-1) ...\n",
            "Selecting previously unselected package ruby-test-unit.\n",
            "Preparing to unpack .../15-ruby-test-unit_3.2.5-1_all.deb ...\n",
            "Unpacking ruby-test-unit (3.2.5-1) ...\n",
            "Selecting previously unselected package libruby2.5:amd64.\n",
            "Preparing to unpack .../16-libruby2.5_2.5.1-1ubuntu1.6_amd64.deb ...\n",
            "Unpacking libruby2.5:amd64 (2.5.1-1ubuntu1.6) ...\n",
            "Selecting previously unselected package preview-latex-style.\n",
            "Preparing to unpack .../17-preview-latex-style_11.91-1ubuntu1_all.deb ...\n",
            "Unpacking preview-latex-style (11.91-1ubuntu1) ...\n",
            "Selecting previously unselected package tex-gyre.\n",
            "Preparing to unpack .../18-tex-gyre_20160520-1_all.deb ...\n",
            "Unpacking tex-gyre (20160520-1) ...\n",
            "Selecting previously unselected package texlive-fonts-recommended.\n",
            "Preparing to unpack .../19-texlive-fonts-recommended_2017.20180305-1_all.deb ...\n",
            "Unpacking texlive-fonts-recommended (2017.20180305-1) ...\n",
            "Selecting previously unselected package texlive-pictures.\n",
            "Preparing to unpack .../20-texlive-pictures_2017.20180305-1_all.deb ...\n",
            "Unpacking texlive-pictures (2017.20180305-1) ...\n",
            "Selecting previously unselected package texlive-latex-extra.\n",
            "Preparing to unpack .../21-texlive-latex-extra_2017.20180305-2_all.deb ...\n",
            "Unpacking texlive-latex-extra (2017.20180305-2) ...\n",
            "Selecting previously unselected package texlive-plain-generic.\n",
            "Preparing to unpack .../22-texlive-plain-generic_2017.20180305-2_all.deb ...\n",
            "Unpacking texlive-plain-generic (2017.20180305-2) ...\n",
            "Selecting previously unselected package tipa.\n",
            "Preparing to unpack .../23-tipa_2%3a1.3-20_all.deb ...\n",
            "Unpacking tipa (2:1.3-20) ...\n",
            "Setting up libjs-jquery (3.2.1-1) ...\n",
            "Setting up gsfonts (1:8.11+urwcyr1.0.7~pre44-4.4) ...\n",
            "Setting up texlive-pictures (2017.20180305-1) ...\n",
            "Setting up tex-gyre (20160520-1) ...\n",
            "Setting up tipa (2:1.3-20) ...\n",
            "Regenerating '/var/lib/texmf/fmtutil.cnf-DEBIAN'... done.\n",
            "Regenerating '/var/lib/texmf/fmtutil.cnf-TEXLIVEDIST'... done.\n",
            "update-fmtutil has updated the following file(s):\n",
            "\t/var/lib/texmf/fmtutil.cnf-DEBIAN\n",
            "\t/var/lib/texmf/fmtutil.cnf-TEXLIVEDIST\n",
            "If you want to activate the changes in the above file(s),\n",
            "you should run fmtutil-sys or fmtutil.\n",
            "Setting up preview-latex-style (11.91-1ubuntu1) ...\n",
            "Setting up ghostscript (9.26~dfsg+0-0ubuntu0.18.04.12) ...\n",
            "Setting up fonts-texgyre (20160520-1) ...\n",
            "Setting up fonts-lato (2.0-2) ...\n",
            "Setting up ruby-did-you-mean (1.2.0-2) ...\n",
            "Setting up ruby-net-telnet (0.1.1-2) ...\n",
            "Setting up rubygems-integration (1.11) ...\n",
            "Setting up javascript-common (11) ...\n",
            "Setting up texlive-fonts-recommended (2017.20180305-1) ...\n",
            "Setting up texlive-plain-generic (2017.20180305-2) ...\n",
            "Setting up ruby-minitest (5.10.3-1) ...\n",
            "Setting up ruby-power-assert (0.3.0-1) ...\n",
            "Setting up texlive-latex-extra (2017.20180305-2) ...\n",
            "Setting up dvipng (1.15-1) ...\n",
            "Setting up rake (12.3.1-1ubuntu0.1) ...\n",
            "Setting up ruby2.5 (2.5.1-1ubuntu1.6) ...\n",
            "Setting up ruby (1:2.5.1) ...\n",
            "Setting up ruby-test-unit (3.2.5-1) ...\n",
            "Setting up libruby2.5:amd64 (2.5.1-1ubuntu1.6) ...\n",
            "Processing triggers for tex-common (6.09) ...\n",
            "debconf: unable to initialize frontend: Dialog\n",
            "debconf: (No usable dialog-like program is installed, so the dialog based frontend cannot be used. at /usr/share/perl5/Debconf/FrontEnd/Dialog.pm line 76.)\n",
            "debconf: falling back to frontend: Readline\n",
            "Running mktexlsr. This may take some time... done.\n",
            "Running updmap-sys. This may take some time... done.\n",
            "Running mktexlsr /var/lib/texmf ... done.\n",
            "Processing triggers for libc-bin (2.27-3ubuntu1) ...\n",
            "/sbin/ldconfig.real: /usr/local/lib/python3.6/dist-packages/ideep4py/lib/libmkldnn.so.0 is not a symbolic link\n",
            "\n",
            "Processing triggers for man-db (2.8.3-2ubuntu0.1) ...\n",
            "Processing triggers for fontconfig (2.12.6-0ubuntu2) ...\n",
            "--2020-07-30 22:37:19--  http://mirrors.ctan.org/macros/latex/contrib/type1cm.zip\n",
            "Resolving mirrors.ctan.org (mirrors.ctan.org)... 5.35.249.60\n",
            "Connecting to mirrors.ctan.org (mirrors.ctan.org)|5.35.249.60|:80... connected.\n",
            "HTTP request sent, awaiting response... 302 Found\n",
            "Location: http://ftp.math.purdue.edu/mirrors/ctan.org/macros/latex/contrib/type1cm.zip [following]\n",
            "--2020-07-30 22:37:20--  http://ftp.math.purdue.edu/mirrors/ctan.org/macros/latex/contrib/type1cm.zip\n",
            "Resolving ftp.math.purdue.edu (ftp.math.purdue.edu)... 128.210.40.73\n",
            "Connecting to ftp.math.purdue.edu (ftp.math.purdue.edu)|128.210.40.73|:80... connected.\n",
            "HTTP request sent, awaiting response... 200 OK\n",
            "Length: 328566 (321K) [application/zip]\n",
            "Saving to: ‘type1cm.zip’\n",
            "\n",
            "type1cm.zip         100%[===================>] 320.87K   873KB/s    in 0.4s    \n",
            "\n",
            "2020-07-30 22:37:20 (873 KB/s) - ‘type1cm.zip’ saved [328566/328566]\n",
            "\n",
            "Archive:  type1cm.zip\n",
            "   creating: /tmp/type1cm/type1cm/\n",
            "  inflating: /tmp/type1cm/type1cm/type1cm.fdd  \n",
            "  inflating: /tmp/type1cm/type1cm/type1cm.ins  \n",
            "  inflating: /tmp/type1cm/type1cm/type1cm.txt  \n",
            "  inflating: /tmp/type1cm/type1cm/type1cm-doc.pdf  \n",
            "  inflating: /tmp/type1cm/type1cm/type1cm-doc.tex  \n",
            "This is pdfTeX, Version 3.14159265-2.6-1.40.18 (TeX Live 2017/Debian) (preloaded format=latex)\n",
            " restricted \\write18 enabled.\n",
            "entering extended mode\n",
            "(./type1cm.ins\n",
            "LaTeX2e <2017-04-15>\n",
            "Babel <3.18> and hyphenation patterns for 3 language(s) loaded.\n",
            "(/usr/share/texlive/texmf-dist/tex/latex/base/docstrip.tex\n",
            "Utility: `docstrip' 2.5e <2014/09/29>\n",
            "English documentation    <2017/03/13>\n",
            "\n",
            "**********************************************************\n",
            "* This program converts documented macro-files into fast *\n",
            "* loadable files by stripping off (nearly) all comments! *\n",
            "**********************************************************\n",
            "\n",
            "********************************************************\n",
            "* No Configuration file found, using default settings. *\n",
            "********************************************************\n",
            "\n",
            "(./type1cm.ins\n",
            "\n",
            "Generating file(s) ./type1cm.sty \n",
            "\n",
            "Processing file type1cm.fdd (package,ams) -> type1cm.sty\n",
            "Lines  processed: 410\n",
            "Comments removed: 25\n",
            "Comments  passed: 7\n",
            "Codelines passed: 263\n",
            "\n",
            ") ) )\n",
            "No pages of output.\n",
            "Transcript written on type1cm.log.\n",
            "texhash: Updating /usr/local/share/texmf/ls-R... \n",
            "texhash: Updating /var/lib/texmf/ls-R-TEXLIVEDIST... \n",
            "texhash: Updating /var/lib/texmf/ls-R-TEXMFMAIN... \n",
            "texhash: Updating /var/lib/texmf/ls-R... \n",
            "texhash: Done.\n"
          ],
          "name": "stdout"
        }
      ]
    },
    {
      "cell_type": "code",
      "metadata": {
        "id": "jh0HNHLzOU7f",
        "colab_type": "code",
        "colab": {
          "base_uri": "https://localhost:8080/",
          "height": 34
        },
        "outputId": "b0c2fb16-e068-4099-85df-298d11728391"
      },
      "source": [
        "# extracted data:\n",
        "smss = pd.read_csv(path_sm+'/all_skymapper_data.csv.gz',compression='gzip')\n",
        "smss.shape"
      ],
      "execution_count": null,
      "outputs": [
        {
          "output_type": "execute_result",
          "data": {
            "text/plain": [
              "(617101, 104)"
            ]
          },
          "metadata": {
            "tags": []
          },
          "execution_count": 48
        }
      ]
    },
    {
      "cell_type": "code",
      "metadata": {
        "id": "9X2LdbEeor33",
        "colab_type": "code",
        "colab": {
          "base_uri": "https://localhost:8080/",
          "height": 348
        },
        "outputId": "afb9dee4-232b-4f91-d07b-b372384ec4af"
      },
      "source": [
        "# plotting the extinction values:\n",
        "fig = plt.figure(1,figsize=(2*3.4, 2*3.4*3/4.))\n",
        "plt.hist(smss['ebmv_sfd'],histtype='step',bins=500,log=True)\n",
        "plt.xlabel('E(B-V) from Schlegel+1998')\n",
        "plt.ylabel('Number of Sources')\n",
        "plt.axvline(x=1.0,ls='--',color='r',label='Prediction criteria')\n",
        "plt.axvline(x=0.5,ls='--',color='g',label='Train criteria')\n",
        "plt.xlim(0,10)\n",
        "plt.legend()\n",
        "plt.minorticks_on()\n",
        "plt.xticks(fontsize=16)\n",
        "plt.yticks(fontsize=16)\n",
        "plt.savefig('gdrive/My Drive/Colab Notebooks/figures/smss_extinction_values_cuts.pdf',dpi=300,bbox_inches='tight',padding=0)\n",
        "plt.show()"
      ],
      "execution_count": null,
      "outputs": [
        {
          "output_type": "display_data",
          "data": {
            "image/png": "[encoded data removed]",
            "text/plain": [
              "<Figure size 489.6x367.2 with 1 Axes>"
            ]
          },
          "metadata": {
            "tags": []
          }
        }
      ]
    },
    {
      "cell_type": "code",
      "metadata": {
        "id": "nPL9VnRKz2Dv",
        "colab_type": "code",
        "colab": {
          "base_uri": "https://localhost:8080/",
          "height": 34
        },
        "outputId": "0277093b-8d96-4c43-eb23-922a40aceb25"
      },
      "source": [
        "# selecting objects outside the galactic plane:\n",
        "smss = smss[(abs(smss['glat'] > 20.0)) \n",
        "            & (smss['ebmv_sfd'] < 1.0)\n",
        "            ]\n",
        "smss.shape"
      ],
      "execution_count": null,
      "outputs": [
        {
          "output_type": "execute_result",
          "data": {
            "text/plain": [
              "(117471, 104)"
            ]
          },
          "metadata": {
            "tags": []
          },
          "execution_count": 51
        }
      ]
    },
    {
      "cell_type": "code",
      "metadata": {
        "id": "jSr4g5QoTxEC",
        "colab_type": "code",
        "colab": {}
      },
      "source": [
        "# saving coordinates for cross-matching:\n",
        "#smss[['object_id','raj2000','dej2000']].to_csv(path_sm+'smss_red_data_coords.csv',index=False)"
      ],
      "execution_count": null,
      "outputs": []
    },
    {
      "cell_type": "code",
      "metadata": {
        "id": "UryvKQ_Qf7QN",
        "colab_type": "code",
        "colab": {
          "base_uri": "https://localhost:8080/",
          "height": 753
        },
        "outputId": "84befc61-a485-4904-c45e-a4c16f13d98e"
      },
      "source": [
        "fig = plt.figure(1, figsize=(1*3.4, 3*3.4*3/4.))\n",
        "ax1=plt.subplot(311)\n",
        "ax1.hist(smss['gaia_dr2_dist1'],histtype='step',bins=500,log=True)\n",
        "ax1.set_xlabel('Gaia DR2 sep (arcsec)')\n",
        "ax1.set_ylabel('Number of Sources')\n",
        "ax1.axvline(x=2.0,ls='--',color='r',label='cross-match criteria')\n",
        "ax1.legend(prop={'size':12})\n",
        "ax1.minorticks_on()\n",
        "\n",
        "ax2=plt.subplot(312)\n",
        "ax2.hist(smss['allwise_dist'],histtype='step',bins=500,log=True)\n",
        "ax2.set_xlabel('AllWISE sep (arcsec)')\n",
        "ax2.set_ylabel('Number of Sources')\n",
        "ax2.axvline(x=4.0,ls='--',color='r')\n",
        "ax2.minorticks_on()\n",
        "\n",
        "ax3=plt.subplot(313)\n",
        "ax3.hist(smss['twomass_dist1'],histtype='step',bins=500,log=True)\n",
        "ax3.set_xlabel('2MASS sep (arcsec)')\n",
        "ax3.set_ylabel('Number of Sources')\n",
        "ax3.axvline(x=4.0,ls='--',color='r')\n",
        "ax3.minorticks_on()\n",
        "\n",
        "plt.tight_layout()\n",
        "\n",
        "#plt.savefig('gdrive/My Drive/Colab Notebooks/figures/smss_xmatch_values_cuts.pdf',dpi=300,bbox_inches='tight',padding=0)\n",
        "plt.show()"
      ],
      "execution_count": null,
      "outputs": [
        {
          "output_type": "stream",
          "text": [
            "/usr/local/lib/python3.6/dist-packages/numpy/lib/histograms.py:839: RuntimeWarning: invalid value encountered in greater_equal\n",
            "  keep = (tmp_a >= first_edge)\n",
            "/usr/local/lib/python3.6/dist-packages/numpy/lib/histograms.py:840: RuntimeWarning: invalid value encountered in less_equal\n",
            "  keep &= (tmp_a <= last_edge)\n",
            "/usr/local/lib/python3.6/dist-packages/numpy/lib/histograms.py:839: RuntimeWarning: invalid value encountered in greater_equal\n",
            "  keep = (tmp_a >= first_edge)\n",
            "/usr/local/lib/python3.6/dist-packages/numpy/lib/histograms.py:840: RuntimeWarning: invalid value encountered in less_equal\n",
            "  keep &= (tmp_a <= last_edge)\n",
            "/usr/local/lib/python3.6/dist-packages/numpy/lib/histograms.py:839: RuntimeWarning: invalid value encountered in greater_equal\n",
            "  keep = (tmp_a >= first_edge)\n",
            "/usr/local/lib/python3.6/dist-packages/numpy/lib/histograms.py:840: RuntimeWarning: invalid value encountered in less_equal\n",
            "  keep &= (tmp_a <= last_edge)\n"
          ],
          "name": "stderr"
        },
        {
          "output_type": "display_data",
          "data": {
            "image/png": "[encoded data removed]",
            "text/plain": [
              "<Figure size 244.8x550.8 with 3 Axes>"
            ]
          },
          "metadata": {
            "tags": []
          }
        }
      ]
    },
    {
      "cell_type": "markdown",
      "metadata": {
        "id": "B8PPm6SLRKUQ",
        "colab_type": "text"
      },
      "source": [
        "# Merging to obtain all columns:"
      ]
    },
    {
      "cell_type": "code",
      "metadata": {
        "id": "_pWx06mlRsXv",
        "colab_type": "code",
        "colab": {}
      },
      "source": [
        "def merger(df1,df2,r_col,l_col,method):\n",
        "  df3 = df1.merge(df2,left_on=l_col,right_on=r_col,how=method,suffixes=('','_y'))\n",
        "  df3 = df3.drop(df3.filter(regex='_y').columns, axis=1)\n",
        "  df3 = df3.drop_duplicates(subset=l_col)\n",
        "  return df3"
      ],
      "execution_count": null,
      "outputs": []
    },
    {
      "cell_type": "code",
      "metadata": {
        "id": "gaQkiRgnILxb",
        "colab_type": "code",
        "colab": {}
      },
      "source": [
        "smss_gdr2_topcat = pd.read_csv(path_sm+'smss_red_gaiadr2_topcat.csv')\n",
        "smss_gdr2_topcat.shape"
      ],
      "execution_count": null,
      "outputs": []
    },
    {
      "cell_type": "code",
      "metadata": {
        "id": "Rw5LIYuvSOLD",
        "colab_type": "code",
        "colab": {}
      },
      "source": [
        "smss_aw = pd.read_csv(path_sm+'smss_red_allwise.csv',low_memory=False)\n",
        "smss_aw = smss_aw.rename(columns={'ph_qual':'ph_qual_aw'})\n",
        "smss_tm = pd.read_csv(path_sm+'smss_red_twomass.csv',low_memory=False)\n",
        "smss_tm = smss_tm.rename(columns={'ph_qual':'ph_qual_tm'})\n",
        "\n",
        "# need to take out dupes because I matched to Gaia using CDS X-Match...\n",
        "smss_gdr2 = pd.read_csv(path_sm+'smss_red_gaiadr2.csv',low_memory=False)\n",
        "smss_gdr2 = smss_gdr2.sort_values('angDist', ascending=True).drop_duplicates('object_id') # sorts data to select nearest match from duplicates\n",
        "\n",
        "smss_gdr2_distances = pd.read_csv(path_sm+'smss_red_data_distances.csv',low_memory=False)\n",
        "\n",
        "print(smss_aw.shape)\n",
        "print(smss_tm.shape)\n",
        "print(smss_gdr2.shape)"
      ],
      "execution_count": null,
      "outputs": []
    },
    {
      "cell_type": "code",
      "metadata": {
        "id": "kNl9gxWBoKHF",
        "colab_type": "code",
        "colab": {
          "base_uri": "https://localhost:8080/",
          "height": 52
        },
        "outputId": "c9a6afb9-e3ef-4cd4-efb8-3e6a5d99813d"
      },
      "source": [
        "# merge on to obtain all columns:\n",
        "merger_test = merger(smss_gdr2_distances,smss_gdr2_topcat,l_col='object_id',r_col='object_id',method='inner')\n",
        "merger_test_nodupes = merger_test.sort_values('angDist', ascending=True).drop_duplicates('object_id')\n",
        "print(merger_test.shape)\n",
        "print(merger_test_nodupes.shape)"
      ],
      "execution_count": null,
      "outputs": [
        {
          "output_type": "stream",
          "text": [
            "(574490, 113)\n",
            "(574490, 113)\n"
          ],
          "name": "stdout"
        }
      ]
    },
    {
      "cell_type": "code",
      "metadata": {
        "id": "K7QaMn7R31jq",
        "colab_type": "code",
        "colab": {}
      },
      "source": [
        "#smss_gdr2[['ra','dec']].to_csv(path_sm+'smss_red_gaiadr2_coords.tsv',sep='\\t',header=False,index=False)\n",
        "#smss_gdr2[['object_id','ra','dec']].to_csv(path_sm+'smss_red_gaiadr2_coords.csv',index=False)"
      ],
      "execution_count": null,
      "outputs": []
    },
    {
      "cell_type": "code",
      "metadata": {
        "id": "pvsBog0Wh-K2",
        "colab_type": "code",
        "colab": {
          "base_uri": "https://localhost:8080/",
          "height": 69
        },
        "outputId": "ebf07edb-35fc-43b6-c7d3-672aaa657a0b"
      },
      "source": [
        "smss_merged1 = merger(smss,merger_test,r_col='object_id',l_col='object_id',method='left')\n",
        "print(smss_merged1.shape)\n",
        "\n",
        "smss_merged2 = merger(smss_merged1,smss_aw,r_col='t1_object_id',l_col='object_id',method='left')\n",
        "print(smss_merged2.shape)\n",
        "\n",
        "smss_merged3 = merger(smss_merged2,smss_tm,r_col='t1_object_id',l_col='object_id',method='left')\n",
        "print(smss_merged3.shape)"
      ],
      "execution_count": null,
      "outputs": [
        {
          "output_type": "stream",
          "text": [
            "(117471, 213)\n",
            "(117471, 309)\n",
            "(117471, 363)\n"
          ],
          "name": "stdout"
        }
      ]
    },
    {
      "cell_type": "code",
      "metadata": {
        "id": "liSknf5rd20Q",
        "colab_type": "code",
        "colab": {
          "base_uri": "https://localhost:8080/",
          "height": 69
        },
        "outputId": "daf00f8a-ede9-4957-ac83-bcd9fbe59696"
      },
      "source": [
        "# allwise cuts:\n",
        "\n",
        "snr = 10.0\n",
        "\n",
        "data_clean1 = smss_merged3[smss_merged3['ph_qual_aw'].str.startswith(('AA'),na=False)]\n",
        "print(data_clean1.shape)\n",
        "data_clean2 = data_clean1[data_clean1['ext_flg'] == 0.0]\n",
        "print(data_clean2.shape)\n",
        "data_clean3 = data_clean2[data_clean2['cc_flags'].str.startswith(('00'),na=False) \n",
        "                          & (data_clean2['w1snr'] > snr) \n",
        "                          & (data_clean2['w2snr'] > snr)\n",
        "                          ]\n",
        "print(data_clean3.shape)"
      ],
      "execution_count": null,
      "outputs": [
        {
          "output_type": "stream",
          "text": [
            "(101091, 363)\n",
            "(98799, 363)\n",
            "(92152, 363)\n"
          ],
          "name": "stdout"
        }
      ]
    },
    {
      "cell_type": "code",
      "metadata": {
        "id": "PLgrlVaSePtZ",
        "colab_type": "code",
        "colab": {
          "base_uri": "https://localhost:8080/",
          "height": 52
        },
        "outputId": "8980afab-e3f5-4bf0-f183-2b4c77bdf099"
      },
      "source": [
        "# twomass cuts:\n",
        "data_clean4 = data_clean3[(data_clean3['ph_qual_tm'] == 'AAA') \n",
        "                          & (data_clean3['cc_flg'] == '000') \n",
        "                          & (data_clean3['gal_contam'] == 0)\n",
        "                          ]\n",
        "print(data_clean4.shape)\n",
        "data_clean5 = data_clean4[(data_clean4['j_snr'] > snr) \n",
        "                          & (data_clean4['h_snr'] > snr) \n",
        "                          & (data_clean4['k_snr'] > snr)\n",
        "                          ]\n",
        "print(data_clean5.shape)"
      ],
      "execution_count": null,
      "outputs": [
        {
          "output_type": "stream",
          "text": [
            "(36360, 363)\n",
            "(36262, 363)\n"
          ],
          "name": "stdout"
        }
      ]
    },
    {
      "cell_type": "code",
      "metadata": {
        "id": "l3FOLwwQWjHp",
        "colab_type": "code",
        "colab": {}
      },
      "source": [
        "# saving as compressed file becaues it's huge:\n",
        "data_clean5.to_csv(path_sm+'smss_merged3.csv.gz',compression='gzip',index=False)"
      ],
      "execution_count": null,
      "outputs": []
    },
    {
      "cell_type": "markdown",
      "metadata": {
        "id": "M1cnULWBdMlx",
        "colab_type": "text"
      },
      "source": [
        "# Beginning to cut for the Training Set\n",
        "\n",
        "Start here for extinction cuts, gaia parallax cuts, and quality cuts"
      ]
    },
    {
      "cell_type": "code",
      "metadata": {
        "id": "m2WMq3TXagwr",
        "colab_type": "code",
        "colab": {}
      },
      "source": [
        "smss_merged3 = pd.read_csv(path_sm+'smss_merged3.csv.gz',compression='gzip',low_memory=False)"
      ],
      "execution_count": null,
      "outputs": []
    },
    {
      "cell_type": "code",
      "metadata": {
        "id": "hBcnDvJZdeSf",
        "colab_type": "code",
        "colab": {
          "base_uri": "https://localhost:8080/",
          "height": 34
        },
        "outputId": "5cbaae2d-317d-4441-b4ed-c2654b160b46"
      },
      "source": [
        "smss_merged3_dered = smss_merged3[smss_merged3['ebmv_sfd'] < 0.5]\n",
        "smss_merged3_dered.shape"
      ],
      "execution_count": null,
      "outputs": [
        {
          "output_type": "execute_result",
          "data": {
            "text/plain": [
              "(34187, 363)"
            ]
          },
          "metadata": {
            "tags": []
          },
          "execution_count": 8
        }
      ]
    },
    {
      "cell_type": "code",
      "metadata": {
        "id": "YDnb04iFKyF-",
        "colab_type": "code",
        "colab": {
          "base_uri": "https://localhost:8080/",
          "height": 34
        },
        "outputId": "8e3c8b61-ce7c-4b1d-fc68-cb78c221a81c"
      },
      "source": [
        "len(smss_merged3_dered)/len(smss_merged3)"
      ],
      "execution_count": null,
      "outputs": [
        {
          "output_type": "execute_result",
          "data": {
            "text/plain": [
              "0.9427775632893939"
            ]
          },
          "metadata": {
            "tags": []
          },
          "execution_count": 9
        }
      ]
    },
    {
      "cell_type": "code",
      "metadata": {
        "id": "8WCBPltidr2t",
        "colab_type": "code",
        "colab": {
          "base_uri": "https://localhost:8080/",
          "height": 34
        },
        "outputId": "971620d2-c4f1-4d1c-a3e1-51e6e32a7979"
      },
      "source": [
        "# selecting positive parallaxes:\n",
        "pos_par = smss_merged3_dered[smss_merged3_dered['parallax'] > 0.0]\n",
        "pos_par.shape"
      ],
      "execution_count": null,
      "outputs": [
        {
          "output_type": "execute_result",
          "data": {
            "text/plain": [
              "(30624, 363)"
            ]
          },
          "metadata": {
            "tags": []
          },
          "execution_count": 10
        }
      ]
    },
    {
      "cell_type": "code",
      "metadata": {
        "id": "wpTa-Qg9K79o",
        "colab_type": "code",
        "colab": {
          "base_uri": "https://localhost:8080/",
          "height": 34
        },
        "outputId": "33c7594b-13eb-482e-d0e4-59ec73cca511"
      },
      "source": [
        "len(pos_par)/len(smss_merged3_dered)"
      ],
      "execution_count": null,
      "outputs": [
        {
          "output_type": "execute_result",
          "data": {
            "text/plain": [
              "0.8957790973176939"
            ]
          },
          "metadata": {
            "tags": []
          },
          "execution_count": 11
        }
      ]
    },
    {
      "cell_type": "code",
      "metadata": {
        "id": "ZMfnk9Bco0BN",
        "colab_type": "code",
        "colab": {
          "base_uri": "https://localhost:8080/",
          "height": 34
        },
        "outputId": "77e6a34f-e165-42f7-e9b6-278c591ad225"
      },
      "source": [
        "sigma_cut = pos_par[pos_par['parallax'] > 3*pos_par['parallax_error']]\n",
        "sigma_cut.shape"
      ],
      "execution_count": null,
      "outputs": [
        {
          "output_type": "execute_result",
          "data": {
            "text/plain": [
              "(30055, 363)"
            ]
          },
          "metadata": {
            "tags": []
          },
          "execution_count": 12
        }
      ]
    },
    {
      "cell_type": "code",
      "metadata": {
        "id": "R9Ea0pz2LIcn",
        "colab_type": "code",
        "colab": {
          "base_uri": "https://localhost:8080/",
          "height": 34
        },
        "outputId": "155fdf9a-b67e-4298-839e-d0a045f8d5fc"
      },
      "source": [
        "len(sigma_cut)/len(pos_par)"
      ],
      "execution_count": null,
      "outputs": [
        {
          "output_type": "execute_result",
          "data": {
            "text/plain": [
              "0.9814198014629049"
            ]
          },
          "metadata": {
            "tags": []
          },
          "execution_count": 13
        }
      ]
    },
    {
      "cell_type": "code",
      "metadata": {
        "id": "0FLv2VjMmCC3",
        "colab_type": "code",
        "colab": {
          "base_uri": "https://localhost:8080/",
          "height": 336
        },
        "outputId": "35808459-8f53-4ffd-a7c4-6162271e999c"
      },
      "source": [
        "fig = plt.figure(1, figsize=(2*3.4, 2*3.4*3/4.))\n",
        "ax1=plt.hist(np.log10(pos_par['parallax']),bins=1000,histtype='step',density=True)\n",
        "ax2=plt.hist(np.log10(sigma_cut['parallax']),bins=1000,alpha=0.5,histtype='step',density=True,label='$\\omega > 3\\sigma$')\n",
        "#plt.hist(des_c4_g['log_par'],bins=1000,histtype='step',density=True)\n",
        "plt.xlabel('$\\log_{10}(\\omega)$')\n",
        "leg=plt.legend(loc='upper left',markerscale=5, borderaxespad=0.)\n",
        "for l in leg.get_lines():\n",
        "    l.set_alpha(1)\n",
        "#ax2.set_alpha(0.5)\n",
        "plt.show()"
      ],
      "execution_count": null,
      "outputs": [
        {
          "output_type": "display_data",
          "data": {
            "image/png": "[encoded data removed]",
            "text/plain": [
              "<Figure size 489.6x367.2 with 1 Axes>"
            ]
          },
          "metadata": {
            "tags": []
          }
        }
      ]
    },
    {
      "cell_type": "markdown",
      "metadata": {
        "id": "2I3Ux8P-ni7l",
        "colab_type": "text"
      },
      "source": [
        "## Investigating M_i space\n",
        "Defining absolute magnitude:\n",
        "\n",
        "$$M = m - 5\\log(1000/\\omega) + 5$$\n",
        "\n",
        "where $\\omega$ is the parallax in milli-arcseconds."
      ]
    },
    {
      "cell_type": "code",
      "metadata": {
        "id": "2XOdUyH1mnuD",
        "colab_type": "code",
        "colab": {}
      },
      "source": [
        "def M(d, m):\n",
        "    return m - 5*np.log10(d) + 5"
      ],
      "execution_count": null,
      "outputs": []
    },
    {
      "cell_type": "code",
      "metadata": {
        "id": "p9YDZCeSnsdW",
        "colab_type": "code",
        "colab": {
          "base_uri": "https://localhost:8080/",
          "height": 221
        },
        "outputId": "60b21ecc-5cd7-44f2-c607-869dcb1348d0"
      },
      "source": [
        "sigma_cut['M_i'] = M(sigma_cut['rest'],sigma_cut['i_psf'])\n",
        "sigma_cut['i_z'] = sigma_cut['i_psf'] - sigma_cut['z_psf']"
      ],
      "execution_count": null,
      "outputs": [
        {
          "output_type": "stream",
          "text": [
            "/usr/local/lib/python3.6/dist-packages/ipykernel_launcher.py:1: SettingWithCopyWarning: \n",
            "A value is trying to be set on a copy of a slice from a DataFrame.\n",
            "Try using .loc[row_indexer,col_indexer] = value instead\n",
            "\n",
            "See the caveats in the documentation: https://pandas.pydata.org/pandas-docs/stable/user_guide/indexing.html#returning-a-view-versus-a-copy\n",
            "  \"\"\"Entry point for launching an IPython kernel.\n",
            "/usr/local/lib/python3.6/dist-packages/ipykernel_launcher.py:2: SettingWithCopyWarning: \n",
            "A value is trying to be set on a copy of a slice from a DataFrame.\n",
            "Try using .loc[row_indexer,col_indexer] = value instead\n",
            "\n",
            "See the caveats in the documentation: https://pandas.pydata.org/pandas-docs/stable/user_guide/indexing.html#returning-a-view-versus-a-copy\n",
            "  \n"
          ],
          "name": "stderr"
        }
      ]
    },
    {
      "cell_type": "code",
      "metadata": {
        "id": "mSspshzaoA9S",
        "colab_type": "code",
        "colab": {
          "base_uri": "https://localhost:8080/",
          "height": 335
        },
        "outputId": "7e09ac16-0e0f-41f9-cac4-81e391d621f0"
      },
      "source": [
        "fig = plt.figure(1, figsize=(2*3.4, 2*3.4*3/4.))\n",
        "#ax2=plt.scatter(data_clean3['i_z'],data_clean3['M_i'],s=1,c='k',label='DES Data')\n",
        "#ax3=plt.scatter(kiman_des_clean['i_z'],kiman_des_clean['M_i'],s=5,c='r',label='Kiman et al (2019)')\n",
        "ax1=plt.scatter(sigma_cut['i_psf'] - sigma_cut['z_psf'],sigma_cut['M_i'],s=1,c='k',label='SMSS x Gaia DR 2')\n",
        "#ax4=plt.scatter(gagne_lty_clean['i_z'],gagne_lty_clean['M_i'],s=10,c='g',label='Gagne LT')\n",
        "#plt.axhline(y=10)\n",
        "plt.xlabel('$i - z$')\n",
        "plt.ylabel('$M_i$')\n",
        "leg=plt.legend(loc='best',markerscale=5, fontsize=15)\n",
        "for l in leg.get_lines():\n",
        "    l.set_alpha(1)\n",
        "ax1.set_alpha(0.1)\n",
        "#ax2.set_alpha(0.1)\n",
        "#ax3.set_alpha(1.0)\n",
        "#ax4.set_alpha(1.0)\n",
        "plt.minorticks_on()\n",
        "\n",
        "plt.gca().invert_yaxis()\n",
        "plt.show()"
      ],
      "execution_count": null,
      "outputs": [
        {
          "output_type": "display_data",
          "data": {
            "image/png": "[encoded data removed]",
            "text/plain": [
              "<Figure size 489.6x367.2 with 1 Axes>"
            ]
          },
          "metadata": {
            "tags": []
          }
        }
      ]
    },
    {
      "cell_type": "code",
      "metadata": {
        "id": "cWehBZjdoSpU",
        "colab_type": "code",
        "colab": {
          "base_uri": "https://localhost:8080/",
          "height": 196
        },
        "outputId": "91d71caf-40cf-4a3e-f8d5-6facd594e918"
      },
      "source": [
        "fig = plt.figure(1, figsize=(1*3.4, 1*3.4*3/4.))\n",
        "plt.hist2d(sigma_cut['i_z'],sigma_cut['M_i'],bins=300,norm=LogNorm(),rasterized=True)\n",
        "plt.axhline(y=7,ls='--',color='r')\n",
        "plt.xlabel('$i - z$')\n",
        "plt.ylabel('$M_i$')\n",
        "plt.colorbar().set_label('Number of Objects')\n",
        "plt.minorticks_on()\n",
        "plt.gca().invert_yaxis()\n",
        "plt.savefig('gdrive/My Drive/Colab Notebooks/figures/smss_train_Mi_iz_hist2d.pdf',dpi=300,bbox_inches='tight',padding=0)\n",
        "plt.show()"
      ],
      "execution_count": null,
      "outputs": [
        {
          "output_type": "display_data",
          "data": {
            "image/png": "[encoded data removed]",
            "text/plain": [
              "<Figure size 244.8x183.6 with 2 Axes>"
            ]
          },
          "metadata": {
            "tags": []
          }
        }
      ]
    },
    {
      "cell_type": "markdown",
      "metadata": {
        "id": "0SMeY2O1qfg2",
        "colab_type": "text"
      },
      "source": [
        "# Merging with Kiman and Gagne"
      ]
    },
    {
      "cell_type": "code",
      "metadata": {
        "id": "6iBatu2IqIUN",
        "colab_type": "code",
        "colab": {
          "base_uri": "https://localhost:8080/",
          "height": 34
        },
        "outputId": "1b7b7753-fd08-48ca-d9da-c69a8121721b"
      },
      "source": [
        "path_kiman = 'gdrive/My Drive/Colab Notebooks/kiman_etal_mdwarfs/'\n",
        "kiman_sm = pd.read_csv(path_kiman+'kiman_sm_goodastro_chris.csv')\n",
        "kiman_sm = kiman_sm[kiman_sm['angDist'] <= 5.0]\n",
        "kiman_sm.shape"
      ],
      "execution_count": null,
      "outputs": [
        {
          "output_type": "execute_result",
          "data": {
            "text/plain": [
              "(7144, 55)"
            ]
          },
          "metadata": {
            "tags": []
          },
          "execution_count": 17
        }
      ]
    },
    {
      "cell_type": "code",
      "metadata": {
        "id": "p3X12QUOyP1P",
        "colab_type": "code",
        "colab": {
          "base_uri": "https://localhost:8080/",
          "height": 34
        },
        "outputId": "3025d480-8540-4fe6-f784-81b45e2cf809"
      },
      "source": [
        "kiman_sm['angDist'].max()"
      ],
      "execution_count": null,
      "outputs": [
        {
          "output_type": "execute_result",
          "data": {
            "text/plain": [
              "4.991778"
            ]
          },
          "metadata": {
            "tags": []
          },
          "execution_count": 16
        }
      ]
    },
    {
      "cell_type": "code",
      "metadata": {
        "id": "ENzQm2aTqwYU",
        "colab_type": "code",
        "colab": {
          "base_uri": "https://localhost:8080/",
          "height": 34
        },
        "outputId": "df53ddba-4b96-41a2-dbb3-5bfe402fe073"
      },
      "source": [
        "kiman_sm_comp = kiman_sm[(kiman_sm['iPSF'] - kiman_sm['zPSF'] >= 0.75)\n",
        "                         & (kiman_sm['iPSF'] < 20.0) \n",
        "                         & (kiman_sm['zPSF'] < 19.0)\n",
        "                         & (kiman_sm['flags'] == 0)]\n",
        "kiman_sm_comp = kiman_sm_comp.sort_values('angDist', ascending=True).drop_duplicates('ObjectId') # sorts data to select nearest match from duplicates\n",
        "\n",
        "kiman_sm_comp.shape # numbers match once we drop duplicates! 695 objects"
      ],
      "execution_count": null,
      "outputs": [
        {
          "output_type": "execute_result",
          "data": {
            "text/plain": [
              "(693, 55)"
            ]
          },
          "metadata": {
            "tags": []
          },
          "execution_count": 18
        }
      ]
    },
    {
      "cell_type": "code",
      "metadata": {
        "id": "z_SW93dcri-B",
        "colab_type": "code",
        "colab": {
          "base_uri": "https://localhost:8080/",
          "height": 34
        },
        "outputId": "9c00884c-9aaa-4a50-d185-64477c3dfec9"
      },
      "source": [
        "# checkingi if we contain all the matches above within our subsample:\n",
        "kiman_sm_overlap = merger(smss,kiman_sm_comp,r_col='ObjectId',l_col='object_id',method='inner')\n",
        "kiman_sm_overlap.shape"
      ],
      "execution_count": null,
      "outputs": [
        {
          "output_type": "execute_result",
          "data": {
            "text/plain": [
              "(231, 155)"
            ]
          },
          "metadata": {
            "tags": []
          },
          "execution_count": 19
        }
      ]
    },
    {
      "cell_type": "code",
      "metadata": {
        "id": "KFW_y-R8t_O8",
        "colab_type": "code",
        "colab": {
          "base_uri": "https://localhost:8080/",
          "height": 34
        },
        "outputId": "09320cab-0e7e-4284-fb5f-c474e2158b94"
      },
      "source": [
        "# checking how many are cut by the quality and parallax cuts:\n",
        "kiman_sm_overlap_clean = merger(sigma_cut,kiman_sm_comp,r_col='ObjectId',l_col='object_id',method='inner')\n",
        "kiman_sm_overlap_clean.shape # 505 objects"
      ],
      "execution_count": null,
      "outputs": [
        {
          "output_type": "execute_result",
          "data": {
            "text/plain": [
              "(152, 413)"
            ]
          },
          "metadata": {
            "tags": []
          },
          "execution_count": 20
        }
      ]
    },
    {
      "cell_type": "code",
      "metadata": {
        "id": "Ityam61gu4Zc",
        "colab_type": "code",
        "colab": {
          "base_uri": "https://localhost:8080/",
          "height": 51
        },
        "outputId": "ce201f4e-e851-4b13-8e29-7d48d9ade8af"
      },
      "source": [
        "# doing Gagne now:\n",
        "path_gagne = 'gdrive/My Drive/Colab Notebooks/gagne_dwarfs/'\n",
        "gagne_m_smss = pd.read_csv(path_gagne+'gagne_m_smss.csv')\n",
        "print(gagne_m_smss.shape)\n",
        "gagne_lty_smss = pd.read_csv(path_gagne+'gagne_lty_smss.csv')\n",
        "print(gagne_lty_smss.shape)"
      ],
      "execution_count": null,
      "outputs": [
        {
          "output_type": "stream",
          "text": [
            "(1451, 44)\n",
            "(212, 44)\n"
          ],
          "name": "stdout"
        }
      ]
    },
    {
      "cell_type": "code",
      "metadata": {
        "id": "hmxOJx-rx2O6",
        "colab_type": "code",
        "colab": {
          "base_uri": "https://localhost:8080/",
          "height": 34
        },
        "outputId": "06f7a893-f0ca-48a4-d5fb-b428396b9f39"
      },
      "source": [
        "gagne_m_sm_comp = gagne_m_smss[(gagne_m_smss['iPSF'] - gagne_m_smss['zPSF'] >= 0.75)\n",
        "                         & (gagne_m_smss['iPSF'] < 20.0) \n",
        "                         & (gagne_m_smss['zPSF'] < 19.0)\n",
        "                         & (gagne_m_smss['flags'] == 0)]\n",
        "gagne_m_sm_comp = gagne_m_sm_comp.sort_values('angDist', ascending=True).drop_duplicates('ObjectId') # sorts data to select nearest match from duplicates\n",
        "\n",
        "gagne_m_sm_comp.shape # numbers match once we drop duplicates! 679 objects"
      ],
      "execution_count": null,
      "outputs": [
        {
          "output_type": "execute_result",
          "data": {
            "text/plain": [
              "(679, 44)"
            ]
          },
          "metadata": {
            "tags": []
          },
          "execution_count": 22
        }
      ]
    },
    {
      "cell_type": "code",
      "metadata": {
        "id": "ztlX6p0J4mWm",
        "colab_type": "code",
        "colab": {
          "base_uri": "https://localhost:8080/",
          "height": 34
        },
        "outputId": "e8dd7ec9-f65b-457a-fe40-64fbd9c72bf1"
      },
      "source": [
        "gagne_lty_sm_comp = gagne_lty_smss[(gagne_lty_smss['iPSF'] - gagne_lty_smss['zPSF'] >= 0.75)\n",
        "                         & (gagne_lty_smss['iPSF'] < 20.0) \n",
        "                         & (gagne_lty_smss['zPSF'] < 19.0)\n",
        "                         & (gagne_lty_smss['flags'] == 0)]\n",
        "gagne_lty_sm_comp = gagne_lty_sm_comp.sort_values('angDist', ascending=True).drop_duplicates('ObjectId') # sorts data to select nearest match from duplicates\n",
        "\n",
        "gagne_lty_sm_comp.shape # numbers match once we drop duplicates! 73 objects"
      ],
      "execution_count": null,
      "outputs": [
        {
          "output_type": "execute_result",
          "data": {
            "text/plain": [
              "(73, 44)"
            ]
          },
          "metadata": {
            "tags": []
          },
          "execution_count": 23
        }
      ]
    },
    {
      "cell_type": "code",
      "metadata": {
        "id": "0f3wXLRk46Pc",
        "colab_type": "code",
        "colab": {
          "base_uri": "https://localhost:8080/",
          "height": 51
        },
        "outputId": "00cb46f5-3342-4068-acb6-a314ee5eb00b"
      },
      "source": [
        "# checkingi if we contain all the matches above within our subsample:\n",
        "gagne_m_overlap = merger(smss,gagne_m_sm_comp,r_col='ObjectId',l_col='object_id',method='inner')\n",
        "print(gagne_m_overlap.shape)\n",
        "gagne_lty_overlap = merger(smss,gagne_lty_sm_comp,r_col='ObjectId',l_col='object_id',method='inner')\n",
        "print(gagne_lty_overlap.shape) # we contain all of them!"
      ],
      "execution_count": null,
      "outputs": [
        {
          "output_type": "stream",
          "text": [
            "(294, 142)\n",
            "(22, 142)\n"
          ],
          "name": "stdout"
        }
      ]
    },
    {
      "cell_type": "code",
      "metadata": {
        "id": "nHiqz2Oo5dQY",
        "colab_type": "code",
        "colab": {
          "base_uri": "https://localhost:8080/",
          "height": 51
        },
        "outputId": "9f411717-8272-4ffb-d7f3-02ab3d776fea"
      },
      "source": [
        "# checking how many are cut by the quality and parallax cuts:\n",
        "gagne_m_overlap_clean = merger(sigma_cut,gagne_m_sm_comp,r_col='ObjectId',l_col='object_id',method='inner')\n",
        "print(gagne_m_overlap_clean.shape) # 366 objects\n",
        "\n",
        "gagne_lty_overlap_clean = merger(sigma_cut,gagne_lty_sm_comp,r_col='ObjectId',l_col='object_id',method='inner')\n",
        "print(gagne_lty_overlap_clean.shape) # 26 objects"
      ],
      "execution_count": null,
      "outputs": [
        {
          "output_type": "stream",
          "text": [
            "(150, 402)\n",
            "(7, 402)\n"
          ],
          "name": "stdout"
        }
      ]
    },
    {
      "cell_type": "code",
      "metadata": {
        "id": "-ABtrNln6UWM",
        "colab_type": "code",
        "colab": {}
      },
      "source": [
        "# observing where the known dwarfs live in M_i v. i - z parameter space:\n",
        "kiman_sm_overlap_clean['M_i'] = M(kiman_sm_overlap_clean['rest'],kiman_sm_overlap_clean['i_psf'])\n",
        "kiman_sm_overlap_clean['i_z'] = kiman_sm_overlap_clean['i_psf'] - kiman_sm_overlap_clean['z_psf']\n",
        "\n",
        "gagne_m_overlap_clean['M_i'] = M(gagne_m_overlap_clean['rest'],gagne_m_overlap_clean['i_psf'])\n",
        "gagne_m_overlap_clean['i_z'] = gagne_m_overlap_clean['i_psf'] - gagne_m_overlap_clean['z_psf']\n",
        "\n",
        "gagne_lty_overlap_clean['M_i'] = M(gagne_lty_overlap_clean['rest'],gagne_lty_overlap_clean['i_psf'])\n",
        "gagne_lty_overlap_clean['i_z'] = gagne_lty_overlap_clean['i_psf'] - gagne_lty_overlap_clean['z_psf']"
      ],
      "execution_count": null,
      "outputs": []
    },
    {
      "cell_type": "markdown",
      "metadata": {
        "id": "K7ZHBhtY-MVY",
        "colab_type": "text"
      },
      "source": [
        "## Cutting along $M_i$\n",
        "\n",
        "Cutting along parallax didn't split the distributions so sharply, so we're defaulting to $M_i$"
      ]
    },
    {
      "cell_type": "code",
      "metadata": {
        "id": "xn4lw63gTDsD",
        "colab_type": "code",
        "colab": {}
      },
      "source": [
        "def conf_levels(x,y,bin_n):\n",
        "  # Make a 2d normed histogram\n",
        "  H,xedges,yedges=np.histogram2d(x,y,bins=bin_n,normed=True)\n",
        "  norm=H.sum() # Find the norm of the sum\n",
        "  # Set contour levels\n",
        "  contour1=0.99\n",
        "  contour2=0.95\n",
        "  contour3=0.68\n",
        "\n",
        "  # Set target levels as percentage of norm\n",
        "  target1 = norm*contour1\n",
        "  target2 = norm*contour2\n",
        "  target3 = norm*contour3\n",
        "\n",
        "  # Take histogram bin membership as proportional to Likelihood\n",
        "  # This is true when data comes from a Markovian process\n",
        "  def objective(limit, target):\n",
        "      w = np.where(H>limit)\n",
        "      count = H[w]\n",
        "      return count.sum() - target\n",
        "\n",
        "  # Find levels by summing histogram to objective\n",
        "  #level1= scipy.optimize.bisect(objective, H.min(), H.max(), args=(target1,))\n",
        "  level2= scipy.optimize.bisect(objective, H.min(), H.max(), args=(target2,))\n",
        "  level3= scipy.optimize.bisect(objective, H.min(), H.max(), args=(target3,))\n",
        "\n",
        "  # Define the levels in an interable:\n",
        "  levels=[level2,level3] # re-insert level1 for 3sigma\n",
        "  return levels\n",
        "\n",
        "def gauss_levels(x,y):\n",
        "  x,y = x.values,y.values\n",
        "  objects = [[a,b] for a,b in zip(x,y)] \n",
        "  obj_arr = np.array(objects)\n",
        "\n",
        "  xmin = x.min()\n",
        "  xmax = x.max()\n",
        "  ymin = y.min()\n",
        "  ymax = y.max()\n",
        "\n",
        "  X, Y = np.mgrid[xmin:xmax:100j, ymin:ymax:100j]\n",
        "  positions = np.vstack([X.ravel(), Y.ravel()])\n",
        "  #values = np.vstack([m1, m2])\n",
        "  kernel = stats.gaussian_kde(obj_arr.T)\n",
        "  Z = np.reshape(kernel(positions).T, X.shape)\n",
        "  return X,Y,Z"
      ],
      "execution_count": null,
      "outputs": []
    },
    {
      "cell_type": "code",
      "metadata": {
        "id": "seQI_q1y8R9n",
        "colab_type": "code",
        "colab": {
          "base_uri": "https://localhost:8080/",
          "height": 51
        },
        "outputId": "6503fa90-d526-459d-e444-307dd6baaefb"
      },
      "source": [
        "cut = 7\n",
        "dwarfs = sigma_cut[sigma_cut['M_i'] >= cut]\n",
        "giants = sigma_cut[sigma_cut['M_i'] < cut]\n",
        "\n",
        "print(len(dwarfs))\n",
        "print(len(giants))"
      ],
      "execution_count": null,
      "outputs": [
        {
          "output_type": "stream",
          "text": [
            "29974\n",
            "81\n"
          ],
          "name": "stdout"
        }
      ]
    },
    {
      "cell_type": "code",
      "metadata": {
        "id": "YjiUAOHc77rB",
        "colab_type": "code",
        "colab": {
          "base_uri": "https://localhost:8080/",
          "height": 369
        },
        "outputId": "8632e7f1-fe62-46db-e897-3b1d8804ba3b"
      },
      "source": [
        "fig = plt.figure(1, figsize=(1*3.4, 2*3.4*3/4.))\n",
        "plt.subplots_adjust(hspace=0.0)\n",
        "\n",
        "axis2 = plt.subplot(2,1,1)\n",
        "ax1=axis2.scatter(dwarfs['i_psf'] - dwarfs['z_psf'],dwarfs['M_i'],s=1,c='C0',label='$N = {}$'.format(len(dwarfs)))\n",
        "ax2=axis2.scatter(giants['i_z'],giants['M_i'],s=10,c='C1',label='$N = {}$'.format(len(giants)))\n",
        "axis2.axhline(y=7,ls='--',color='r')\n",
        "#ax3=plt.scatter(gagne_m_overlap_clean['i_z'],gagne_m_overlap_clean['M_i'],s=size,c='C2',label='Gagne M')\n",
        "#ax4=plt.scatter(gagne_lty_overlap_clean['i_z'],gagne_lty_overlap_clean['M_i'],s=size,c='C3',label='Gagne LT')\n",
        "#plt.axhline(y=10)\n",
        "axis2.set_xlabel('$i - z$')\n",
        "axis2.set_ylabel('$M_i$')\n",
        "leg=plt.legend(loc='best',markerscale=5)\n",
        "leg.legendHandles[1]._sizes = [20]\n",
        "for l in leg.get_lines():\n",
        "    l.set_alpha(1)\n",
        "ax1.set_alpha(0.3)\n",
        "ax2.set_alpha(1.0)\n",
        "#ax3.set_alpha(1.0)\n",
        "#ax4.set_alpha(1.0)\n",
        "axis2.minorticks_on()\n",
        "\n",
        "axis2.invert_yaxis()\n",
        "\n",
        "axis1 = plt.subplot(2,1,2)\n",
        "size = 1\n",
        "ax1=axis1.scatter(sigma_cut['i_psf'] - sigma_cut['z_psf'],sigma_cut['M_i'],s=1,c='C0',label='SMSS $\\pi > 3\\sigma$',rasterized=True)\n",
        "ax2=axis1.scatter(kiman_sm_overlap_clean['i_z'],kiman_sm_overlap_clean['M_i'],s=5,c='C1',label='Kiman et al (2019)')\n",
        "ax3=axis1.scatter(gagne_m_overlap_clean['i_z'],gagne_m_overlap_clean['M_i'],s=5,c='C2',label='Gagne M')\n",
        "ax4=axis1.scatter(gagne_lty_overlap_clean['i_z'],gagne_lty_overlap_clean['M_i'],s=10,c='C3',label='Gagne LT')\n",
        "axis1.axhline(y=7,ls='--',color='r')\n",
        "axis1.set_xlabel('$i - z$')\n",
        "axis1.set_ylabel('$M_i$')\n",
        "leg=axis1.legend(loc='upper right',markerscale=5)\n",
        "leg.legendHandles[3]._sizes = [20]\n",
        "leg.legendHandles[2]._sizes = [20]\n",
        "leg.legendHandles[1]._sizes = [20]\n",
        "for l in leg.get_lines():\n",
        "    l.set_alpha(1)\n",
        "ax1.set_alpha(0.1)\n",
        "ax2.set_alpha(0.5)\n",
        "ax3.set_alpha(0.5)\n",
        "ax4.set_alpha(0.5)\n",
        "axis1.invert_yaxis()\n",
        "\n",
        "plt.minorticks_on()\n",
        "#plt.savefig('gdrive/My Drive/Colab Notebooks/figures/M_i_cut_dwarfs_giants_smss.pdf',dpi=300,bbox_inches='tight',padding=0)\n",
        "\n",
        "plt.show()"
      ],
      "execution_count": null,
      "outputs": [
        {
          "output_type": "stream",
          "text": [
            "29974\n",
            "81\n"
          ],
          "name": "stdout"
        },
        {
          "output_type": "display_data",
          "data": {
            "image/png": "[encoded data removed]",
            "text/plain": [
              "<Figure size 244.8x367.2 with 2 Axes>"
            ]
          },
          "metadata": {
            "tags": []
          }
        }
      ]
    },
    {
      "cell_type": "code",
      "metadata": {
        "id": "C6q35S4kT4ax",
        "colab_type": "code",
        "colab": {
          "base_uri": "https://localhost:8080/",
          "height": 85
        },
        "outputId": "4a4537c7-6988-4411-f85e-3c68ed7cea48"
      },
      "source": [
        "levels_1 = conf_levels(sigma_cut['i_psf'] - sigma_cut['z_psf'],sigma_cut['M_i'],bin_n=20)\n",
        "levels_2 = conf_levels(kiman_sm_overlap_clean['i_z'],kiman_sm_overlap_clean['M_i'],bin_n=5)\n",
        "levels_3 = conf_levels(gagne_m_overlap_clean['i_z'],gagne_m_overlap_clean['M_i'],bin_n=5)\n",
        "levels_4 = conf_levels(gagne_lty_overlap_clean['i_z'],gagne_lty_overlap_clean['M_i'],bin_n=2)\n",
        "print(levels_1)\n",
        "print(levels_2)\n",
        "print(levels_3)\n",
        "print(levels_4)"
      ],
      "execution_count": null,
      "outputs": [
        {
          "output_type": "stream",
          "text": [
            "[0.08312265085579054, 0.6974692851740382]\n",
            "[0.09973111184015852, 0.36568074341552714]\n",
            "[0.09984030157518711, 0.29952090472556137]\n",
            "[0.3146512662671369, 0.6293025325377078]\n"
          ],
          "name": "stdout"
        }
      ]
    },
    {
      "cell_type": "code",
      "metadata": {
        "id": "PAa4DcmKS41N",
        "colab_type": "code",
        "colab": {
          "base_uri": "https://localhost:8080/",
          "height": 335
        },
        "outputId": "7ba7bcb4-6516-45f5-dee6-b4797248a985"
      },
      "source": [
        "fig = plt.figure(1, figsize=(1*3.4, 2*3.4*3/4.))\n",
        "\n",
        "ax = plt.subplot(2,1,1)\n",
        "plt.subplots_adjust(hspace=0.0)\n",
        "\n",
        "X1,Y1,Z1 = gauss_levels(dwarfs['i_z'],dwarfs['M_i'])\n",
        "X2,Y2,Z2 = gauss_levels(giants['i_z'],giants['M_i'])\n",
        "levels_1 = conf_levels(dwarfs['i_z'],dwarfs['M_i'],bin_n=25)\n",
        "levels_2 = conf_levels(giants['i_z'],giants['M_i'],bin_n=4)\n",
        "\n",
        "ax1 = ax.contour(X1,Y1,Z1, levels=levels_1, colors=['C0'], linestyles=['solid','--','-.'], linewidths=[1,2], zorder=-20)\n",
        "ax2 = ax.contour(X2,Y2,Z2, levels=levels_2, colors=['C1'], linestyles=['solid','--','-.'], linewidths=[1,2], zorder=-20)\n",
        "ax3 = ax.axhline(y=7,ls='--',color='r')\n",
        "ax.set_xlabel('$i - z$')\n",
        "ax.set_ylabel('$M_i$')\n",
        "ax.set_xlim(0.70,2.0)\n",
        "ax.invert_yaxis()\n",
        "plt.minorticks_on()\n",
        "\n",
        "X1,Y1,Z1 = gauss_levels(sigma_cut['i_psf'] - sigma_cut['z_psf'],sigma_cut['M_i'])\n",
        "X2,Y2,Z2 = gauss_levels(kiman_sm_overlap_clean['i_z'],kiman_sm_overlap_clean['M_i'])\n",
        "X3,Y3,Z3 = gauss_levels(gagne_m_overlap_clean['i_z'],gagne_m_overlap_clean['M_i'])\n",
        "#X4,Y4,Z4 = gauss_levels(des_pred_kiman['IMAG_DERED']-des_pred_kiman['ZMAG_DERED'],des_pred_kiman['ZMAG_DERED'] - des_pred_kiman['YMAG_DERED'])\n",
        "levels_1 = conf_levels(sigma_cut['i_psf'] - sigma_cut['z_psf'],sigma_cut['M_i'],bin_n=20)\n",
        "levels_2 = conf_levels(kiman_sm_overlap_clean['i_z'],kiman_sm_overlap_clean['M_i'],bin_n=5)\n",
        "levels_3 = conf_levels(gagne_m_overlap_clean['i_z'],gagne_m_overlap_clean['M_i'],bin_n=5)\n",
        "\n",
        "ax_2 = plt.subplot(2,1,2)\n",
        "ax1 = ax_2.contour(X1,Y1,Z1, levels=levels_1, colors=['C0'], linestyles=['solid','--','-.'], linewidths=[1,2], zorder=-20)\n",
        "ax2 = ax_2.contour(X2,Y2,Z2, levels=levels_2, colors=['C1'], linestyles=['solid','--','-.'], linewidths=[1,2], zorder=-20)\n",
        "ax3 = ax_2.contour(X3,Y3,Z3, levels=levels_3, colors=['C2'], linestyles=['solid','--','-.'], linewidths=[1,2], zorder=-20)\n",
        "ax4= ax_2.scatter(gagne_lty_overlap_clean['i_z'],gagne_lty_overlap_clean['M_i'],s=10,c='C3')\n",
        "ax5 = ax_2.axhline(y=7,ls='--',color='r')\n",
        "ax_2.set_xlabel('$i - z$')\n",
        "ax_2.set_ylabel('$M_i$')\n",
        "\n",
        "ax.plot([0,0],[0,0], ls='solid', c='C0', lw=2, label=r'$N = {}$'.format(len(dwarfs)))\n",
        "ax.plot([0,0],[0,0], ls='solid', c='C1', lw=2, label=r'$N = {}$'.format(len(giants)))\n",
        "ax.legend(loc='upper right', frameon=False)\n",
        "\n",
        "ax_2.plot([0,0],[0,0], ls='solid', c='C0', lw=2, label=r'SMSS $\\pi > 3\\sigma$')\n",
        "ax_2.plot([0,0],[0,0], ls='solid', c='C1', lw=2, label=r'K19 UCD')\n",
        "ax_2.plot([0,0],[0,0], ls='solid', c='C2', lw=2, label=r'Gagne M UCD')\n",
        "ax_2.plot([0,0],[0,0], 'o', c='C3', label=r'Gagne LT UCD')\n",
        "ax_2.legend(loc='upper right', frameon=False)\n",
        "\n",
        "plt.minorticks_on()\n",
        "ax_2.set_xlim(0.70,2.0)\n",
        "ax_2.invert_yaxis()\n",
        "#ax_2.set_ylim(0.0,1.0)\n",
        "#plt.tight_layout()\n",
        "plt.savefig('gdrive/My Drive/Colab Notebooks/figures/M_i_cut_dwarfs_giants_smss_contour.pdf',dpi=300,bbox_inches='tight',padding=0)\n",
        "plt.show()"
      ],
      "execution_count": null,
      "outputs": [
        {
          "output_type": "display_data",
          "data": {
            "image/png": "[encoded data removed]",
            "text/plain": [
              "<Figure size 244.8x367.2 with 2 Axes>"
            ]
          },
          "metadata": {
            "tags": []
          }
        }
      ]
    },
    {
      "cell_type": "code",
      "metadata": {
        "id": "xslbVe3D8Ei_",
        "colab_type": "code",
        "colab": {
          "base_uri": "https://localhost:8080/",
          "height": 198
        },
        "outputId": "4b018280-4c57-4dae-8087-a8b3f1a01e16"
      },
      "source": [
        "fig = plt.figure(1, figsize=(1*3.4, 1*3.4*3/4.))\n",
        "plt.hist(dwarfs['parallax'],bins=500,histtype='step',density=True,label='$M_i \\geq 7$')\n",
        "plt.hist(giants['parallax'],bins=25,histtype='step',density=True,label='$M_i < 7$')\n",
        "#plt.hist(des_c4_g['log_par'],bins=1000,histtype='step',density=True)\n",
        "plt.xlabel('$\\pi$ (mas)') \n",
        "plt.xscale('symlog')\n",
        "plt.legend(loc='upper right')\n",
        "plt.minorticks_on()\n",
        "plt.savefig('gdrive/My Drive/Colab Notebooks/figures/smss_par_distributions.pdf',dpi=300,bbox_inches='tight',padding=0)\n",
        "plt.show()"
      ],
      "execution_count": null,
      "outputs": [
        {
          "output_type": "display_data",
          "data": {
            "image/png": "[encoded data removed]",
            "text/plain": [
              "<Figure size 244.8x183.6 with 1 Axes>"
            ]
          },
          "metadata": {
            "tags": []
          }
        }
      ]
    },
    {
      "cell_type": "markdown",
      "metadata": {
        "id": "kbeoSEgrET4U",
        "colab_type": "text"
      },
      "source": [
        "# Kiman et al. (2019) cuts\n",
        "To ensure we select dwarfs for our training set, we follow the cuts made by Kiman et al 2019:\n",
        "\n",
        "1. `parallax_over_error` > 10\n",
        "2. `visibility_periods_used` > 8\n",
        "3. `UWE` < 1.2 $\\times$ max(1.4, $\\exp(-0.2(G -  19.5))$)\n",
        "\n",
        "`parallax_over_error` = `parallax`/`parallax_error`"
      ]
    },
    {
      "cell_type": "code",
      "metadata": {
        "id": "2G-hi2h_-1uK",
        "colab_type": "code",
        "colab": {
          "base_uri": "https://localhost:8080/",
          "height": 136
        },
        "outputId": "f02b17a8-c485-4380-f115-95b2690472ea"
      },
      "source": [
        "def uwe_squared(chi2,obs):\n",
        "    return chi2/(obs - 5)\n",
        "    \n",
        "def uwe_cut(gmag):\n",
        "    return 1.2*max(1.4,np.exp(-0.2*(float(gmag) - 19.5)))\n",
        "\n",
        "\n",
        "dwarfs['UWE'] = np.sqrt(uwe_squared(dwarfs['astrometric_chi2_al'],\n",
        "                                         dwarfs['astrometric_n_obs_al']))\n",
        "\n",
        "filtered = dwarfs[['object_id','UWE','phot_g_mean_mag']]\n",
        "\n",
        "# UWE cut:\n",
        "s = [[col[0],col[1]] for index, col in filtered.T.iteritems() if col[1] < uwe_cut(col[2])]\n",
        "\n",
        "s_df = pd.DataFrame(s,columns=['object_id','UWE'])\n",
        "s_df.shape"
      ],
      "execution_count": null,
      "outputs": [
        {
          "output_type": "stream",
          "text": [
            "/usr/local/lib/python3.6/dist-packages/ipykernel_launcher.py:9: SettingWithCopyWarning: \n",
            "A value is trying to be set on a copy of a slice from a DataFrame.\n",
            "Try using .loc[row_indexer,col_indexer] = value instead\n",
            "\n",
            "See the caveats in the documentation: https://pandas.pydata.org/pandas-docs/stable/user_guide/indexing.html#returning-a-view-versus-a-copy\n",
            "  if __name__ == '__main__':\n"
          ],
          "name": "stderr"
        },
        {
          "output_type": "execute_result",
          "data": {
            "text/plain": [
              "(28768, 2)"
            ]
          },
          "metadata": {
            "tags": []
          },
          "execution_count": 28
        }
      ]
    },
    {
      "cell_type": "code",
      "metadata": {
        "id": "PQYuzNZMElpl",
        "colab_type": "code",
        "colab": {
          "base_uri": "https://localhost:8080/",
          "height": 34
        },
        "outputId": "319355da-675e-44a5-b665-36cba25ff7fd"
      },
      "source": [
        "smss_tset_dwarfs = merger(s_df,dwarfs,l_col='object_id',r_col='object_id',method='inner')\n",
        "smss_tset_dwarfs.shape"
      ],
      "execution_count": null,
      "outputs": [
        {
          "output_type": "execute_result",
          "data": {
            "text/plain": [
              "(28768, 366)"
            ]
          },
          "metadata": {
            "tags": []
          },
          "execution_count": 29
        }
      ]
    },
    {
      "cell_type": "code",
      "metadata": {
        "id": "UKIDZw0aajq8",
        "colab_type": "code",
        "colab": {
          "base_uri": "https://localhost:8080/",
          "height": 348
        },
        "outputId": "d83b458f-6525-45d4-a9d6-1ff2372436ae"
      },
      "source": [
        "plt.figure(figsize=(2*3.4,2*3.4*3/4.))\n",
        "ax2=plt.scatter(giants['parallax'],np.log10(giants['rest']),\n",
        "            s=2,c='C1',label='Training RG')\n",
        "ax1=plt.scatter(smss_tset_dwarfs['parallax'],np.log10(smss_tset_dwarfs['rest']),\n",
        "            s=2,c='C0',label='Training UCD',rasterized=True)\n",
        "#plt.plot(np.arange(0,100),(10**3)/np.arange(0,100),'r',label='$f(\\pi) = 10^3/\\pi$')\n",
        "plt.xlabel('$\\pi$ (mas)')\n",
        "plt.ylabel('$\\log_{10}{d_{pc}}$')\n",
        "leg=plt.legend(loc='best',markerscale=5,prop={'size':15})\n",
        "leg.legendHandles[1]._sizes = [20]\n",
        "leg.legendHandles[0]._sizes = [20]\n",
        "for l in leg.get_lines():\n",
        "    l.set_alpha(1)\n",
        "ax1.set_alpha(1.0)\n",
        "ax2.set_alpha(1.0)\n",
        "plt.xlim(-1.0,55)\n",
        "plt.xticks(fontsize=16)\n",
        "plt.yticks(fontsize=16)\n",
        "plt.minorticks_on()\n",
        "\n",
        "plt.savefig('gdrive/My Drive/Colab Notebooks/figures/smss_par_v_dist.pdf',dpi=300,bbox_inches='tight',padding=0)\n",
        "plt.show()"
      ],
      "execution_count": null,
      "outputs": [
        {
          "output_type": "display_data",
          "data": {
            "image/png": "[encoded data removed]",
            "text/plain": [
              "<Figure size 489.6x367.2 with 1 Axes>"
            ]
          },
          "metadata": {
            "tags": []
          }
        }
      ]
    },
    {
      "cell_type": "code",
      "metadata": {
        "id": "LgxJ4lKg6Yo-",
        "colab_type": "code",
        "colab": {
          "base_uri": "https://localhost:8080/",
          "height": 51
        },
        "outputId": "67debc01-9923-44c2-8427-0d770c5c9b25"
      },
      "source": [
        "gagne_m_dwarfs = merger(smss_tset_dwarfs,gagne_m_overlap_clean,r_col='object_id',l_col='object_id',method='inner')\n",
        "print(gagne_m_dwarfs.shape) # 366 objects\n",
        "\n",
        "gagne_lty_dwarfs = merger(smss_tset_dwarfs,gagne_lty_overlap_clean,r_col='object_id',l_col='object_id',method='inner')\n",
        "print(gagne_lty_dwarfs.shape) # 26 objects"
      ],
      "execution_count": null,
      "outputs": [
        {
          "output_type": "stream",
          "text": [
            "(138, 403)\n",
            "(6, 403)\n"
          ],
          "name": "stdout"
        }
      ]
    },
    {
      "cell_type": "code",
      "metadata": {
        "id": "OIdhqB-iEuI3",
        "colab_type": "code",
        "colab": {
          "base_uri": "https://localhost:8080/",
          "height": 335
        },
        "outputId": "a56f18ea-91f9-4559-8b43-5e0f7d4cc914"
      },
      "source": [
        "fig = plt.figure(1, figsize=(2*3.4, 2*3.4*3/4.))\n",
        "size = 1\n",
        "ax1=plt.scatter(smss_tset_dwarfs['i_psf'] - smss_tset_dwarfs['z_psf'],smss_tset_dwarfs['M_i'],s=size,c='C0',label='Gaia Dwarfs UWE Cuts')\n",
        "ax2=plt.scatter(kiman_sm_overlap_clean['i_z'],kiman_sm_overlap_clean['M_i'],s=size,c='C1',label='Kiman et al (2019)')\n",
        "ax3=plt.scatter(gagne_m_dwarfs['i_z'],gagne_m_dwarfs['M_i'],s=size,c='C2',label='Gagne M')\n",
        "ax4=plt.scatter(gagne_lty_overlap_clean['i_z'],gagne_lty_overlap_clean['M_i'],s=size,c='C3',label='Gagne LT')\n",
        "plt.axhline(y=7,ls='--',color='r')\n",
        "plt.xlabel('$i - z$')\n",
        "plt.ylabel('$M_i$')\n",
        "leg=plt.legend(loc='center right',markerscale=5, fontsize=15)\n",
        "for l in leg.get_lines():\n",
        "    l.set_alpha(1)\n",
        "ax1.set_alpha(0.1)\n",
        "ax2.set_alpha(1.0)\n",
        "ax3.set_alpha(1.0)\n",
        "ax4.set_alpha(1.0)\n",
        "plt.minorticks_on()\n",
        "\n",
        "plt.gca().invert_yaxis()\n",
        "plt.show()"
      ],
      "execution_count": null,
      "outputs": [
        {
          "output_type": "display_data",
          "data": {
            "image/png": "[encoded data removed]",
            "text/plain": [
              "<Figure size 489.6x367.2 with 1 Axes>"
            ]
          },
          "metadata": {
            "tags": []
          }
        }
      ]
    },
    {
      "cell_type": "code",
      "metadata": {
        "id": "fog5VNLBFJRd",
        "colab_type": "code",
        "colab": {
          "base_uri": "https://localhost:8080/",
          "height": 34
        },
        "outputId": "ee42dee2-53da-4249-f8a6-91ffba50971d"
      },
      "source": [
        "print('Total dwarfs and giants:',len(smss_tset_dwarfs) + len(giants))"
      ],
      "execution_count": null,
      "outputs": [
        {
          "output_type": "stream",
          "text": [
            "Total dwarfs and giants: 28849\n"
          ],
          "name": "stdout"
        }
      ]
    },
    {
      "cell_type": "code",
      "metadata": {
        "id": "j9Hjy8oOKCut",
        "colab_type": "code",
        "colab": {
          "base_uri": "https://localhost:8080/",
          "height": 119
        },
        "outputId": "857049b3-3529-4613-9574-62cdebf31681"
      },
      "source": [
        "giants['survey_marker'] = 'smss_gaia_parallax'\n",
        "smss_tset_dwarfs['survey_marker'] = 'smss_gaia_parallax'\n",
        "gagne_m_dwarfs['survey_marker'] = 'gagne_m'\n",
        "gagne_lty_dwarfs['survey_marker'] = 'gagne_lty'\n",
        "kiman_sm_overlap_clean['survey_marker'] = 'kiman'"
      ],
      "execution_count": null,
      "outputs": [
        {
          "output_type": "stream",
          "text": [
            "/usr/local/lib/python3.6/dist-packages/ipykernel_launcher.py:1: SettingWithCopyWarning: \n",
            "A value is trying to be set on a copy of a slice from a DataFrame.\n",
            "Try using .loc[row_indexer,col_indexer] = value instead\n",
            "\n",
            "See the caveats in the documentation: https://pandas.pydata.org/pandas-docs/stable/user_guide/indexing.html#returning-a-view-versus-a-copy\n",
            "  \"\"\"Entry point for launching an IPython kernel.\n"
          ],
          "name": "stderr"
        }
      ]
    },
    {
      "cell_type": "code",
      "metadata": {
        "id": "zRj4DhWSFYGk",
        "colab_type": "code",
        "colab": {
          "base_uri": "https://localhost:8080/",
          "height": 119
        },
        "outputId": "166d5910-cfa9-4908-be1b-30492cbefbc6"
      },
      "source": [
        "giants['label'] = 'hm*'\n",
        "smss_tset_dwarfs['label'] = 'lm*'\n",
        "gagne_m_dwarfs['label'] = 'lm*'\n",
        "gagne_lty_dwarfs['label'] = 'lm*'\n",
        "kiman_sm_overlap_clean['label'] = 'lm*'"
      ],
      "execution_count": null,
      "outputs": [
        {
          "output_type": "stream",
          "text": [
            "/usr/local/lib/python3.6/dist-packages/ipykernel_launcher.py:1: SettingWithCopyWarning: \n",
            "A value is trying to be set on a copy of a slice from a DataFrame.\n",
            "Try using .loc[row_indexer,col_indexer] = value instead\n",
            "\n",
            "See the caveats in the documentation: https://pandas.pydata.org/pandas-docs/stable/user_guide/indexing.html#returning-a-view-versus-a-copy\n",
            "  \"\"\"Entry point for launching an IPython kernel.\n"
          ],
          "name": "stderr"
        }
      ]
    },
    {
      "cell_type": "code",
      "metadata": {
        "id": "2NXH0IGrISNa",
        "colab_type": "code",
        "colab": {
          "base_uri": "https://localhost:8080/",
          "height": 119
        },
        "outputId": "4d0d0dfe-f8f0-439b-b1ac-30bb99421686"
      },
      "source": [
        "giants['UWE'] = np.nan\n",
        "gagne_m_dwarfs['UWE'] = np.nan\n",
        "gagne_lty_dwarfs['UWE'] = np.nan\n",
        "kiman_sm_overlap_clean['UWE'] = np.nan"
      ],
      "execution_count": null,
      "outputs": [
        {
          "output_type": "stream",
          "text": [
            "/usr/local/lib/python3.6/dist-packages/ipykernel_launcher.py:1: SettingWithCopyWarning: \n",
            "A value is trying to be set on a copy of a slice from a DataFrame.\n",
            "Try using .loc[row_indexer,col_indexer] = value instead\n",
            "\n",
            "See the caveats in the documentation: https://pandas.pydata.org/pandas-docs/stable/user_guide/indexing.html#returning-a-view-versus-a-copy\n",
            "  \"\"\"Entry point for launching an IPython kernel.\n"
          ],
          "name": "stderr"
        }
      ]
    },
    {
      "cell_type": "code",
      "metadata": {
        "id": "wNtXk-1NIzvB",
        "colab_type": "code",
        "colab": {
          "base_uri": "https://localhost:8080/",
          "height": 34
        },
        "outputId": "3a399fac-7f50-48d5-9121-766076e5d308"
      },
      "source": [
        "sm_objs = pd.concat([smss_tset_dwarfs,giants])\n",
        "sm_objs.shape"
      ],
      "execution_count": null,
      "outputs": [
        {
          "output_type": "execute_result",
          "data": {
            "text/plain": [
              "(28849, 368)"
            ]
          },
          "metadata": {
            "tags": []
          },
          "execution_count": 40
        }
      ]
    },
    {
      "cell_type": "code",
      "metadata": {
        "id": "W0rdxdrmI7kY",
        "colab_type": "code",
        "colab": {
          "base_uri": "https://localhost:8080/",
          "height": 85
        },
        "outputId": "529eb8b9-8418-46c5-cb87-30cecd70ba90"
      },
      "source": [
        "known_dwarfs = pd.concat([kiman_sm_overlap_clean[smss_tset_dwarfs.columns],gagne_m_dwarfs[smss_tset_dwarfs.columns],gagne_lty_dwarfs[smss_tset_dwarfs.columns]])\n",
        "print(known_dwarfs.shape)\n",
        "print(Counter(known_dwarfs['survey_marker']))\n",
        "\n",
        "known_dwarfs_nodupes = known_dwarfs.drop_duplicates(subset='object_id',keep='last')\n",
        "print(Counter(known_dwarfs_nodupes['survey_marker']))\n",
        "print(known_dwarfs_nodupes.shape)"
      ],
      "execution_count": null,
      "outputs": [
        {
          "output_type": "stream",
          "text": [
            "(296, 368)\n",
            "Counter({'kiman': 152, 'gagne_m': 138, 'gagne_lty': 6})\n",
            "Counter({'gagne_m': 137, 'kiman': 67, 'gagne_lty': 6})\n",
            "(210, 368)\n"
          ],
          "name": "stdout"
        }
      ]
    },
    {
      "cell_type": "code",
      "metadata": {
        "id": "pvQZPc-ALRTc",
        "colab_type": "code",
        "colab": {
          "base_uri": "https://localhost:8080/",
          "height": 51
        },
        "outputId": "a76b1666-2af7-4e00-a940-a2414bb8d97b"
      },
      "source": [
        "gaia_par_objs = sm_objs[(~sm_objs.object_id.isin(known_dwarfs_nodupes.object_id))]\n",
        "gaia_par_objs_nodupes = gaia_par_objs.drop_duplicates(subset='object_id',keep='last')\n",
        "print(gaia_par_objs.shape)\n",
        "print(gaia_par_objs_nodupes.shape)"
      ],
      "execution_count": null,
      "outputs": [
        {
          "output_type": "stream",
          "text": [
            "(28639, 368)\n",
            "(28639, 368)\n"
          ],
          "name": "stdout"
        }
      ]
    },
    {
      "cell_type": "code",
      "metadata": {
        "id": "E63qJXW0NzzL",
        "colab_type": "code",
        "colab": {
          "base_uri": "https://localhost:8080/",
          "height": 34
        },
        "outputId": "506cac31-fc3c-40d5-b723-1afac2246eb1"
      },
      "source": [
        "Counter(gaia_par_objs_nodupes.survey_marker)"
      ],
      "execution_count": null,
      "outputs": [
        {
          "output_type": "execute_result",
          "data": {
            "text/plain": [
              "Counter({'smss_gaia_parallax': 28639})"
            ]
          },
          "metadata": {
            "tags": []
          },
          "execution_count": 43
        }
      ]
    },
    {
      "cell_type": "code",
      "metadata": {
        "id": "Y7W3bD5rL_3E",
        "colab_type": "code",
        "colab": {
          "base_uri": "https://localhost:8080/",
          "height": 34
        },
        "outputId": "17d4f70b-fed1-40e1-f44a-7d78b34fd2e2"
      },
      "source": [
        "smss_tset_psources = pd.concat([gaia_par_objs_nodupes,known_dwarfs_nodupes])\n",
        "smss_tset_psources_nodupes = smss_tset_psources.drop_duplicates(subset='object_id',keep='last')\n",
        "smss_tset_psources.shape"
      ],
      "execution_count": null,
      "outputs": [
        {
          "output_type": "execute_result",
          "data": {
            "text/plain": [
              "(28849, 368)"
            ]
          },
          "metadata": {
            "tags": []
          },
          "execution_count": 44
        }
      ]
    },
    {
      "cell_type": "code",
      "metadata": {
        "id": "wQEnouusM6je",
        "colab_type": "code",
        "colab": {
          "base_uri": "https://localhost:8080/",
          "height": 85
        },
        "outputId": "47dbb149-75eb-4a90-ced2-a08d0b559166"
      },
      "source": [
        "Counter(smss_tset_psources_nodupes.survey_marker)"
      ],
      "execution_count": null,
      "outputs": [
        {
          "output_type": "execute_result",
          "data": {
            "text/plain": [
              "Counter({'gagne_lty': 6,\n",
              "         'gagne_m': 137,\n",
              "         'kiman': 67,\n",
              "         'smss_gaia_parallax': 28639})"
            ]
          },
          "metadata": {
            "tags": []
          },
          "execution_count": 45
        }
      ]
    },
    {
      "cell_type": "code",
      "metadata": {
        "id": "T9lHbihfNlv-",
        "colab_type": "code",
        "colab": {}
      },
      "source": [
        "smss_tset_psources_nodupes.to_csv(path_sm+'smss_red_trainingset_nodupes.csv.gz',compression='gzip',index=False)"
      ],
      "execution_count": null,
      "outputs": []
    },
    {
      "cell_type": "code",
      "metadata": {
        "id": "wZwq1VFOwj2c",
        "colab_type": "code",
        "colab": {}
      },
      "source": [
        "smss_tset_psources_nodupes = pd.read_csv(path_sm+'smss_red_trainingset_nodupes.csv.gz',compression='gzip',low_memory=False)"
      ],
      "execution_count": null,
      "outputs": []
    },
    {
      "cell_type": "code",
      "metadata": {
        "id": "WYlAZrZlASNm",
        "colab_type": "code",
        "colab": {}
      },
      "source": [
        "# parameter space plots\n",
        "lm = smss_tset_psources_nodupes[smss_tset_psources_nodupes['label'] == 'lm*']\n",
        "hm = smss_tset_psources_nodupes[smss_tset_psources_nodupes['label'] == 'hm*']"
      ],
      "execution_count": null,
      "outputs": []
    },
    {
      "cell_type": "code",
      "metadata": {
        "id": "JLet2RELb8gy",
        "colab_type": "code",
        "colab": {
          "base_uri": "https://localhost:8080/",
          "height": 366
        },
        "outputId": "2ffc98cc-9260-497c-ce87-fb32e2e59698"
      },
      "source": [
        "fig = plt.figure(1, figsize=(1*3.4, 2*3.4*3/4.))\n",
        "\n",
        "ax = plt.subplot(2,1,1)\n",
        "ax1 = ax.scatter(lm['i_psf']-lm['z_psf'],lm['w1mpro'] - lm['w2mpro'],\n",
        "                c='C0',s=1,label='Train UCD',rasterized=True)\n",
        "ax4 = ax.scatter(hm['i_psf']-hm['z_psf'],hm['w1mpro'] - hm['w2mpro'],\n",
        "                  c='C1',s=10,label='Train RG')\n",
        "plt.ylabel('$W1 - W2$')\n",
        "plt.xlabel('$i - z$')\n",
        "#plt.xlim(0,5)\n",
        "#plt.ylim(-0.5,2.0)\n",
        "leg=plt.legend(loc='upper right',markerscale=5, borderaxespad=0.)\n",
        "leg.legendHandles[1]._sizes = [20]\n",
        "for l in leg.get_lines():\n",
        "    l.set_alpha(1)\n",
        "ax1.set_alpha(0.1)\n",
        "ax4.set_alpha(1.0)\n",
        "plt.minorticks_on()\n",
        "\n",
        "\n",
        "ax_2 = plt.subplot(2,1,2)\n",
        "ax1=ax_2.scatter(lm['j_m'] - lm['h_m'],lm['h_m'] - lm['k_m'],\n",
        "                c='C0',s=1,label='Train UCD',rasterized=True)\n",
        "ax4 = ax_2.scatter(hm['j_m'] - hm['h_m'],hm['h_m'] - hm['k_m'],\n",
        "                  c='C1',s=10,label='Train RG')\n",
        "plt.xlabel('$J - H$')\n",
        "plt.ylabel('$H - K$')\n",
        "ax1.set_alpha(0.1)\n",
        "ax4.set_alpha(1.0)\n",
        "\n",
        "plt.minorticks_on()\n",
        "plt.tight_layout()\n",
        "plt.savefig('gdrive/My Drive/Colab Notebooks/figures/smss_training_parameter_space_scatter.pdf',dpi=300,bbox_inches='tight',padding=0)\n",
        "plt.show()"
      ],
      "execution_count": null,
      "outputs": [
        {
          "output_type": "display_data",
          "data": {
            "image/png": "[encoded data removed]",
            "text/plain": [
              "<Figure size 244.8x367.2 with 2 Axes>"
            ]
          },
          "metadata": {
            "tags": []
          }
        }
      ]
    },
    {
      "cell_type": "code",
      "metadata": {
        "id": "UGkqsJ6CdCRl",
        "colab_type": "code",
        "colab": {
          "base_uri": "https://localhost:8080/",
          "height": 51
        },
        "outputId": "9d67da79-3ccd-4770-a78e-517511e20425"
      },
      "source": [
        "levels_1 = conf_levels(lm['i_psf'] - lm['z_psf'],lm['w1mpro'] - lm['w2mpro'],bin_n = 15)\n",
        "levels_2 = conf_levels(hm['i_psf'] - hm['z_psf'],hm['w1mpro'] - hm['w2mpro'],bin_n=4)\n",
        "print(levels_1)\n",
        "print(levels_2)"
      ],
      "execution_count": null,
      "outputs": [
        {
          "output_type": "stream",
          "text": [
            "[0.9019398513426294, 14.61659295551052]\n",
            "[0.2859881397870255, 2.573893258071785]\n"
          ],
          "name": "stdout"
        }
      ]
    },
    {
      "cell_type": "code",
      "metadata": {
        "id": "JqWU7evpg2vJ",
        "colab_type": "code",
        "colab": {
          "base_uri": "https://localhost:8080/",
          "height": 368
        },
        "outputId": "3fe1d9ae-b5de-472a-b7d6-58e38c403f27"
      },
      "source": [
        "fig = plt.figure(1, figsize=(1*3.4, 2*3.4*3/4.))\n",
        "\n",
        "ax = plt.subplot(2,1,1)\n",
        "\n",
        "X1,Y1,Z1 = gauss_levels(lm['i_psf'] - lm['z_psf'],lm['w1mpro'] - lm['w2mpro'])\n",
        "X2,Y2,Z2 = gauss_levels(hm['i_psf'] - hm['z_psf'],hm['w1mpro'] - hm['w2mpro'])\n",
        "levels_1 = conf_levels(lm['i_psf'] - lm['z_psf'],lm['w1mpro'] - lm['w2mpro'],bin_n = 15)\n",
        "levels_2 = conf_levels(hm['i_psf'] - hm['z_psf'],hm['w1mpro'] - hm['w2mpro'],bin_n=4)\n",
        "\n",
        "ax1 = ax.contour(X1,Y1,Z1, levels=levels_1, colors=['C0'], linestyles=['solid','--','-.'], linewidths=[1,2], zorder=-20)\n",
        "ax2 = ax.contour(X2,Y2,Z2, levels=levels_2, colors=['C1'], linestyles=['solid','--','-.'], linewidths=[1,2], zorder=-20)\n",
        "plt.ylabel('$W1 - W2$')\n",
        "plt.xlabel('$i - z$')\n",
        "ax.set_xlim(0.70,2.0)\n",
        "ax.set_ylim(-0.25,0.50)\n",
        "plt.minorticks_on()\n",
        "\n",
        "X1,Y1,Z1 = gauss_levels(lm['j_m'] - lm['h_m'],lm['h_m'] - lm['k_m'])\n",
        "X2,Y2,Z2 = gauss_levels(hm['j_m'] - hm['h_m'],hm['h_m'] - hm['k_m'])\n",
        "levels_1 = conf_levels(lm['j_m'] - lm['h_m'],lm['h_m'] - lm['k_m'],bin_n = 15)\n",
        "levels_2 = conf_levels(hm['j_m'] - hm['h_m'],hm['h_m'] - hm['k_m'],bin_n=5)\n",
        "\n",
        "ax_2 = plt.subplot(2,1,2)\n",
        "ax1 = ax_2.contour(X1,Y1,Z1, levels=levels_1, colors=['C0'], linestyles=['solid','--','-.'], linewidths=[1,2], zorder=-20)\n",
        "ax2 = ax_2.contour(X2,Y2,Z2, levels=levels_2, colors=['C1'], linestyles=['solid','--','-.'], linewidths=[1,2], zorder=-20)\n",
        "#ax_2.set_xlim(0.70,2.0)\n",
        "ax_2.set_ylim(-0.1,0.75)\n",
        "plt.xlabel('$J - H$')\n",
        "plt.ylabel('$H - K_s$')\n",
        "\n",
        "ax.plot([0,0],[0,0], ls='solid', c='C0', lw=2, label=r'UCD')\n",
        "ax.plot([0,0],[0,0], ls='solid', c='C1', lw=2, label=r'RG')\n",
        "ax.legend(loc='upper right', frameon=False)\n",
        "\n",
        "plt.minorticks_on()\n",
        "plt.tight_layout()\n",
        "plt.savefig('gdrive/My Drive/Colab Notebooks/figures/smss_training_parameter_space_contour.pdf',dpi=300,bbox_inches='tight',padding=0)\n",
        "plt.show()"
      ],
      "execution_count": null,
      "outputs": [
        {
          "output_type": "display_data",
          "data": {
            "image/png": "[encoded data removed]",
            "text/plain": [
              "<Figure size 244.8x367.2 with 2 Axes>"
            ]
          },
          "metadata": {
            "tags": []
          }
        }
      ]
    },
    {
      "cell_type": "code",
      "metadata": {
        "id": "fhT9i8jZh9Kd",
        "colab_type": "code",
        "colab": {}
      },
      "source": [
        ""
      ],
      "execution_count": null,
      "outputs": []
    }
  ]
}