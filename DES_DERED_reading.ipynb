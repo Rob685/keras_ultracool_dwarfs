{
  "nbformat": 4,
  "nbformat_minor": 0,
  "metadata": {
    "colab": {
      "name": "DES_DERED_reading.ipynb",
      "provenance": [],
      "collapsed_sections": [
        "A7osmPaXfPK0",
        "zkbHh-df7Ev6",
        "sEWLIt68X1Oj"
      ],
      "authorship_tag": "ABX9TyMbH0kWsJus/TvS6ausNS8N",
      "include_colab_link": true
    },
    "kernelspec": {
      "name": "python3",
      "display_name": "Python 3"
    }
  },
  "cells": [
    {
      "cell_type": "markdown",
      "metadata": {
        "id": "view-in-github",
        "colab_type": "text"
      },
      "source": [
        "<a href=\"https://colab.research.google.com/github/Rob685/coolstarsucsd/blob/master/DES_DERED_reading.ipynb\" target=\"_parent\"><img src=\"https://colab.research.google.com/assets/colab-badge.svg\" alt=\"Open In Colab\"/></a>"
      ]
    },
    {
      "cell_type": "markdown",
      "metadata": {
        "id": "WjDoCc2IIJfO",
        "colab_type": "text"
      },
      "source": [
        "# Reading the dereddened DES files. \n",
        "This notebook exists because we realized in 04/28/20 that we weren't using the dereddened magnitudes in DES, so the goal now is to rebuild the training set and reference sets with the dereddened columns.\n",
        "\n",
        "On 06/02/2020 I'm reading the new DES data set that overlaps with the same spectral types as SMSS. That way we cover the same spectral types and don't need to have a hybrid training and reference set."
      ]
    },
    {
      "cell_type": "code",
      "metadata": {
        "id": "Rqtq_b_kGyFg",
        "colab_type": "code",
        "colab": {
          "base_uri": "https://localhost:8080/",
          "height": 34
        },
        "outputId": "3304342e-0297-4c7c-a436-e539575c54c3"
      },
      "source": [
        "import pandas as pd\n",
        "import numpy as np\n",
        "from scipy import stats\n",
        "import scipy\n",
        "import matplotlib.pyplot as plt\n",
        "import matplotlib.ticker\n",
        "from matplotlib.colors import LogNorm\n",
        "from astropy.io import ascii\n",
        "from astropy.table import Table\n",
        "from astropy.io.misc.hdf5 import read_table_hdf5\n",
        "from collections import Counter\n",
        "from google.colab import drive\n",
        "drive.mount('/content/gdrive')\n",
        "\n",
        "import sys\n",
        "sys.path.append('/content/gdrive/My Drive/Colab Notebooks')"
      ],
      "execution_count": null,
      "outputs": [
        {
          "output_type": "stream",
          "text": [
            "Drive already mounted at /content/gdrive; to attempt to forcibly remount, call drive.mount(\"/content/gdrive\", force_remount=True).\n"
          ],
          "name": "stdout"
        }
      ]
    },
    {
      "cell_type": "code",
      "metadata": {
        "id": "UxVdM18UYQof",
        "colab_type": "code",
        "colab": {}
      },
      "source": [
        "path_des = 'gdrive/My Drive/Colab Notebooks/des_workspace/'\n",
        "colors = plt.rcParams['axes.prop_cycle'].by_key()['color']\n",
        "plt.rcParams['figure.facecolor'] = 'white'\n",
        "plt.rc('text', usetex=True)\n",
        "plt.rc('font', family='serif',size=15)\n",
        "plt.rc('axes', linewidth=2.5) # change back to 1.5\n",
        "plt.rc('axes', labelsize=15) # change back to 10\n",
        "plt.rc('xtick', labelsize=8)\n",
        "plt.rc('ytick', labelsize=8)\n",
        "plt.rc('legend', fontsize=15) # change back to 7"
      ],
      "execution_count": null,
      "outputs": []
    },
    {
      "cell_type": "code",
      "metadata": {
        "id": "CqXC33hFYT55",
        "colab_type": "code",
        "colab": {
          "base_uri": "https://localhost:8080/",
          "height": 1000
        },
        "outputId": "2c410497-d5f1-4ad0-ab49-b15fc16c8135"
      },
      "source": [
        "! sudo apt-get install texlive-latex-recommended #1\n",
        "#! sudo apt-get install dvipng texlive-fonts-recommended #2\n",
        "! sudo apt-get install cm-super\n",
        "! sudo apt-get install dvipng texlive-latex-extra texlive-fonts-recommended \n",
        "! wget http://mirrors.ctan.org/macros/latex/contrib/type1cm.zip #3\n",
        "! unzip type1cm.zip -d /tmp/type1cm #4\n",
        "! cd /tmp/type1cm/type1cm/ && sudo latex type1cm.ins  #5\n",
        "! sudo mkdir /usr/share/texmf/tex/latex/type1cm #6\n",
        "! sudo cp /tmp/type1cm/type1cm/type1cm.sty /usr/share/texmf/tex/latex/type1cm #7\n",
        "! sudo texhash #8"
      ],
      "execution_count": null,
      "outputs": [
        {
          "output_type": "stream",
          "text": [
            "Reading package lists... Done\n",
            "Building dependency tree       \n",
            "Reading state information... Done\n",
            "The following package was automatically installed and is no longer required:\n",
            "  libnvidia-common-440\n",
            "Use 'sudo apt autoremove' to remove it.\n",
            "The following additional packages will be installed:\n",
            "  fonts-droid-fallback fonts-lmodern fonts-noto-mono libcupsfilters1\n",
            "  libcupsimage2 libgs9 libgs9-common libijs-0.35 libjbig2dec0 libkpathsea6\n",
            "  libpotrace0 libptexenc1 libsynctex1 libtexlua52 libtexluajit2 libzzip-0-13\n",
            "  lmodern poppler-data t1utils tex-common texlive-base texlive-binaries\n",
            "  texlive-latex-base\n",
            "Suggested packages:\n",
            "  fonts-noto poppler-utils ghostscript fonts-japanese-mincho\n",
            "  | fonts-ipafont-mincho fonts-japanese-gothic | fonts-ipafont-gothic\n",
            "  fonts-arphic-ukai fonts-arphic-uming fonts-nanum debhelper gv\n",
            "  | postscript-viewer perl-tk xpdf-reader | pdf-viewer texlive-latex-base-doc\n",
            "  texlive-latex-recommended-doc texlive-pstricks\n",
            "The following NEW packages will be installed:\n",
            "  fonts-droid-fallback fonts-lmodern fonts-noto-mono libcupsfilters1\n",
            "  libcupsimage2 libgs9 libgs9-common libijs-0.35 libjbig2dec0 libkpathsea6\n",
            "  libpotrace0 libptexenc1 libsynctex1 libtexlua52 libtexluajit2 libzzip-0-13\n",
            "  lmodern poppler-data t1utils tex-common texlive-base texlive-binaries\n",
            "  texlive-latex-base texlive-latex-recommended\n",
            "0 upgraded, 24 newly installed, 0 to remove and 35 not upgraded.\n",
            "Need to get 68.4 MB of archives.\n",
            "After this operation, 223 MB of additional disk space will be used.\n",
            "Get:1 http://archive.ubuntu.com/ubuntu bionic/main amd64 fonts-droid-fallback all 1:6.0.1r16-1.1 [1,805 kB]\n",
            "Get:2 http://archive.ubuntu.com/ubuntu bionic/main amd64 poppler-data all 0.4.8-2 [1,479 kB]\n",
            "Get:3 http://archive.ubuntu.com/ubuntu bionic/main amd64 tex-common all 6.09 [33.0 kB]\n",
            "Get:4 http://archive.ubuntu.com/ubuntu bionic/main amd64 fonts-lmodern all 2.004.5-3 [4,551 kB]\n",
            "Get:5 http://archive.ubuntu.com/ubuntu bionic/main amd64 fonts-noto-mono all 20171026-2 [75.5 kB]\n",
            "Get:6 http://archive.ubuntu.com/ubuntu bionic-updates/main amd64 libcupsfilters1 amd64 1.20.2-0ubuntu3.1 [108 kB]\n",
            "Get:7 http://archive.ubuntu.com/ubuntu bionic-updates/main amd64 libcupsimage2 amd64 2.2.7-1ubuntu2.8 [18.6 kB]\n",
            "Get:8 http://archive.ubuntu.com/ubuntu bionic/main amd64 libijs-0.35 amd64 0.35-13 [15.5 kB]\n",
            "Get:9 http://archive.ubuntu.com/ubuntu bionic/main amd64 libjbig2dec0 amd64 0.13-6 [55.9 kB]\n",
            "Get:10 http://archive.ubuntu.com/ubuntu bionic-updates/main amd64 libgs9-common all 9.26~dfsg+0-0ubuntu0.18.04.12 [5,092 kB]\n",
            "Get:11 http://archive.ubuntu.com/ubuntu bionic-updates/main amd64 libgs9 amd64 9.26~dfsg+0-0ubuntu0.18.04.12 [2,264 kB]\n",
            "Get:12 http://archive.ubuntu.com/ubuntu bionic-updates/main amd64 libkpathsea6 amd64 2017.20170613.44572-8ubuntu0.1 [54.9 kB]\n",
            "Get:13 http://archive.ubuntu.com/ubuntu bionic/main amd64 libpotrace0 amd64 1.14-2 [17.4 kB]\n",
            "Get:14 http://archive.ubuntu.com/ubuntu bionic-updates/main amd64 libptexenc1 amd64 2017.20170613.44572-8ubuntu0.1 [34.5 kB]\n",
            "Get:15 http://archive.ubuntu.com/ubuntu bionic-updates/main amd64 libsynctex1 amd64 2017.20170613.44572-8ubuntu0.1 [41.4 kB]\n",
            "Get:16 http://archive.ubuntu.com/ubuntu bionic-updates/main amd64 libtexlua52 amd64 2017.20170613.44572-8ubuntu0.1 [91.2 kB]\n",
            "Get:17 http://archive.ubuntu.com/ubuntu bionic-updates/main amd64 libtexluajit2 amd64 2017.20170613.44572-8ubuntu0.1 [230 kB]\n",
            "Get:18 http://archive.ubuntu.com/ubuntu bionic-updates/main amd64 libzzip-0-13 amd64 0.13.62-3.1ubuntu0.18.04.1 [26.0 kB]\n",
            "Get:19 http://archive.ubuntu.com/ubuntu bionic/main amd64 lmodern all 2.004.5-3 [9,631 kB]\n",
            "Get:20 http://archive.ubuntu.com/ubuntu bionic/main amd64 t1utils amd64 1.41-2 [56.0 kB]\n",
            "Get:21 http://archive.ubuntu.com/ubuntu bionic-updates/main amd64 texlive-binaries amd64 2017.20170613.44572-8ubuntu0.1 [8,179 kB]\n",
            "Get:22 http://archive.ubuntu.com/ubuntu bionic/main amd64 texlive-base all 2017.20180305-1 [18.7 MB]\n",
            "Get:23 http://archive.ubuntu.com/ubuntu bionic/main amd64 texlive-latex-base all 2017.20180305-1 [951 kB]\n",
            "Get:24 http://archive.ubuntu.com/ubuntu bionic/main amd64 texlive-latex-recommended all 2017.20180305-1 [14.9 MB]\n",
            "Fetched 68.4 MB in 5s (14.4 MB/s)\n",
            "debconf: unable to initialize frontend: Dialog\n",
            "debconf: (No usable dialog-like program is installed, so the dialog based frontend cannot be used. at /usr/share/perl5/Debconf/FrontEnd/Dialog.pm line 76, <> line 24.)\n",
            "debconf: falling back to frontend: Readline\n",
            "debconf: unable to initialize frontend: Readline\n",
            "debconf: (This frontend requires a controlling tty.)\n",
            "debconf: falling back to frontend: Teletype\n",
            "dpkg-preconfigure: unable to re-open stdin: \n",
            "Selecting previously unselected package fonts-droid-fallback.\n",
            "(Reading database ... 144465 files and directories currently installed.)\n",
            "Preparing to unpack .../00-fonts-droid-fallback_1%3a6.0.1r16-1.1_all.deb ...\n",
            "Unpacking fonts-droid-fallback (1:6.0.1r16-1.1) ...\n",
            "Selecting previously unselected package poppler-data.\n",
            "Preparing to unpack .../01-poppler-data_0.4.8-2_all.deb ...\n",
            "Unpacking poppler-data (0.4.8-2) ...\n",
            "Selecting previously unselected package tex-common.\n",
            "Preparing to unpack .../02-tex-common_6.09_all.deb ...\n",
            "Unpacking tex-common (6.09) ...\n",
            "Selecting previously unselected package fonts-lmodern.\n",
            "Preparing to unpack .../03-fonts-lmodern_2.004.5-3_all.deb ...\n",
            "Unpacking fonts-lmodern (2.004.5-3) ...\n",
            "Selecting previously unselected package fonts-noto-mono.\n",
            "Preparing to unpack .../04-fonts-noto-mono_20171026-2_all.deb ...\n",
            "Unpacking fonts-noto-mono (20171026-2) ...\n",
            "Selecting previously unselected package libcupsfilters1:amd64.\n",
            "Preparing to unpack .../05-libcupsfilters1_1.20.2-0ubuntu3.1_amd64.deb ...\n",
            "Unpacking libcupsfilters1:amd64 (1.20.2-0ubuntu3.1) ...\n",
            "Selecting previously unselected package libcupsimage2:amd64.\n",
            "Preparing to unpack .../06-libcupsimage2_2.2.7-1ubuntu2.8_amd64.deb ...\n",
            "Unpacking libcupsimage2:amd64 (2.2.7-1ubuntu2.8) ...\n",
            "Selecting previously unselected package libijs-0.35:amd64.\n",
            "Preparing to unpack .../07-libijs-0.35_0.35-13_amd64.deb ...\n",
            "Unpacking libijs-0.35:amd64 (0.35-13) ...\n",
            "Selecting previously unselected package libjbig2dec0:amd64.\n",
            "Preparing to unpack .../08-libjbig2dec0_0.13-6_amd64.deb ...\n",
            "Unpacking libjbig2dec0:amd64 (0.13-6) ...\n",
            "Selecting previously unselected package libgs9-common.\n",
            "Preparing to unpack .../09-libgs9-common_9.26~dfsg+0-0ubuntu0.18.04.12_all.deb ...\n",
            "Unpacking libgs9-common (9.26~dfsg+0-0ubuntu0.18.04.12) ...\n",
            "Selecting previously unselected package libgs9:amd64.\n",
            "Preparing to unpack .../10-libgs9_9.26~dfsg+0-0ubuntu0.18.04.12_amd64.deb ...\n",
            "Unpacking libgs9:amd64 (9.26~dfsg+0-0ubuntu0.18.04.12) ...\n",
            "Selecting previously unselected package libkpathsea6:amd64.\n",
            "Preparing to unpack .../11-libkpathsea6_2017.20170613.44572-8ubuntu0.1_amd64.deb ...\n",
            "Unpacking libkpathsea6:amd64 (2017.20170613.44572-8ubuntu0.1) ...\n",
            "Selecting previously unselected package libpotrace0.\n",
            "Preparing to unpack .../12-libpotrace0_1.14-2_amd64.deb ...\n",
            "Unpacking libpotrace0 (1.14-2) ...\n",
            "Selecting previously unselected package libptexenc1:amd64.\n",
            "Preparing to unpack .../13-libptexenc1_2017.20170613.44572-8ubuntu0.1_amd64.deb ...\n",
            "Unpacking libptexenc1:amd64 (2017.20170613.44572-8ubuntu0.1) ...\n",
            "Selecting previously unselected package libsynctex1:amd64.\n",
            "Preparing to unpack .../14-libsynctex1_2017.20170613.44572-8ubuntu0.1_amd64.deb ...\n",
            "Unpacking libsynctex1:amd64 (2017.20170613.44572-8ubuntu0.1) ...\n",
            "Selecting previously unselected package libtexlua52:amd64.\n",
            "Preparing to unpack .../15-libtexlua52_2017.20170613.44572-8ubuntu0.1_amd64.deb ...\n",
            "Unpacking libtexlua52:amd64 (2017.20170613.44572-8ubuntu0.1) ...\n",
            "Selecting previously unselected package libtexluajit2:amd64.\n",
            "Preparing to unpack .../16-libtexluajit2_2017.20170613.44572-8ubuntu0.1_amd64.deb ...\n",
            "Unpacking libtexluajit2:amd64 (2017.20170613.44572-8ubuntu0.1) ...\n",
            "Selecting previously unselected package libzzip-0-13:amd64.\n",
            "Preparing to unpack .../17-libzzip-0-13_0.13.62-3.1ubuntu0.18.04.1_amd64.deb ...\n",
            "Unpacking libzzip-0-13:amd64 (0.13.62-3.1ubuntu0.18.04.1) ...\n",
            "Selecting previously unselected package lmodern.\n",
            "Preparing to unpack .../18-lmodern_2.004.5-3_all.deb ...\n",
            "Unpacking lmodern (2.004.5-3) ...\n",
            "Selecting previously unselected package t1utils.\n",
            "Preparing to unpack .../19-t1utils_1.41-2_amd64.deb ...\n",
            "Unpacking t1utils (1.41-2) ...\n",
            "Selecting previously unselected package texlive-binaries.\n",
            "Preparing to unpack .../20-texlive-binaries_2017.20170613.44572-8ubuntu0.1_amd64.deb ...\n",
            "Unpacking texlive-binaries (2017.20170613.44572-8ubuntu0.1) ...\n",
            "Selecting previously unselected package texlive-base.\n",
            "Preparing to unpack .../21-texlive-base_2017.20180305-1_all.deb ...\n",
            "Unpacking texlive-base (2017.20180305-1) ...\n",
            "Selecting previously unselected package texlive-latex-base.\n",
            "Preparing to unpack .../22-texlive-latex-base_2017.20180305-1_all.deb ...\n",
            "Unpacking texlive-latex-base (2017.20180305-1) ...\n",
            "Selecting previously unselected package texlive-latex-recommended.\n",
            "Preparing to unpack .../23-texlive-latex-recommended_2017.20180305-1_all.deb ...\n",
            "Unpacking texlive-latex-recommended (2017.20180305-1) ...\n",
            "Setting up libgs9-common (9.26~dfsg+0-0ubuntu0.18.04.12) ...\n",
            "Setting up libkpathsea6:amd64 (2017.20170613.44572-8ubuntu0.1) ...\n",
            "Setting up libtexlua52:amd64 (2017.20170613.44572-8ubuntu0.1) ...\n",
            "Setting up fonts-droid-fallback (1:6.0.1r16-1.1) ...\n",
            "Setting up libsynctex1:amd64 (2017.20170613.44572-8ubuntu0.1) ...\n",
            "Setting up libptexenc1:amd64 (2017.20170613.44572-8ubuntu0.1) ...\n",
            "Setting up tex-common (6.09) ...\n",
            "debconf: unable to initialize frontend: Dialog\n",
            "debconf: (No usable dialog-like program is installed, so the dialog based frontend cannot be used. at /usr/share/perl5/Debconf/FrontEnd/Dialog.pm line 76.)\n",
            "debconf: falling back to frontend: Readline\n",
            "update-language: texlive-base not installed and configured, doing nothing!\n",
            "Setting up poppler-data (0.4.8-2) ...\n",
            "Setting up fonts-noto-mono (20171026-2) ...\n",
            "Setting up libcupsfilters1:amd64 (1.20.2-0ubuntu3.1) ...\n",
            "Setting up libcupsimage2:amd64 (2.2.7-1ubuntu2.8) ...\n",
            "Setting up libjbig2dec0:amd64 (0.13-6) ...\n",
            "Setting up t1utils (1.41-2) ...\n",
            "Setting up libijs-0.35:amd64 (0.35-13) ...\n",
            "Setting up libpotrace0 (1.14-2) ...\n",
            "Setting up libzzip-0-13:amd64 (0.13.62-3.1ubuntu0.18.04.1) ...\n",
            "Setting up libgs9:amd64 (9.26~dfsg+0-0ubuntu0.18.04.12) ...\n",
            "Setting up libtexluajit2:amd64 (2017.20170613.44572-8ubuntu0.1) ...\n",
            "Setting up fonts-lmodern (2.004.5-3) ...\n",
            "Setting up texlive-binaries (2017.20170613.44572-8ubuntu0.1) ...\n",
            "update-alternatives: using /usr/bin/xdvi-xaw to provide /usr/bin/xdvi.bin (xdvi.bin) in auto mode\n",
            "update-alternatives: using /usr/bin/bibtex.original to provide /usr/bin/bibtex (bibtex) in auto mode\n",
            "Setting up texlive-base (2017.20180305-1) ...\n",
            "mktexlsr: Updating /var/lib/texmf/ls-R-TEXLIVEDIST... \n",
            "mktexlsr: Updating /var/lib/texmf/ls-R-TEXMFMAIN... \n",
            "mktexlsr: Updating /var/lib/texmf/ls-R... \n",
            "mktexlsr: Done.\n",
            "tl-paper: setting paper size for dvips to a4: /var/lib/texmf/dvips/config/config-paper.ps\n",
            "tl-paper: setting paper size for dvipdfmx to a4: /var/lib/texmf/dvipdfmx/dvipdfmx-paper.cfg\n",
            "tl-paper: setting paper size for xdvi to a4: /var/lib/texmf/xdvi/XDvi-paper\n",
            "tl-paper: setting paper size for pdftex to a4: /var/lib/texmf/tex/generic/config/pdftexconfig.tex\n",
            "debconf: unable to initialize frontend: Dialog\n",
            "debconf: (No usable dialog-like program is installed, so the dialog based frontend cannot be used. at /usr/share/perl5/Debconf/FrontEnd/Dialog.pm line 76.)\n",
            "debconf: falling back to frontend: Readline\n",
            "Setting up texlive-latex-base (2017.20180305-1) ...\n",
            "Setting up lmodern (2.004.5-3) ...\n",
            "Setting up texlive-latex-recommended (2017.20180305-1) ...\n",
            "Processing triggers for libc-bin (2.27-3ubuntu1) ...\n",
            "/sbin/ldconfig.real: /usr/local/lib/python3.6/dist-packages/ideep4py/lib/libmkldnn.so.0 is not a symbolic link\n",
            "\n",
            "Processing triggers for man-db (2.8.3-2ubuntu0.1) ...\n",
            "Processing triggers for fontconfig (2.12.6-0ubuntu2) ...\n",
            "Processing triggers for mime-support (3.60ubuntu1) ...\n",
            "Processing triggers for tex-common (6.09) ...\n",
            "debconf: unable to initialize frontend: Dialog\n",
            "debconf: (No usable dialog-like program is installed, so the dialog based frontend cannot be used. at /usr/share/perl5/Debconf/FrontEnd/Dialog.pm line 76.)\n",
            "debconf: falling back to frontend: Readline\n",
            "Running updmap-sys. This may take some time... done.\n",
            "Running mktexlsr /var/lib/texmf ... done.\n",
            "Building format(s) --all.\n",
            "\tThis may take some time... done.\n",
            "Reading package lists... Done\n",
            "Building dependency tree       \n",
            "Reading state information... Done\n",
            "The following package was automatically installed and is no longer required:\n",
            "  libnvidia-common-440\n",
            "Use 'sudo apt autoremove' to remove it.\n",
            "The following additional packages will be installed:\n",
            "  cm-super-minimal pfb2t1c2pfb\n",
            "The following NEW packages will be installed:\n",
            "  cm-super cm-super-minimal pfb2t1c2pfb\n",
            "0 upgraded, 3 newly installed, 0 to remove and 35 not upgraded.\n",
            "Need to get 24.5 MB of archives.\n",
            "After this operation, 59.9 MB of additional disk space will be used.\n",
            "Get:1 http://archive.ubuntu.com/ubuntu bionic/universe amd64 cm-super-minimal all 0.3.4-11 [5,810 kB]\n",
            "Get:2 http://archive.ubuntu.com/ubuntu bionic/universe amd64 pfb2t1c2pfb amd64 0.3-11 [9,342 B]\n",
            "Get:3 http://archive.ubuntu.com/ubuntu bionic/universe amd64 cm-super all 0.3.4-11 [18.7 MB]\n",
            "Fetched 24.5 MB in 3s (9,356 kB/s)\n",
            "debconf: unable to initialize frontend: Dialog\n",
            "debconf: (No usable dialog-like program is installed, so the dialog based frontend cannot be used. at /usr/share/perl5/Debconf/FrontEnd/Dialog.pm line 76, <> line 3.)\n",
            "debconf: falling back to frontend: Readline\n",
            "debconf: unable to initialize frontend: Readline\n",
            "debconf: (This frontend requires a controlling tty.)\n",
            "debconf: falling back to frontend: Teletype\n",
            "dpkg-preconfigure: unable to re-open stdin: \n",
            "Selecting previously unselected package cm-super-minimal.\n",
            "(Reading database ... 151799 files and directories currently installed.)\n",
            "Preparing to unpack .../cm-super-minimal_0.3.4-11_all.deb ...\n",
            "Unpacking cm-super-minimal (0.3.4-11) ...\n",
            "Selecting previously unselected package pfb2t1c2pfb.\n",
            "Preparing to unpack .../pfb2t1c2pfb_0.3-11_amd64.deb ...\n",
            "Unpacking pfb2t1c2pfb (0.3-11) ...\n",
            "Selecting previously unselected package cm-super.\n",
            "Preparing to unpack .../cm-super_0.3.4-11_all.deb ...\n",
            "Unpacking cm-super (0.3.4-11) ...\n",
            "Setting up pfb2t1c2pfb (0.3-11) ...\n",
            "Setting up cm-super-minimal (0.3.4-11) ...\n",
            "Setting up cm-super (0.3.4-11) ...\n",
            "Creating fonts. This may take some time... done.\n",
            "Processing triggers for fontconfig (2.12.6-0ubuntu2) ...\n",
            "Processing triggers for tex-common (6.09) ...\n",
            "debconf: unable to initialize frontend: Dialog\n",
            "debconf: (No usable dialog-like program is installed, so the dialog based frontend cannot be used. at /usr/share/perl5/Debconf/FrontEnd/Dialog.pm line 76.)\n",
            "debconf: falling back to frontend: Readline\n",
            "Running mktexlsr. This may take some time... done.\n",
            "Running updmap-sys. This may take some time... done.\n",
            "Running mktexlsr /var/lib/texmf ... done.\n",
            "Processing triggers for man-db (2.8.3-2ubuntu0.1) ...\n",
            "Reading package lists... Done\n",
            "Building dependency tree       \n",
            "Reading state information... Done\n",
            "The following package was automatically installed and is no longer required:\n",
            "  libnvidia-common-440\n",
            "Use 'sudo apt autoremove' to remove it.\n",
            "The following additional packages will be installed:\n",
            "  fonts-lato fonts-texgyre ghostscript gsfonts javascript-common libjs-jquery\n",
            "  libruby2.5 preview-latex-style rake ruby ruby-did-you-mean ruby-minitest\n",
            "  ruby-net-telnet ruby-power-assert ruby-test-unit ruby2.5\n",
            "  rubygems-integration tex-gyre texlive-pictures texlive-plain-generic tipa\n",
            "Suggested packages:\n",
            "  ghostscript-x apache2 | lighttpd | httpd ri ruby-dev bundler\n",
            "  texlive-fonts-recommended-doc python-pygments icc-profiles\n",
            "  libfile-which-perl libspreadsheet-parseexcel-perl texlive-latex-extra-doc\n",
            "  dot2tex prerex ruby-tcltk | libtcltk-ruby texlive-pictures-doc vprerex\n",
            "The following NEW packages will be installed:\n",
            "  dvipng fonts-lato fonts-texgyre ghostscript gsfonts javascript-common\n",
            "  libjs-jquery libruby2.5 preview-latex-style rake ruby ruby-did-you-mean\n",
            "  ruby-minitest ruby-net-telnet ruby-power-assert ruby-test-unit ruby2.5\n",
            "  rubygems-integration tex-gyre texlive-fonts-recommended texlive-latex-extra\n",
            "  texlive-pictures texlive-plain-generic tipa\n",
            "0 upgraded, 24 newly installed, 0 to remove and 35 not upgraded.\n",
            "Need to get 69.8 MB of archives.\n",
            "After this operation, 221 MB of additional disk space will be used.\n",
            "Get:1 http://archive.ubuntu.com/ubuntu bionic/main amd64 fonts-lato all 2.0-2 [2,698 kB]\n",
            "Get:2 http://archive.ubuntu.com/ubuntu bionic-updates/main amd64 ghostscript amd64 9.26~dfsg+0-0ubuntu0.18.04.12 [50.9 kB]\n",
            "Get:3 http://archive.ubuntu.com/ubuntu bionic/universe amd64 dvipng amd64 1.15-1 [78.2 kB]\n",
            "Get:4 http://archive.ubuntu.com/ubuntu bionic/universe amd64 fonts-texgyre all 20160520-1 [8,761 kB]\n",
            "Get:5 http://archive.ubuntu.com/ubuntu bionic/main amd64 gsfonts all 1:8.11+urwcyr1.0.7~pre44-4.4 [3,120 kB]\n",
            "Get:6 http://archive.ubuntu.com/ubuntu bionic/main amd64 javascript-common all 11 [6,066 B]\n",
            "Get:7 http://archive.ubuntu.com/ubuntu bionic/main amd64 libjs-jquery all 3.2.1-1 [152 kB]\n",
            "Get:8 http://archive.ubuntu.com/ubuntu bionic/main amd64 rubygems-integration all 1.11 [4,994 B]\n",
            "Get:9 http://archive.ubuntu.com/ubuntu bionic-updates/main amd64 ruby2.5 amd64 2.5.1-1ubuntu1.6 [48.6 kB]\n",
            "Get:10 http://archive.ubuntu.com/ubuntu bionic/main amd64 ruby amd64 1:2.5.1 [5,712 B]\n",
            "Get:11 http://archive.ubuntu.com/ubuntu bionic-updates/main amd64 rake all 12.3.1-1ubuntu0.1 [44.9 kB]\n",
            "Get:12 http://archive.ubuntu.com/ubuntu bionic/main amd64 ruby-did-you-mean all 1.2.0-2 [9,700 B]\n",
            "Get:13 http://archive.ubuntu.com/ubuntu bionic/main amd64 ruby-minitest all 5.10.3-1 [38.6 kB]\n",
            "Get:14 http://archive.ubuntu.com/ubuntu bionic/main amd64 ruby-net-telnet all 0.1.1-2 [12.6 kB]\n",
            "Get:15 http://archive.ubuntu.com/ubuntu bionic/main amd64 ruby-power-assert all 0.3.0-1 [7,952 B]\n",
            "Get:16 http://archive.ubuntu.com/ubuntu bionic/main amd64 ruby-test-unit all 3.2.5-1 [61.1 kB]\n",
            "Get:17 http://archive.ubuntu.com/ubuntu bionic-updates/main amd64 libruby2.5 amd64 2.5.1-1ubuntu1.6 [3,069 kB]\n",
            "Get:18 http://archive.ubuntu.com/ubuntu bionic/main amd64 preview-latex-style all 11.91-1ubuntu1 [185 kB]\n",
            "Get:19 http://archive.ubuntu.com/ubuntu bionic/universe amd64 tex-gyre all 20160520-1 [4,998 kB]\n",
            "Get:20 http://archive.ubuntu.com/ubuntu bionic/universe amd64 texlive-fonts-recommended all 2017.20180305-1 [5,262 kB]\n",
            "Get:21 http://archive.ubuntu.com/ubuntu bionic/universe amd64 texlive-pictures all 2017.20180305-1 [4,026 kB]\n",
            "Get:22 http://archive.ubuntu.com/ubuntu bionic/universe amd64 texlive-latex-extra all 2017.20180305-2 [10.6 MB]\n",
            "Get:23 http://archive.ubuntu.com/ubuntu bionic/universe amd64 texlive-plain-generic all 2017.20180305-2 [23.6 MB]\n",
            "Get:24 http://archive.ubuntu.com/ubuntu bionic/universe amd64 tipa all 2:1.3-20 [2,978 kB]\n",
            "Fetched 69.8 MB in 5s (14.5 MB/s)\n",
            "debconf: unable to initialize frontend: Dialog\n",
            "debconf: (No usable dialog-like program is installed, so the dialog based frontend cannot be used. at /usr/share/perl5/Debconf/FrontEnd/Dialog.pm line 76, <> line 24.)\n",
            "debconf: falling back to frontend: Readline\n",
            "debconf: unable to initialize frontend: Readline\n",
            "debconf: (This frontend requires a controlling tty.)\n",
            "debconf: falling back to frontend: Teletype\n",
            "dpkg-preconfigure: unable to re-open stdin: \n",
            "Selecting previously unselected package fonts-lato.\n",
            "(Reading database ... 152260 files and directories currently installed.)\n",
            "Preparing to unpack .../00-fonts-lato_2.0-2_all.deb ...\n",
            "Unpacking fonts-lato (2.0-2) ...\n",
            "Selecting previously unselected package ghostscript.\n",
            "Preparing to unpack .../01-ghostscript_9.26~dfsg+0-0ubuntu0.18.04.12_amd64.deb ...\n",
            "Unpacking ghostscript (9.26~dfsg+0-0ubuntu0.18.04.12) ...\n",
            "Selecting previously unselected package dvipng.\n",
            "Preparing to unpack .../02-dvipng_1.15-1_amd64.deb ...\n",
            "Unpacking dvipng (1.15-1) ...\n",
            "Selecting previously unselected package fonts-texgyre.\n",
            "Preparing to unpack .../03-fonts-texgyre_20160520-1_all.deb ...\n",
            "Unpacking fonts-texgyre (20160520-1) ...\n",
            "Selecting previously unselected package gsfonts.\n",
            "Preparing to unpack .../04-gsfonts_1%3a8.11+urwcyr1.0.7~pre44-4.4_all.deb ...\n",
            "Unpacking gsfonts (1:8.11+urwcyr1.0.7~pre44-4.4) ...\n",
            "Selecting previously unselected package javascript-common.\n",
            "Preparing to unpack .../05-javascript-common_11_all.deb ...\n",
            "Unpacking javascript-common (11) ...\n",
            "Selecting previously unselected package libjs-jquery.\n",
            "Preparing to unpack .../06-libjs-jquery_3.2.1-1_all.deb ...\n",
            "Unpacking libjs-jquery (3.2.1-1) ...\n",
            "Selecting previously unselected package rubygems-integration.\n",
            "Preparing to unpack .../07-rubygems-integration_1.11_all.deb ...\n",
            "Unpacking rubygems-integration (1.11) ...\n",
            "Selecting previously unselected package ruby2.5.\n",
            "Preparing to unpack .../08-ruby2.5_2.5.1-1ubuntu1.6_amd64.deb ...\n",
            "Unpacking ruby2.5 (2.5.1-1ubuntu1.6) ...\n",
            "Selecting previously unselected package ruby.\n",
            "Preparing to unpack .../09-ruby_1%3a2.5.1_amd64.deb ...\n",
            "Unpacking ruby (1:2.5.1) ...\n",
            "Selecting previously unselected package rake.\n",
            "Preparing to unpack .../10-rake_12.3.1-1ubuntu0.1_all.deb ...\n",
            "Unpacking rake (12.3.1-1ubuntu0.1) ...\n",
            "Selecting previously unselected package ruby-did-you-mean.\n",
            "Preparing to unpack .../11-ruby-did-you-mean_1.2.0-2_all.deb ...\n",
            "Unpacking ruby-did-you-mean (1.2.0-2) ...\n",
            "Selecting previously unselected package ruby-minitest.\n",
            "Preparing to unpack .../12-ruby-minitest_5.10.3-1_all.deb ...\n",
            "Unpacking ruby-minitest (5.10.3-1) ...\n",
            "Selecting previously unselected package ruby-net-telnet.\n",
            "Preparing to unpack .../13-ruby-net-telnet_0.1.1-2_all.deb ...\n",
            "Unpacking ruby-net-telnet (0.1.1-2) ...\n",
            "Selecting previously unselected package ruby-power-assert.\n",
            "Preparing to unpack .../14-ruby-power-assert_0.3.0-1_all.deb ...\n",
            "Unpacking ruby-power-assert (0.3.0-1) ...\n",
            "Selecting previously unselected package ruby-test-unit.\n",
            "Preparing to unpack .../15-ruby-test-unit_3.2.5-1_all.deb ...\n",
            "Unpacking ruby-test-unit (3.2.5-1) ...\n",
            "Selecting previously unselected package libruby2.5:amd64.\n",
            "Preparing to unpack .../16-libruby2.5_2.5.1-1ubuntu1.6_amd64.deb ...\n",
            "Unpacking libruby2.5:amd64 (2.5.1-1ubuntu1.6) ...\n",
            "Selecting previously unselected package preview-latex-style.\n",
            "Preparing to unpack .../17-preview-latex-style_11.91-1ubuntu1_all.deb ...\n",
            "Unpacking preview-latex-style (11.91-1ubuntu1) ...\n",
            "Selecting previously unselected package tex-gyre.\n",
            "Preparing to unpack .../18-tex-gyre_20160520-1_all.deb ...\n",
            "Unpacking tex-gyre (20160520-1) ...\n",
            "Selecting previously unselected package texlive-fonts-recommended.\n",
            "Preparing to unpack .../19-texlive-fonts-recommended_2017.20180305-1_all.deb ...\n",
            "Unpacking texlive-fonts-recommended (2017.20180305-1) ...\n",
            "Selecting previously unselected package texlive-pictures.\n",
            "Preparing to unpack .../20-texlive-pictures_2017.20180305-1_all.deb ...\n",
            "Unpacking texlive-pictures (2017.20180305-1) ...\n",
            "Selecting previously unselected package texlive-latex-extra.\n",
            "Preparing to unpack .../21-texlive-latex-extra_2017.20180305-2_all.deb ...\n",
            "Unpacking texlive-latex-extra (2017.20180305-2) ...\n",
            "Selecting previously unselected package texlive-plain-generic.\n",
            "Preparing to unpack .../22-texlive-plain-generic_2017.20180305-2_all.deb ...\n",
            "Unpacking texlive-plain-generic (2017.20180305-2) ...\n",
            "Selecting previously unselected package tipa.\n",
            "Preparing to unpack .../23-tipa_2%3a1.3-20_all.deb ...\n",
            "Unpacking tipa (2:1.3-20) ...\n",
            "Setting up libjs-jquery (3.2.1-1) ...\n",
            "Setting up gsfonts (1:8.11+urwcyr1.0.7~pre44-4.4) ...\n",
            "Setting up texlive-pictures (2017.20180305-1) ...\n",
            "Setting up tex-gyre (20160520-1) ...\n",
            "Setting up tipa (2:1.3-20) ...\n",
            "Regenerating '/var/lib/texmf/fmtutil.cnf-DEBIAN'... done.\n",
            "Regenerating '/var/lib/texmf/fmtutil.cnf-TEXLIVEDIST'... done.\n",
            "update-fmtutil has updated the following file(s):\n",
            "\t/var/lib/texmf/fmtutil.cnf-DEBIAN\n",
            "\t/var/lib/texmf/fmtutil.cnf-TEXLIVEDIST\n",
            "If you want to activate the changes in the above file(s),\n",
            "you should run fmtutil-sys or fmtutil.\n",
            "Setting up preview-latex-style (11.91-1ubuntu1) ...\n",
            "Setting up ghostscript (9.26~dfsg+0-0ubuntu0.18.04.12) ...\n",
            "Setting up fonts-texgyre (20160520-1) ...\n",
            "Setting up fonts-lato (2.0-2) ...\n",
            "Setting up ruby-did-you-mean (1.2.0-2) ...\n",
            "Setting up ruby-net-telnet (0.1.1-2) ...\n",
            "Setting up rubygems-integration (1.11) ...\n",
            "Setting up javascript-common (11) ...\n",
            "Setting up texlive-fonts-recommended (2017.20180305-1) ...\n",
            "Setting up texlive-plain-generic (2017.20180305-2) ...\n",
            "Setting up ruby-minitest (5.10.3-1) ...\n",
            "Setting up ruby-power-assert (0.3.0-1) ...\n",
            "Setting up texlive-latex-extra (2017.20180305-2) ...\n",
            "Setting up dvipng (1.15-1) ...\n",
            "Setting up rake (12.3.1-1ubuntu0.1) ...\n",
            "Setting up ruby2.5 (2.5.1-1ubuntu1.6) ...\n",
            "Setting up ruby (1:2.5.1) ...\n",
            "Setting up ruby-test-unit (3.2.5-1) ...\n",
            "Setting up libruby2.5:amd64 (2.5.1-1ubuntu1.6) ...\n",
            "Processing triggers for tex-common (6.09) ...\n",
            "debconf: unable to initialize frontend: Dialog\n",
            "debconf: (No usable dialog-like program is installed, so the dialog based frontend cannot be used. at /usr/share/perl5/Debconf/FrontEnd/Dialog.pm line 76.)\n",
            "debconf: falling back to frontend: Readline\n",
            "Running mktexlsr. This may take some time... done.\n",
            "Running updmap-sys. This may take some time... done.\n",
            "Running mktexlsr /var/lib/texmf ... done.\n",
            "Processing triggers for libc-bin (2.27-3ubuntu1) ...\n",
            "/sbin/ldconfig.real: /usr/local/lib/python3.6/dist-packages/ideep4py/lib/libmkldnn.so.0 is not a symbolic link\n",
            "\n",
            "Processing triggers for man-db (2.8.3-2ubuntu0.1) ...\n",
            "Processing triggers for fontconfig (2.12.6-0ubuntu2) ...\n",
            "--2020-07-30 22:53:24--  http://mirrors.ctan.org/macros/latex/contrib/type1cm.zip\n",
            "Resolving mirrors.ctan.org (mirrors.ctan.org)... 5.35.249.60\n",
            "Connecting to mirrors.ctan.org (mirrors.ctan.org)|5.35.249.60|:80... connected.\n",
            "HTTP request sent, awaiting response... 302 Found\n",
            "Location: https://mirrors.concertpass.com/tex-archive/macros/latex/contrib/type1cm.zip [following]\n",
            "--2020-07-30 22:53:26--  https://mirrors.concertpass.com/tex-archive/macros/latex/contrib/type1cm.zip\n",
            "Resolving mirrors.concertpass.com (mirrors.concertpass.com)... 162.219.248.112\n",
            "Connecting to mirrors.concertpass.com (mirrors.concertpass.com)|162.219.248.112|:443... connected.\n",
            "HTTP request sent, awaiting response... 200 OK\n",
            "Length: 328566 (321K) [application/zip]\n",
            "Saving to: ‘type1cm.zip’\n",
            "\n",
            "type1cm.zip         100%[===================>] 320.87K  1.61MB/s    in 0.2s    \n",
            "\n",
            "2020-07-30 22:53:26 (1.61 MB/s) - ‘type1cm.zip’ saved [328566/328566]\n",
            "\n",
            "Archive:  type1cm.zip\n",
            "   creating: /tmp/type1cm/type1cm/\n",
            "  inflating: /tmp/type1cm/type1cm/type1cm.fdd  \n",
            "  inflating: /tmp/type1cm/type1cm/type1cm.ins  \n",
            "  inflating: /tmp/type1cm/type1cm/type1cm.txt  \n",
            "  inflating: /tmp/type1cm/type1cm/type1cm-doc.pdf  \n",
            "  inflating: /tmp/type1cm/type1cm/type1cm-doc.tex  \n",
            "This is pdfTeX, Version 3.14159265-2.6-1.40.18 (TeX Live 2017/Debian) (preloaded format=latex)\n",
            " restricted \\write18 enabled.\n",
            "entering extended mode\n",
            "(./type1cm.ins\n",
            "LaTeX2e <2017-04-15>\n",
            "Babel <3.18> and hyphenation patterns for 3 language(s) loaded.\n",
            "(/usr/share/texlive/texmf-dist/tex/latex/base/docstrip.tex\n",
            "Utility: `docstrip' 2.5e <2014/09/29>\n",
            "English documentation    <2017/03/13>\n",
            "\n",
            "**********************************************************\n",
            "* This program converts documented macro-files into fast *\n",
            "* loadable files by stripping off (nearly) all comments! *\n",
            "**********************************************************\n",
            "\n",
            "********************************************************\n",
            "* No Configuration file found, using default settings. *\n",
            "********************************************************\n",
            "\n",
            "(./type1cm.ins\n",
            "\n",
            "Generating file(s) ./type1cm.sty \n",
            "\n",
            "Processing file type1cm.fdd (package,ams) -> type1cm.sty\n",
            "Lines  processed: 410\n",
            "Comments removed: 25\n",
            "Comments  passed: 7\n",
            "Codelines passed: 263\n",
            "\n",
            ") ) )\n",
            "No pages of output.\n",
            "Transcript written on type1cm.log.\n",
            "texhash: Updating /usr/local/share/texmf/ls-R... \n",
            "texhash: Updating /var/lib/texmf/ls-R-TEXLIVEDIST... \n",
            "texhash: Updating /var/lib/texmf/ls-R-TEXMFMAIN... \n",
            "texhash: Updating /var/lib/texmf/ls-R... \n",
            "texhash: Done.\n"
          ],
          "name": "stdout"
        }
      ]
    },
    {
      "cell_type": "markdown",
      "metadata": {
        "id": "A7osmPaXfPK0",
        "colab_type": "text"
      },
      "source": [
        "# Reading the queried data and applying completeness and color cuts"
      ]
    },
    {
      "cell_type": "code",
      "metadata": {
        "id": "4JznIqfhWw88",
        "colab_type": "code",
        "colab": {
          "base_uri": "https://localhost:8080/",
          "height": 34
        },
        "outputId": "9cde96d5-81bf-4c7e-d34c-02be3af39f6f"
      },
      "source": [
        "des1 = pd.read_csv(path_des+'des_dered_data/Dered_dwarfs_000001.csv.gz',compression='gzip')\n",
        "des1.shape"
      ],
      "execution_count": null,
      "outputs": [
        {
          "output_type": "execute_result",
          "data": {
            "text/plain": [
              "(13500000, 30)"
            ]
          },
          "metadata": {
            "tags": []
          },
          "execution_count": 9
        }
      ]
    },
    {
      "cell_type": "code",
      "metadata": {
        "id": "IFKv08dLmaWp",
        "colab_type": "code",
        "colab": {
          "base_uri": "https://localhost:8080/",
          "height": 34
        },
        "outputId": "1c419c65-cc12-4c8a-ce82-eedfaa846aab"
      },
      "source": [
        "des1['MAG_AUTO_I'].max()"
      ],
      "execution_count": null,
      "outputs": [
        {
          "output_type": "execute_result",
          "data": {
            "text/plain": [
              "99.0"
            ]
          },
          "metadata": {
            "tags": []
          },
          "execution_count": 10
        }
      ]
    },
    {
      "cell_type": "code",
      "metadata": {
        "id": "a4RGHB40XxHM",
        "colab_type": "code",
        "colab": {
          "base_uri": "https://localhost:8080/",
          "height": 34
        },
        "outputId": "818da4e8-8b93-4e6e-b40e-5fd70aa80605"
      },
      "source": [
        "des2 = pd.read_csv(path_des+'des_dered_data/Dered_dwarfs_000002.csv.gz',compression='gzip')\n",
        "des2.shape"
      ],
      "execution_count": null,
      "outputs": [
        {
          "output_type": "execute_result",
          "data": {
            "text/plain": [
              "(13340786, 30)"
            ]
          },
          "metadata": {
            "tags": []
          },
          "execution_count": 11
        }
      ]
    },
    {
      "cell_type": "code",
      "metadata": {
        "id": "Zrx852Nkvkg6",
        "colab_type": "code",
        "colab": {
          "base_uri": "https://localhost:8080/",
          "height": 51
        },
        "outputId": "f485a36e-5f94-4edb-81c5-85939d8f7dbd"
      },
      "source": [
        "#des1_c1 = des1[(des1['MAG_AUTO_I'] <= 23.00) & (des1['MAG_AUTO_Z'] <= 22.25) & (des1['MAG_AUTO_Y'] <= 22.00)]\n",
        "#print(des1_c1.shape)\n",
        "#des1_c2 = des1_c1[(des1_c1['MAG_AUTO_I'] - des1_c1['MAG_AUTO_Z'] >= 1.0) & (des1_c1['MAG_AUTO_I'] - des1_c1['MAG_AUTO_Z'] <= 20) \n",
        "#  & (des1_c1['MAG_AUTO_Z'] - des1_c1['MAG_AUTO_Y'] >= 0.0)\n",
        "#  ]\n",
        "#print(des1_c2.shape)"
      ],
      "execution_count": null,
      "outputs": [
        {
          "output_type": "stream",
          "text": [
            "(1857774, 30)\n",
            "(882590, 30)\n"
          ],
          "name": "stdout"
        }
      ]
    },
    {
      "cell_type": "code",
      "metadata": {
        "id": "TSZ51LRDdAlD",
        "colab_type": "code",
        "colab": {
          "base_uri": "https://localhost:8080/",
          "height": 51
        },
        "outputId": "6044f249-d8e1-4b78-9ef5-34edddf436ca"
      },
      "source": [
        "# mag cuts done with regular mags, and color cuts made with dered mags. We'll train with dered mags\n",
        "des1_c1 = des1[(des1['MAG_AUTO_I'] <= 23.00) & (des1['MAG_AUTO_Z'] <= 22.25) & (des1['MAG_AUTO_Y'] <= 22.00)]\n",
        "print(des1_c1.shape)\n",
        "\n",
        "des1_c2 = des1_c1[(des1_c1['MAG_AUTO_I_DERED'] - des1_c1['MAG_AUTO_Z_DERED'] >= 1.0) & (des1_c1['MAG_AUTO_I_DERED'] - des1_c1['MAG_AUTO_Z_DERED'] <= 20) \n",
        "  & (des1_c1['MAG_AUTO_Z_DERED'] - des1_c1['MAG_AUTO_Y_DERED'] >= 0.0)\n",
        "  ]\n",
        "print(des1_c2.shape)"
      ],
      "execution_count": null,
      "outputs": [
        {
          "output_type": "stream",
          "text": [
            "(1857774, 30)\n",
            "(823130, 30)\n"
          ],
          "name": "stdout"
        }
      ]
    },
    {
      "cell_type": "code",
      "metadata": {
        "id": "7nhDc62af8w3",
        "colab_type": "code",
        "colab": {
          "base_uri": "https://localhost:8080/",
          "height": 51
        },
        "outputId": "90adae09-e3ce-4fc9-f183-860bd552c292"
      },
      "source": [
        "des2_c1 = des2[(des2['MAG_AUTO_I'] <= 23.00) & (des2['MAG_AUTO_Z'] <= 22.25) & (des2['MAG_AUTO_Y'] <= 22.00)]\n",
        "print(des2_c1.shape)\n",
        "des2_c2 = des2_c1[(des2_c1['MAG_AUTO_I_DERED'] - des2_c1['MAG_AUTO_Z_DERED'] >= 1.0) & (des2_c1['MAG_AUTO_I_DERED'] - des2_c1['MAG_AUTO_Z_DERED'] <= 20) \n",
        "  & (des2_c1['MAG_AUTO_Z_DERED'] - des2_c1['MAG_AUTO_Y_DERED'] >= 0.0)\n",
        "  ]\n",
        "print(des2_c2.shape)"
      ],
      "execution_count": null,
      "outputs": [
        {
          "output_type": "stream",
          "text": [
            "(1890295, 30)\n",
            "(827386, 30)\n"
          ],
          "name": "stdout"
        }
      ]
    },
    {
      "cell_type": "code",
      "metadata": {
        "id": "beBqyeAQhu0X",
        "colab_type": "code",
        "colab": {}
      },
      "source": [
        "# putting it all together:\n",
        "des_c2 = pd.concat([des1_c2,des2_c2])\n",
        "des_c2.shape"
      ],
      "execution_count": null,
      "outputs": []
    },
    {
      "cell_type": "code",
      "metadata": {
        "id": "VNJqiwH8fJTL",
        "colab_type": "code",
        "colab": {}
      },
      "source": [
        "#des_c2.to_csv(path_des+'des_dered_data/des_c2.csv',index=False)\n",
        "des_c2 = pd.read_csv(path_des+'des_dered_data/des_c2.csv')"
      ],
      "execution_count": null,
      "outputs": []
    },
    {
      "cell_type": "markdown",
      "metadata": {
        "id": "XSfrjeCIaTtM",
        "colab_type": "text"
      },
      "source": [
        "# Reading data from Chris 06/02/2020\n",
        "\n",
        "We need to build the SpT v. i - z relationship to know where to cut along i - z to match the spectral types of SMSS. Reading the new data and performing completeness and color parameter cuts here."
      ]
    },
    {
      "cell_type": "code",
      "metadata": {
        "id": "wtYV51U-ab9Z",
        "colab_type": "code",
        "colab": {
          "base_uri": "https://localhost:8080/",
          "height": 34
        },
        "outputId": "f6b9fd63-0a92-4f17-f2c5-953bc0478b8e"
      },
      "source": [
        "des = pd.read_csv(path_des+'des_dered_data/DES_ROB_CUTS.csv',low_memory=False)\n",
        "des.shape"
      ],
      "execution_count": null,
      "outputs": [
        {
          "output_type": "execute_result",
          "data": {
            "text/plain": [
              "(7741234, 33)"
            ]
          },
          "metadata": {
            "tags": []
          },
          "execution_count": 4
        }
      ]
    },
    {
      "cell_type": "code",
      "metadata": {
        "id": "J-Jqr-Yg72gQ",
        "colab_type": "code",
        "colab": {}
      },
      "source": [
        "imag = []\n",
        "zmag = []\n",
        "ymag = []\n",
        "for i_mag,i_auto in des[['WAVG_MAG_PSF_I','MAG_AUTO_I']].values:\n",
        "  if i_mag < 98:\n",
        "    imag.append(i_mag)\n",
        "  else:\n",
        "    imag.append(i_auto)\n",
        "for z_mag,z_auto in des[['WAVG_MAG_PSF_Z','MAG_AUTO_Z']].values:\n",
        "  if z_mag < 98:\n",
        "    zmag.append(z_mag)\n",
        "  else:\n",
        "    zmag.append(z_auto)\n",
        "for y_mag,y_auto in des[['WAVG_MAG_PSF_Y','MAG_AUTO_Y']].values:\n",
        "  if y_mag < 98:\n",
        "    ymag.append(y_mag)\n",
        "  else:\n",
        "    ymag.append(y_auto)"
      ],
      "execution_count": null,
      "outputs": []
    },
    {
      "cell_type": "code",
      "metadata": {
        "id": "oSGTTczC8MWe",
        "colab_type": "code",
        "colab": {}
      },
      "source": [
        "des['IMAG'] = imag\n",
        "des['ZMAG'] = zmag\n",
        "des['YMAG'] = ymag"
      ],
      "execution_count": null,
      "outputs": []
    },
    {
      "cell_type": "code",
      "metadata": {
        "id": "FBJFdEML_S6s",
        "colab_type": "code",
        "colab": {
          "base_uri": "https://localhost:8080/",
          "height": 51
        },
        "outputId": "6f6e272e-2855-4164-c45e-e7e7c465d73b"
      },
      "source": [
        "des_c1 = des[(des['IMAG'] <= 23.00) & (des['ZMAG'] <= 22.25) \n",
        "            & (des['YMAG'] <= 22.00)]\n",
        "print(des_c1.shape)\n",
        "\n",
        "# determined this cut based on spectral types to keep M6 and later. Used Rocio's matches and spectral types\n",
        "des_c2 = des_c1[(des_c1['IMAG_DERED'] - des_c1['ZMAG_DERED'] >= 0.70) \n",
        "                & (des_c1['ZMAG_DERED'] - des_c1['YMAG_DERED'] >= 0.0)\n",
        "  ]\n",
        "print(des_c2.shape)"
      ],
      "execution_count": null,
      "outputs": [
        {
          "output_type": "stream",
          "text": [
            "(6393806, 36)\n",
            "(5401365, 36)\n"
          ],
          "name": "stdout"
        }
      ]
    },
    {
      "cell_type": "code",
      "metadata": {
        "id": "9VbIHy5SbBxa",
        "colab_type": "code",
        "colab": {}
      },
      "source": [
        "#coords = np.array_split(des_c2[['COADD_OBJECT_ID','RA','DEC']],3)\n",
        "#for idx,frame in enumerate(coords):\n",
        "  #frame.to_csv(path_des+'des_dered_data/des_c2_rob_cuts_coords_{}.csv'.format(idx),index=False) # upload these to NOAO"
      ],
      "execution_count": null,
      "outputs": []
    },
    {
      "cell_type": "code",
      "metadata": {
        "id": "dd7EludTpqen",
        "colab_type": "code",
        "colab": {}
      },
      "source": [
        "des_c2[['COADD_OBJECT_ID','RA','DEC']].to_csv(path_des+'des_dered_data/des_c2_rob_cuts_coords_all.csv',index=False)"
      ],
      "execution_count": null,
      "outputs": []
    },
    {
      "cell_type": "code",
      "metadata": {
        "id": "_J_uHZEp5JJj",
        "colab_type": "code",
        "colab": {}
      },
      "source": [
        "des_c2.to_csv(path_des+'des_dered_data/des_c2_rob_cuts.csv.gz',compression='gzip',index=False)"
      ],
      "execution_count": null,
      "outputs": []
    },
    {
      "cell_type": "markdown",
      "metadata": {
        "id": "zkbHh-df7Ev6",
        "colab_type": "text"
      },
      "source": [
        "## Exploring the magnitude and color space of the dered data"
      ]
    },
    {
      "cell_type": "code",
      "metadata": {
        "id": "iqIa5SPqvHUj",
        "colab_type": "code",
        "colab": {
          "base_uri": "https://localhost:8080/",
          "height": 556
        },
        "outputId": "c852642f-3c22-425b-adc7-91057cabdee5"
      },
      "source": [
        "fig = plt.figure(1, figsize=(2*3.4, 3*3.4*3/4.))\n",
        "ax1=plt.subplot(311)\n",
        "ax1.hist(des_c2['MAG_AUTO_I'],histtype='step',\n",
        "         #density=True,\n",
        "         bins=1000,label='MAG_AUTO')\n",
        "ax1.hist(des_c2['MAG_AUTO_I_DERED'],histtype='step',\n",
        "         #density=True,\n",
        "         bins=1000,label='MAG_AUTO_DERED')\n",
        "plt.legend(loc='upper left',prop={'size':10})\n",
        "ax1.set_xlabel('I MAG')\n",
        "#ax1.axvline(x=2.0,ls='--',color='r')\n",
        "\n",
        "ax2=plt.subplot(312)\n",
        "ax2.hist(des_c2['MAG_AUTO_Z'],histtype='step',\n",
        "         #density=True,\n",
        "         bins=1000,)\n",
        "ax2.hist(des_c2['MAG_AUTO_Z_DERED'],histtype='step',\n",
        "         #density=True,\n",
        "         bins=1000)\n",
        "#plt.legend(loc='upper left')\n",
        "ax2.set_xlabel('Z MAG')\n",
        "#ax1.axvline(x=2.0,ls='--',color='r')\n",
        "\n",
        "ax3=plt.subplot(313)\n",
        "ax3.hist(des_c2['MAG_AUTO_Y'],histtype='step',\n",
        "         #density=True,\n",
        "         bins=1000,)\n",
        "ax3.hist(des_c2['MAG_AUTO_Y_DERED'],histtype='step',\n",
        "         #density=True,\n",
        "         bins=1000)\n",
        "#plt.legend(loc='upper left')\n",
        "ax3.set_xlabel('Y MAG')\n",
        "\n",
        "plt.minorticks_on()\n",
        "plt.tight_layout()\n",
        "\n",
        "plt.show()"
      ],
      "execution_count": null,
      "outputs": [
        {
          "output_type": "display_data",
          "data": {
            "image/png": "[encoded data removed]",
            "text/plain": [
              "<Figure size 489.6x550.8 with 3 Axes>"
            ]
          },
          "metadata": {
            "tags": []
          }
        }
      ]
    },
    {
      "cell_type": "code",
      "metadata": {
        "id": "d59GvaxDLbuz",
        "colab_type": "code",
        "colab": {
          "base_uri": "https://localhost:8080/",
          "height": 281
        },
        "outputId": "6f1d5484-a73c-442e-ca8c-abeaa5dd947c"
      },
      "source": [
        "fig = plt.figure(1, figsize=(3.4, 2*3.4*3/4.))\n",
        "ax1=plt.subplot(311)\n",
        "ax1.hist(des_c2['MAG_AUTO_I']-des_c2['MAG_AUTO_Z'],histtype='step',density=True,bins=1000,label='MAG_AUTO')\n",
        "ax1.hist(des_c2['MAG_AUTO_I_DERED']-des_c2['MAG_AUTO_Z_DERED'],histtype='step',density=True,bins=1000,label='MAG_AUTO_DERED')\n",
        "plt.legend(loc='upper right',prop={'size':10})\n",
        "ax1.set_xlabel('$i - z$')\n",
        "#ax1.axvline(x=2.0,ls='--',color='r')\n",
        "#ax1.set_xscale('log')\n",
        "\n",
        "\n",
        "ax2=plt.subplot(312)\n",
        "ax2.hist(des_c2['MAG_AUTO_Z']-des_c2['MAG_AUTO_Y'],histtype='step',density=True,bins=1000)\n",
        "ax2.hist(des_c2['MAG_AUTO_Z_DERED']-des_c2['MAG_AUTO_Y_DERED'],histtype='step',density=True,bins=1000)\n",
        "#plt.legend(loc='upper left')\n",
        "ax2.set_xlabel('$z - Y$')\n",
        "#ax1.axvline(x=2.0,ls='--',color='r')\n",
        "ax2.set_xscale('log')\n",
        "\n",
        "plt.minorticks_on()\n",
        "plt.tight_layout()\n",
        "\n",
        "plt.show()"
      ],
      "execution_count": null,
      "outputs": [
        {
          "output_type": "display_data",
          "data": {
            "image/png": "[encoded data removed]",
            "text/plain": [
              "<Figure size 244.8x367.2 with 2 Axes>"
            ]
          },
          "metadata": {
            "tags": []
          }
        }
      ]
    },
    {
      "cell_type": "code",
      "metadata": {
        "id": "QZX7KtgvtVjy",
        "colab_type": "code",
        "colab": {
          "base_uri": "https://localhost:8080/",
          "height": 35
        },
        "outputId": "92edc403-d348-4d20-e064-84b4667fdecf"
      },
      "source": [
        "mags_c2 = des_c2[['MAG_AUTO_I','MAG_AUTO_Z','MAG_AUTO_Y']].dropna(how='any')\n",
        "print(mags_c2.shape)"
      ],
      "execution_count": null,
      "outputs": [
        {
          "output_type": "stream",
          "text": [
            "(1650516, 3)\n"
          ],
          "name": "stdout"
        }
      ]
    },
    {
      "cell_type": "code",
      "metadata": {
        "id": "hCVCRVIDtz-W",
        "colab_type": "code",
        "colab": {
          "base_uri": "https://localhost:8080/",
          "height": 35
        },
        "outputId": "08425786-cb4c-4618-ec4d-4f31f6701c26"
      },
      "source": [
        "mags_c2_dered = des_c2[['MAG_AUTO_I_DERED','MAG_AUTO_Z_DERED','MAG_AUTO_Y_DERED']].dropna(how='any')\n",
        "print(mags_c2_dered.shape)"
      ],
      "execution_count": null,
      "outputs": [
        {
          "output_type": "stream",
          "text": [
            "(1650516, 3)\n"
          ],
          "name": "stdout"
        }
      ]
    },
    {
      "cell_type": "code",
      "metadata": {
        "id": "cFqSMby1uJOO",
        "colab_type": "code",
        "colab": {
          "base_uri": "https://localhost:8080/",
          "height": 372
        },
        "outputId": "c6b18a1b-16b6-4055-d1ac-33e1dbe018aa"
      },
      "source": [
        "fig = plt.figure(1, figsize=(1*3.4, 2*3.4*3/4.))\n",
        "ax1 = plt.subplot(2,1,1)\n",
        "plt.hist2d(mags_c2['MAG_AUTO_I']-mags_c2['MAG_AUTO_Z'],mags_c2['MAG_AUTO_Z']-mags_c2['MAG_AUTO_Y'],bins=500,norm=LogNorm())\n",
        "plt.gca().set_xlabel('$i - z$')\n",
        "plt.gca().set_ylabel('$z - Y$')\n",
        "plt.colorbar()\n",
        "#plt.show()\n",
        "\n",
        "ax2 = plt.subplot(2,1,2)\n",
        "plt.hist2d(mags_c2_dered['MAG_AUTO_I_DERED']-mags_c2_dered['MAG_AUTO_Z_DERED'],mags_c2_dered['MAG_AUTO_Z_DERED']-mags_c2_dered['MAG_AUTO_Y_DERED'],bins=500,norm=LogNorm())\n",
        "plt.gca().set_xlabel('$i - z$ dered')\n",
        "plt.gca().set_ylabel('$z - Y$ dered')\n",
        "plt.colorbar()\n",
        "\n",
        "plt.tight_layout()\n",
        "plt.minorticks_on()\n",
        "plt.show()"
      ],
      "execution_count": null,
      "outputs": [
        {
          "output_type": "display_data",
          "data": {
            "image/png": "[encoded data removed]",
            "text/plain": [
              "<Figure size 244.8x367.2 with 4 Axes>"
            ]
          },
          "metadata": {
            "tags": []
          }
        }
      ]
    },
    {
      "cell_type": "code",
      "metadata": {
        "id": "Y_9o1GCTvY1h",
        "colab_type": "code",
        "colab": {}
      },
      "source": [
        "i_diff = des_c2['MAG_AUTO_I'] - des_c2['MAG_AUTO_I_DERED']\n",
        "z_diff = des_c2['MAG_AUTO_Z'] - des_c2['MAG_AUTO_Z_DERED']\n",
        "Y_diff = des_c2['MAG_AUTO_Y'] - des_c2['MAG_AUTO_Y_DERED']"
      ],
      "execution_count": null,
      "outputs": []
    },
    {
      "cell_type": "code",
      "metadata": {
        "id": "euV58Dgx1P3E",
        "colab_type": "code",
        "colab": {
          "base_uri": "https://localhost:8080/",
          "height": 210
        },
        "outputId": "295e3706-de0a-42d6-8735-b9bcf8c2221d"
      },
      "source": [
        "fig = plt.figure(1, figsize=(1*3.4, 1*3.4*3/4.))\n",
        "plt.hist(i_diff,histtype='step',bins=1000,label='$\\Delta i$')\n",
        "plt.hist(z_diff,histtype='step',bins=1000,label='$\\Delta z$')\n",
        "plt.hist(Y_diff,histtype='step',bins=1000,label='$\\Delta Y$')\n",
        "plt.xlabel('$\\Delta mag$')\n",
        "plt.legend()\n",
        "plt.show()"
      ],
      "execution_count": null,
      "outputs": [
        {
          "output_type": "display_data",
          "data": {
            "image/png": "[encoded data removed]",
            "text/plain": [
              "<Figure size 244.8x183.6 with 1 Axes>"
            ]
          },
          "metadata": {
            "tags": []
          }
        }
      ]
    },
    {
      "cell_type": "code",
      "metadata": {
        "id": "McDayhEn1rE0",
        "colab_type": "code",
        "colab": {}
      },
      "source": [
        "#des_c2[['COADD_OBJECT_ID','RA','DEC']].to_csv(path_des+'/des_dered_data/des_c2_dered_coords.csv',index=False)"
      ],
      "execution_count": null,
      "outputs": []
    },
    {
      "cell_type": "markdown",
      "metadata": {
        "id": "H13_aQNMLNEo",
        "colab_type": "text"
      },
      "source": [
        "# Reading Crossmatched Data\n",
        "\n",
        "We only have 11,055 matches to 2MASS, so I'm avoiding that and only using gaia dr2 and AllWISE."
      ]
    },
    {
      "cell_type": "code",
      "metadata": {
        "id": "zgrXJ7FACkgY",
        "colab_type": "code",
        "colab": {}
      },
      "source": [
        "# reading the base reference set:\n",
        "des_c2 = pd.read_csv(path_des+'des_dered_data/des_c2_rob_cuts.csv.gz',compression='gzip')"
      ],
      "execution_count": null,
      "outputs": []
    },
    {
      "cell_type": "code",
      "metadata": {
        "id": "LQbiJLSIgu7k",
        "colab_type": "code",
        "colab": {}
      },
      "source": [
        "#des_c2[['COADD_OBJECT_ID','RA','DEC']].to_csv(path_des+'/des_dered_data/des_c2_dered_coords.csv',index=False)"
      ],
      "execution_count": null,
      "outputs": []
    },
    {
      "cell_type": "code",
      "metadata": {
        "id": "AKXwyRgMfepQ",
        "colab_type": "code",
        "colab": {
          "base_uri": "https://localhost:8080/",
          "height": 52
        },
        "outputId": "5749c064-9df8-4d2d-b5e9-a0328d7ee6de"
      },
      "source": [
        "# gaia:\n",
        "des_c2_gdr2_0 = pd.read_csv(path_des+'des_dered_data/des_c2_rob_gdr2_0.csv',low_memory=False)\n",
        "des_c2_gdr2_1 = pd.read_csv(path_des+'des_dered_data/des_c2_rob_gdr2_1.csv',low_memory=False)\n",
        "des_c2_gdr2_2 = pd.read_csv(path_des+'des_dered_data/des_c2_rob_gdr2_1.csv',low_memory=False)\n",
        "\n",
        "des_c2_gdr2 = pd.concat([des_c2_gdr2_0,des_c2_gdr2_1,des_c2_gdr2_2])\n",
        "print(des_c2_gdr2.shape)\n",
        "\n",
        "# allwise:\n",
        "des_c2_aw_0 = pd.read_csv(path_des+'des_dered_data/des_c2_rob_aw_0.csv',low_memory=False)\n",
        "des_c2_aw_1 = pd.read_csv(path_des+'des_dered_data/des_c2_rob_aw_1.csv',low_memory=False)\n",
        "des_c2_aw_2 = pd.read_csv(path_des+'des_dered_data/des_c2_rob_aw_1.csv',low_memory=False)\n",
        "\n",
        "des_c2_aw = pd.concat([des_c2_aw_0,des_c2_aw_1,des_c2_aw_2])\n",
        "print(des_c2_aw.shape)"
      ],
      "execution_count": null,
      "outputs": [
        {
          "output_type": "stream",
          "text": [
            "(278124, 102)\n",
            "(2000608, 104)\n"
          ],
          "name": "stdout"
        }
      ]
    },
    {
      "cell_type": "code",
      "metadata": {
        "id": "jrWLxR9aNv50",
        "colab_type": "code",
        "colab": {
          "base_uri": "https://localhost:8080/",
          "height": 52
        },
        "outputId": "1ccbb4c9-44ec-457d-f66e-0cc4f47d91e9"
      },
      "source": [
        "# exploring dupes\n",
        "\n",
        "des_g_nodupes = des_c2_gdr2.sort_values('dist_arcsec', ascending=True).drop_duplicates('t1_coadd_object_id')\n",
        "print(des_g_nodupes.shape)\n",
        "\n",
        "des_aw_nodupes = des_c2_aw.sort_values('dist_arcsec', ascending=True).drop_duplicates('t1_coadd_object_id')\n",
        "print(des_aw_nodupes.shape)"
      ],
      "execution_count": null,
      "outputs": [
        {
          "output_type": "stream",
          "text": [
            "(184778, 102)\n",
            "(1347975, 104)\n"
          ],
          "name": "stdout"
        }
      ]
    },
    {
      "cell_type": "code",
      "metadata": {
        "id": "bk8qQNyEwphn",
        "colab_type": "code",
        "colab": {
          "base_uri": "https://localhost:8080/",
          "height": 69
        },
        "outputId": "bb1c6a39-48d8-4d0c-9c34-f27c6cd02360"
      },
      "source": [
        "# cleaning data first because merging directly with des_aw_nodupes crashes the RAM\n",
        "data_clean1 = des_aw_nodupes[des_aw_nodupes['ph_qual'].str.startswith(('AA'),na=False)]\n",
        "print(data_clean1.shape)\n",
        "data_clean2 = data_clean1[data_clean1['ext_flg'] == 0.0]\n",
        "print(data_clean2.shape)\n",
        "data_clean3 = data_clean2[(data_clean2['cc_flags'].str.startswith(('00'),na=False)) & (data_clean2['w1snr'] > 10.0) \n",
        "                        & (data_clean2['w2snr'] > 10.0)\n",
        "                          ]\n",
        "print(data_clean3.shape)"
      ],
      "execution_count": null,
      "outputs": [
        {
          "output_type": "stream",
          "text": [
            "(251841, 104)\n",
            "(250933, 104)\n",
            "(227257, 104)\n"
          ],
          "name": "stdout"
        }
      ]
    },
    {
      "cell_type": "code",
      "metadata": {
        "id": "C2BUkSlRMD2E",
        "colab_type": "code",
        "colab": {
          "base_uri": "https://localhost:8080/",
          "height": 35
        },
        "outputId": "9f7ea8ea-cda6-4a9f-ea25-ad07c90b2c54"
      },
      "source": [
        "des_merged1 = des_c2.merge(des_g_nodupes,right_on='t1_coadd_object_id',left_on='COADD_OBJECT_ID',how='outer',suffixes=('','_y'))\n",
        "des_merged1 = des_merged1.drop(des_merged1.filter(regex='_y').columns, axis=1)\n",
        "des_merged1.shape"
      ],
      "execution_count": null,
      "outputs": [
        {
          "output_type": "execute_result",
          "data": {
            "text/plain": [
              "(5401365, 138)"
            ]
          },
          "metadata": {
            "tags": []
          },
          "execution_count": 23
        }
      ]
    },
    {
      "cell_type": "code",
      "metadata": {
        "id": "m2dDhuZx2PPw",
        "colab_type": "code",
        "colab": {
          "base_uri": "https://localhost:8080/",
          "height": 35
        },
        "outputId": "2f8bd079-2c7b-431e-9b21-20c3ada08346"
      },
      "source": [
        "des_merged1.parallax.count()"
      ],
      "execution_count": null,
      "outputs": [
        {
          "output_type": "execute_result",
          "data": {
            "text/plain": [
              "136136"
            ]
          },
          "metadata": {
            "tags": []
          },
          "execution_count": 24
        }
      ]
    },
    {
      "cell_type": "code",
      "metadata": {
        "id": "DsNAzMVU-mzZ",
        "colab_type": "code",
        "colab": {
          "base_uri": "https://localhost:8080/",
          "height": 35
        },
        "outputId": "59d57af9-5919-4ef0-d941-c0b811dbcd12"
      },
      "source": [
        "# if it's not in AllWISE it won't be used in the training set or the reference set anyway, so merge as inner to avoid RAM crash\n",
        "des_merged2 = des_merged1.merge(data_clean3,left_on='COADD_OBJECT_ID',right_on='t1_coadd_object_id',how='inner',suffixes=('','_y'))\n",
        "des_merged2 = des_merged2.drop(des_merged2.filter(regex='_y').columns, axis=1)\n",
        "des_merged2.shape"
      ],
      "execution_count": null,
      "outputs": [
        {
          "output_type": "execute_result",
          "data": {
            "text/plain": [
              "(227257, 228)"
            ]
          },
          "metadata": {
            "tags": []
          },
          "execution_count": 25
        }
      ]
    },
    {
      "cell_type": "code",
      "metadata": {
        "id": "I2jHntihOAuS",
        "colab_type": "code",
        "colab": {}
      },
      "source": [
        "# dropping any dupes:\n",
        "des_merged3 = des_merged2.drop_duplicates(subset='COADD_OBJECT_ID')\n",
        "des_merged3.to_csv(path_des+'/des_dered_data/des_merged_rob_cuts.csv.gz',compression='gzip',index=False)"
      ],
      "execution_count": null,
      "outputs": []
    },
    {
      "cell_type": "code",
      "metadata": {
        "id": "abIJoWnyOcUP",
        "colab_type": "code",
        "colab": {
          "base_uri": "https://localhost:8080/",
          "height": 35
        },
        "outputId": "1c2972c4-9caa-4298-935d-b3ab4c55e00c"
      },
      "source": [
        "des_merged3.shape"
      ],
      "execution_count": null,
      "outputs": [
        {
          "output_type": "execute_result",
          "data": {
            "text/plain": [
              "(227257, 228)"
            ]
          },
          "metadata": {
            "tags": []
          },
          "execution_count": 27
        }
      ]
    },
    {
      "cell_type": "markdown",
      "metadata": {
        "id": "CBj4FfxpPzVU",
        "colab_type": "text"
      },
      "source": [
        "# Beginning to cut for the Training Set\n",
        "\n",
        "Start here if data is already cut and merged with Gaia DR 2 and AllWISE"
      ]
    },
    {
      "cell_type": "code",
      "metadata": {
        "id": "pcB-02Bffx6E",
        "colab_type": "code",
        "colab": {}
      },
      "source": [
        "# new reference set:\n",
        "des_merged3 = pd.read_csv(path_des+'/des_dered_data/des_merged_rob_cuts.csv.gz',compression='gzip',low_memory=False)"
      ],
      "execution_count": null,
      "outputs": []
    },
    {
      "cell_type": "code",
      "metadata": {
        "id": "o4Fak_mBlOnn",
        "colab_type": "code",
        "colab": {}
      },
      "source": [
        "# reading matches to Gaia DR2 distances\n",
        "des_c2_dist = pd.read_csv(path_des+'/des_dered_data/des_c2_dered_distances.csv',low_memory=False)"
      ],
      "execution_count": null,
      "outputs": []
    },
    {
      "cell_type": "code",
      "metadata": {
        "id": "2voWXxxyluFr",
        "colab_type": "code",
        "colab": {
          "base_uri": "https://localhost:8080/",
          "height": 34
        },
        "outputId": "ec99aa52-206a-4975-9673-54de5b1debb5"
      },
      "source": [
        "# distances:\n",
        "des_merged4 = des_merged3.merge(des_c2_dist,on='COADD_OBJECT_ID',how='left',suffixes=('','_y'))\n",
        "des_merged4 = des_merged4.drop(des_merged4.filter(regex='_y').columns, axis=1)\n",
        "des_merged4.shape"
      ],
      "execution_count": null,
      "outputs": [
        {
          "output_type": "execute_result",
          "data": {
            "text/plain": [
              "(227257, 238)"
            ]
          },
          "metadata": {
            "tags": []
          },
          "execution_count": 8
        }
      ]
    },
    {
      "cell_type": "code",
      "metadata": {
        "id": "u4DvytpCrClq",
        "colab_type": "code",
        "colab": {}
      },
      "source": [
        "#des_merged4.to_csv(path_des+'/des_dered_data/des_merged_rob_cuts_distances.csv.gz',compression='gzip',index=False)"
      ],
      "execution_count": null,
      "outputs": []
    },
    {
      "cell_type": "markdown",
      "metadata": {
        "id": "8_abS1VeX_6l",
        "colab_type": "text"
      },
      "source": [
        "## Selecting Parallax"
      ]
    },
    {
      "cell_type": "code",
      "metadata": {
        "id": "vQG2Sa_DDvM8",
        "colab_type": "code",
        "colab": {
          "base_uri": "https://localhost:8080/",
          "height": 199
        },
        "outputId": "056591bb-874f-4b28-f654-96e90ea4aff5"
      },
      "source": [
        "fig = plt.figure(1, figsize=(1*3.4, 1*3.4*3/4.))\n",
        "#ax1 = plt.subplot(2,1,1)\n",
        "#plt.hist2d(des_merged3['WAVG_MAG_PSF_I_DERED']-des_merged3['WAVG_MAG_PSF_Z_DERED'],des_merged3['WAVG_MAG_PSF_Z_DERED']-des_merged3['WAVG_MAG_PSF_Y_DERED'],bins=500,norm=LogNorm()\n",
        "#          ,rasterized=True\n",
        "#           )\n",
        "#plt.gca().set_xlabel('$i - z$')\n",
        "#plt.gca().set_ylabel('$z - Y$')\n",
        "#plt.colorbar()\n",
        "#plt.minorticks_on()\n",
        "#textstr = 'WAVG MAG PSF DERED'\n",
        "#props = dict(boxstyle='round', facecolor='white', alpha=0.5)\n",
        "\n",
        "# place a text box in upper left in axes coords\n",
        "#ax1.text(0.05, 0.95, textstr, transform=ax1.transAxes, fontsize=12,\n",
        "#        verticalalignment='top', bbox=props)\n",
        "\n",
        "#ax2 = plt.subplot(2,1,1)\n",
        "plt.hist2d(des_merged3['IMAG_DERED']-des_merged3['ZMAG_DERED'],des_merged3['ZMAG_DERED']-des_merged3['YMAG_DERED'],bins=500,norm=LogNorm()\n",
        "          ,rasterized=True\n",
        "           )\n",
        "plt.gca().set_xlabel('$i - z$')\n",
        "plt.gca().set_ylabel('$z - Y$')\n",
        "plt.colorbar().set_label('Number of Objects')\n",
        "\n",
        "#textstr = 'Corrected MAG\\_DERED'\n",
        "#props = dict(boxstyle='round', facecolor='white', alpha=0.5)\n",
        "\n",
        "# place a text box in upper left in axes coords\n",
        "#plt.text(0.05, 0.95, textstr, transform=ax2.transAxes, fontsize=12,\n",
        "#        verticalalignment='top', bbox=props)\n",
        "plt.ylim(0.0,3.0)\n",
        "plt.minorticks_on()\n",
        "plt.savefig('gdrive/My Drive/Colab Notebooks/figures/des_wavg_correction_hist2d.pdf',dpi=300,bbox_inches='tight',padding=0)\n",
        "plt.show()"
      ],
      "execution_count": null,
      "outputs": [
        {
          "output_type": "display_data",
          "data": {
            "image/png": "[encoded data removed]",
            "text/plain": [
              "<Figure size 244.8x183.6 with 2 Axes>"
            ]
          },
          "metadata": {
            "tags": []
          }
        }
      ]
    },
    {
      "cell_type": "code",
      "metadata": {
        "id": "FU_OIQ2UzD4e",
        "colab_type": "code",
        "colab": {
          "base_uri": "https://localhost:8080/",
          "height": 34
        },
        "outputId": "03d20969-c5df-4e1c-ebdf-d39889db20aa"
      },
      "source": [
        "des_merged3.shape"
      ],
      "execution_count": null,
      "outputs": [
        {
          "output_type": "execute_result",
          "data": {
            "text/plain": [
              "(227257, 228)"
            ]
          },
          "metadata": {
            "tags": []
          },
          "execution_count": 16
        }
      ]
    },
    {
      "cell_type": "code",
      "metadata": {
        "id": "Lg0jfvy9Odpp",
        "colab_type": "code",
        "colab": {
          "base_uri": "https://localhost:8080/",
          "height": 358
        },
        "outputId": "0774eba8-00f0-4ad7-eb6d-0b426e05c91f"
      },
      "source": [
        "# cutting along parallax:\n",
        "pos_par = des_merged4[des_merged4['parallax'] > 0.0]\n",
        "print(pos_par.shape)\n",
        "\n",
        "fig = plt.figure(1, figsize=(2*3.4, 2*3.4*3/4.))\n",
        "plt.hist(np.log10(pos_par['parallax']),bins=500,histtype='step',density=True)\n",
        "#plt.hist(des_c4_g['log_par'],bins=1000,histtype='step',density=True)\n",
        "plt.xlabel('$\\log_{10}(\\omega)$')\n",
        "#plt.xscale('log')\n",
        "plt.show()"
      ],
      "execution_count": null,
      "outputs": [
        {
          "output_type": "stream",
          "text": [
            "(73275, 238)\n"
          ],
          "name": "stdout"
        },
        {
          "output_type": "display_data",
          "data": {
            "image/png": "[encoded data removed]",
            "text/plain": [
              "<Figure size 489.6x367.2 with 1 Axes>"
            ]
          },
          "metadata": {
            "tags": []
          }
        }
      ]
    },
    {
      "cell_type": "markdown",
      "metadata": {
        "id": "OqIuVYDjFu_P",
        "colab_type": "text"
      },
      "source": [
        "## Checking Kiman overlap and Gagne overlap"
      ]
    },
    {
      "cell_type": "code",
      "metadata": {
        "id": "Q3Njou5XwNBK",
        "colab_type": "code",
        "colab": {}
      },
      "source": [
        "# investigating how many things we share with Rocio's dwarfs:\n",
        "path_kiman = 'gdrive/My Drive/Colab Notebooks/kiman_etal_mdwarfs/'"
      ],
      "execution_count": null,
      "outputs": []
    },
    {
      "cell_type": "code",
      "metadata": {
        "id": "sXmZyeIrPozN",
        "colab_type": "code",
        "colab": {
          "base_uri": "https://localhost:8080/",
          "height": 34
        },
        "outputId": "cd368929-2f75-4721-e6fa-b7892b9f1f93"
      },
      "source": [
        "kiman = pd.read_csv(path_kiman+'kiman_etal_mdwarfs.csv')\n",
        "kiman.shape"
      ],
      "execution_count": null,
      "outputs": [
        {
          "output_type": "execute_result",
          "data": {
            "text/plain": [
              "(74216, 95)"
            ]
          },
          "metadata": {
            "tags": []
          },
          "execution_count": 11
        }
      ]
    },
    {
      "cell_type": "code",
      "metadata": {
        "id": "CmjUTD6zyqOu",
        "colab_type": "code",
        "colab": {}
      },
      "source": [
        "kiman_goodastro = kiman[kiman['astro'] == 1]"
      ],
      "execution_count": null,
      "outputs": []
    },
    {
      "cell_type": "code",
      "metadata": {
        "id": "jaZWUtmly5Sx",
        "colab_type": "code",
        "colab": {}
      },
      "source": [
        "#kiman_goodastro[['RAdegG',\n",
        " #'DEdegG',]].to_csv(path_kiman+'kiman_etal_mdwarfs_goodastro_coords.csv',index=False)"
      ],
      "execution_count": null,
      "outputs": []
    },
    {
      "cell_type": "code",
      "metadata": {
        "id": "DorWqlB5zAL_",
        "colab_type": "code",
        "colab": {
          "base_uri": "https://localhost:8080/",
          "height": 34
        },
        "outputId": "03eadfef-02ba-4ba6-b8cb-118ff189c2fe"
      },
      "source": [
        "# kiman good astro matched with DES DR1 in NOAO\n",
        "kiman_des = pd.read_csv(path_kiman+'kiman_goodastro_desdr1.csv')\n",
        "kiman_des = kiman_des[kiman_des['dist_arcsec'] <= 0.5]\n",
        "kiman_des.shape"
      ],
      "execution_count": null,
      "outputs": [
        {
          "output_type": "execute_result",
          "data": {
            "text/plain": [
              "(5314, 255)"
            ]
          },
          "metadata": {
            "tags": []
          },
          "execution_count": 14
        }
      ]
    },
    {
      "cell_type": "code",
      "metadata": {
        "id": "V6rFZLKY7C-i",
        "colab_type": "code",
        "colab": {}
      },
      "source": [
        "imag_dered = []\n",
        "zmag_dered = []\n",
        "ymag_dered = []\n",
        "for i_mag,i_auto in kiman_des[['wavg_mag_psf_i_dered','mag_auto_i_dered']].values:\n",
        "  if i_mag < 98:\n",
        "    imag_dered.append(i_mag)\n",
        "  else:\n",
        "    imag_dered.append(i_auto)\n",
        "for z_mag,z_auto in kiman_des[['wavg_mag_psf_z_dered','mag_auto_z_dered']].values:\n",
        "  if z_mag < 98:\n",
        "    zmag_dered.append(z_mag)\n",
        "  else:\n",
        "    zmag_dered.append(z_auto)\n",
        "for y_mag,y_auto in kiman_des[['wavg_mag_psf_y_dered','mag_auto_y_dered']].values:\n",
        "  if y_mag < 98:\n",
        "    ymag_dered.append(y_mag)\n",
        "  else:\n",
        "    ymag_dered.append(y_auto)\n",
        "\n",
        "kiman_des['IMAG_DERED'] = imag_dered\n",
        "kiman_des['ZMAG_DERED'] = zmag_dered\n",
        "kiman_des['YMAG_DERED'] = ymag_dered"
      ],
      "execution_count": null,
      "outputs": []
    },
    {
      "cell_type": "code",
      "metadata": {
        "id": "CkRV5rSf98o8",
        "colab_type": "code",
        "colab": {}
      },
      "source": [
        "imag = []\n",
        "zmag = []\n",
        "ymag = []\n",
        "for i_mag,i_auto in kiman_des[['wavg_mag_psf_i','mag_auto_i']].values:\n",
        "  if i_mag < 98:\n",
        "    imag.append(i_mag)\n",
        "  else:\n",
        "    imag.append(i_auto)\n",
        "for z_mag,z_auto in kiman_des[['wavg_mag_psf_z','mag_auto_z']].values:\n",
        "  if z_mag < 98:\n",
        "    zmag.append(z_mag)\n",
        "  else:\n",
        "    zmag.append(z_auto)\n",
        "for y_mag,y_auto in kiman_des[['wavg_mag_psf_y','mag_auto_y']].values:\n",
        "  if y_mag < 98:\n",
        "    ymag.append(y_mag)\n",
        "  else:\n",
        "    ymag.append(y_auto)\n",
        "\n",
        "kiman_des['IMAG'] = imag\n",
        "kiman_des['ZMAG'] = zmag\n",
        "kiman_des['YMAG'] = ymag"
      ],
      "execution_count": null,
      "outputs": []
    },
    {
      "cell_type": "code",
      "metadata": {
        "id": "eisqa2ZEFA9w",
        "colab_type": "code",
        "colab": {}
      },
      "source": [
        "#kiman_des_sdsscols = kiman_goodastro.merge(kiman_des,right_on=['t1_radegg','t1_dedegg',],left_on=['RAdegG','DEdegG'],how='inner')\n",
        "#kiman_des_sdsscols.shape"
      ],
      "execution_count": null,
      "outputs": []
    },
    {
      "cell_type": "code",
      "metadata": {
        "id": "S8x-IlUk3mij",
        "colab_type": "code",
        "colab": {
          "base_uri": "https://localhost:8080/",
          "height": 85
        },
        "outputId": "835ff197-7753-4363-a367-c0930564642f"
      },
      "source": [
        "# query cuts:\n",
        "kiman_des_c0 = kiman_des[(kiman_des['imaflags_iso_i'] == 0) & (kiman_des['imaflags_iso_z'] == 0) & (kiman_des['flags_i'] < 4) & (kiman_des['flags_z'] < 4)]\n",
        "print(kiman_des_c0.shape)\n",
        "kiman_des_c02 = kiman_des_c0[(kiman_des['mag_auto_i'] - kiman_des['mag_auto_z'] >= 0.75) | (kiman_des['wavg_mag_psf_i'] - kiman_des['wavg_mag_psf_z'] >= 0.75)]\n",
        "print(kiman_des_c02.shape)"
      ],
      "execution_count": null,
      "outputs": [
        {
          "output_type": "stream",
          "text": [
            "(4264, 261)\n",
            "(417, 261)\n"
          ],
          "name": "stdout"
        },
        {
          "output_type": "stream",
          "text": [
            "/usr/local/lib/python3.6/dist-packages/ipykernel_launcher.py:4: UserWarning: Boolean Series key will be reindexed to match DataFrame index.\n",
            "  after removing the cwd from sys.path.\n"
          ],
          "name": "stderr"
        }
      ]
    },
    {
      "cell_type": "code",
      "metadata": {
        "id": "fhRzGfYzO4VV",
        "colab_type": "code",
        "colab": {
          "base_uri": "https://localhost:8080/",
          "height": 51
        },
        "outputId": "b488dd93-03f2-40de-c16a-d57e852100be"
      },
      "source": [
        "# mag cuts done with regular mags, and color cuts made with dered mags. We'll train with dered mags\n",
        "kiman_des_c1 = kiman_des_c02[(kiman_des_c02['mag_auto_i'] <= 23.00) & (kiman_des_c02['mag_auto_z'] <= 22.25) & (kiman_des_c02['mag_auto_y'] <= 22.00)]\n",
        "print(kiman_des_c1.shape)\n",
        "kiman_des_c2 = kiman_des_c1[(kiman_des_c1['mag_auto_i_dered'] - kiman_des_c1['mag_auto_z_dered'] >= 0.7) & \n",
        "                            (kiman_des_c1['mag_auto_i_dered'] - kiman_des_c1['mag_auto_z_dered'] <= 20) \n",
        "  & (kiman_des_c1['mag_auto_z_dered'] - kiman_des_c1['mag_auto_y_dered'] >= 0.0)\n",
        "  ]\n",
        "print(kiman_des_c2.shape)"
      ],
      "execution_count": null,
      "outputs": [
        {
          "output_type": "stream",
          "text": [
            "(417, 261)\n",
            "(384, 261)\n"
          ],
          "name": "stdout"
        }
      ]
    },
    {
      "cell_type": "code",
      "metadata": {
        "id": "ErYRQ4p1WUJE",
        "colab_type": "code",
        "colab": {
          "base_uri": "https://localhost:8080/",
          "height": 51
        },
        "outputId": "05b8d196-3a55-4dd9-f333-6f10144182ef"
      },
      "source": [
        "kiman_des_c3 = kiman_des_c2[(kiman_des_c2['IMAG'] <= 23.00) & (kiman_des_c2['ZMAG'] <= 22.25) \n",
        "            & (kiman_des_c2['YMAG'] <= 22.00)]\n",
        "print(kiman_des_c3.shape)\n",
        "\n",
        "# determined this cut based on spectral types to keep M6 and later. Used Rocio's matches and spectral types\n",
        "kiman_des_c4 = kiman_des_c3[(kiman_des_c3['IMAG_DERED'] - kiman_des_c3['ZMAG_DERED'] >= 0.70) \n",
        "                & (kiman_des_c3['ZMAG_DERED'] - kiman_des_c3['YMAG_DERED'] >= 0.0)\n",
        "  ]\n",
        "print(kiman_des_c4.shape)"
      ],
      "execution_count": null,
      "outputs": [
        {
          "output_type": "stream",
          "text": [
            "(384, 261)\n",
            "(352, 261)\n"
          ],
          "name": "stdout"
        }
      ]
    },
    {
      "cell_type": "code",
      "metadata": {
        "id": "dPt1qAc5Q3dv",
        "colab_type": "code",
        "colab": {
          "base_uri": "https://localhost:8080/",
          "height": 34
        },
        "outputId": "b2c69207-6296-42ff-a260-3b3f625b3542"
      },
      "source": [
        "# merging with base reference set (unmerged):\n",
        "kiman_des_overlap = kiman_des_c4.merge(des_c2,right_on='COADD_OBJECT_ID',left_on='coadd_object_id',how='inner',suffixes=('','_dup'))\n",
        "kiman_des_overlap = kiman_des_overlap.drop(kiman_des_overlap.filter(regex='_dup').columns, axis=1)\n",
        "kiman_des_overlap.shape # we keep all of them"
      ],
      "execution_count": null,
      "outputs": [
        {
          "output_type": "execute_result",
          "data": {
            "text/plain": [
              "(352, 291)"
            ]
          },
          "metadata": {
            "tags": []
          },
          "execution_count": 21
        }
      ]
    },
    {
      "cell_type": "code",
      "metadata": {
        "id": "K006Y1UzXNC2",
        "colab_type": "code",
        "colab": {
          "base_uri": "https://localhost:8080/",
          "height": 34
        },
        "outputId": "456420f8-b299-4e43-e4f5-2fabfd52072b"
      },
      "source": [
        "kiman_des_overlap_clean = kiman_des_c4.merge(des_merged4,right_on='COADD_OBJECT_ID',left_on='coadd_object_id',how='inner',suffixes=('','_dup'))\n",
        "kiman_des_overlap_clean = kiman_des_overlap_clean.drop(kiman_des_overlap.filter(regex='_dup').columns, axis=1)\n",
        "kiman_des_overlap_clean.shape # we lose Kiman 122 objects in cleaning"
      ],
      "execution_count": null,
      "outputs": [
        {
          "output_type": "execute_result",
          "data": {
            "text/plain": [
              "(230, 499)"
            ]
          },
          "metadata": {
            "tags": []
          },
          "execution_count": 22
        }
      ]
    },
    {
      "cell_type": "code",
      "metadata": {
        "id": "K5A9lvxemKtk",
        "colab_type": "code",
        "colab": {
          "base_uri": "https://localhost:8080/",
          "height": 34
        },
        "outputId": "d70050ab-4d3c-454c-8de0-40a8b3d0dae1"
      },
      "source": [
        "kiman_des_clean_tight = kiman_des_overlap_clean[(kiman_des_overlap_clean['WAVG_MAG_PSF_I_DERED'] - kiman_des_overlap_clean['MAG_AUTO_I_DERED'] < 0.5)]\n",
        "kiman_des_clean_tight.shape"
      ],
      "execution_count": null,
      "outputs": [
        {
          "output_type": "execute_result",
          "data": {
            "text/plain": [
              "(227, 499)"
            ]
          },
          "metadata": {
            "tags": []
          },
          "execution_count": 23
        }
      ]
    },
    {
      "cell_type": "code",
      "metadata": {
        "id": "XUypHiSRFzDC",
        "colab_type": "code",
        "colab": {
          "base_uri": "https://localhost:8080/",
          "height": 51
        },
        "outputId": "d3b3f3d4-a06e-4652-ff2f-07574c8e02c2"
      },
      "source": [
        "# gagne's dwarfs:\n",
        "gagne_lty = pd.read_csv('gdrive/My Drive/Colab Notebooks/gagne_dwarfs/gagne_lty_dwarfs.csv')\n",
        "gagne_m = pd.read_csv('gdrive/My Drive/Colab Notebooks/gagne_dwarfs/gagne_m6_m9_dwarfs.csv',low_memory=False)\n",
        "print(gagne_lty.shape)\n",
        "print(gagne_m.shape)"
      ],
      "execution_count": null,
      "outputs": [
        {
          "output_type": "stream",
          "text": [
            "(1773, 80)\n",
            "(8683, 80)\n"
          ],
          "name": "stdout"
        }
      ]
    },
    {
      "cell_type": "code",
      "metadata": {
        "id": "bqr-wymzGq6Z",
        "colab_type": "code",
        "colab": {}
      },
      "source": [
        "gagne_m=gagne_m.rename(columns={'R.A. (deg)': 'RA', 'Decl. (deg)': 'DEC'})\n",
        "gagne_lty=gagne_lty.rename(columns={'R.A. (deg)': 'RA', 'Decl. (deg)': 'DEC'})"
      ],
      "execution_count": null,
      "outputs": []
    },
    {
      "cell_type": "code",
      "metadata": {
        "id": "pdhvAVzlGeoG",
        "colab_type": "code",
        "colab": {}
      },
      "source": [
        "#gagne_m[['Name','RA','DEC']].to_csv(path_des+'/des_dered_data/gagne_m_coords.csv',index=False)\n",
        "#gagne_lty[['Name','RA','DEC']].to_csv(path_des+'/des_dered_data/gagne_lty_coords.csv',index=False)"
      ],
      "execution_count": null,
      "outputs": []
    },
    {
      "cell_type": "code",
      "metadata": {
        "id": "GQaB9qISNuG9",
        "colab_type": "code",
        "colab": {
          "base_uri": "https://localhost:8080/",
          "height": 68
        },
        "outputId": "9d986538-1fa2-4295-f7c6-22e92f4ca1ba"
      },
      "source": [
        "gagne_m_des = pd.read_csv(path_des+'/des_dered_data/gagne_m_desdr1.csv')\n",
        "gagne_lty_des = pd.read_csv(path_des+'/des_dered_data/gagne_lty_desdr1.csv')\n",
        "gagne_m_des['spt'] = 'M'\n",
        "gagne_lty_des['spt'] = 'LT'\n",
        "\n",
        "gagne_dwarfs = pd.concat([gagne_m_des,gagne_lty_des])\n",
        "print(gagne_m_des.shape)\n",
        "print(gagne_lty_des.shape)\n",
        "print(gagne_dwarfs.shape)"
      ],
      "execution_count": null,
      "outputs": [
        {
          "output_type": "stream",
          "text": [
            "(298, 257)\n",
            "(42, 257)\n",
            "(340, 257)\n"
          ],
          "name": "stdout"
        }
      ]
    },
    {
      "cell_type": "code",
      "metadata": {
        "id": "vJqFqjqPk6bv",
        "colab_type": "code",
        "colab": {
          "base_uri": "https://localhost:8080/",
          "height": 34
        },
        "outputId": "e01009ef-a7e3-48a9-9caa-cb3fd279c564"
      },
      "source": [
        "gagne_dwarfs.dist_arcsec.max()"
      ],
      "execution_count": null,
      "outputs": [
        {
          "output_type": "execute_result",
          "data": {
            "text/plain": [
              "0.9943824153666251"
            ]
          },
          "metadata": {
            "tags": []
          },
          "execution_count": 28
        }
      ]
    },
    {
      "cell_type": "code",
      "metadata": {
        "id": "JtsL8HcVX6Wx",
        "colab_type": "code",
        "colab": {}
      },
      "source": [
        "imag_dered = []\n",
        "zmag_dered = []\n",
        "ymag_dered = []\n",
        "for i_mag,i_auto in gagne_dwarfs[['wavg_mag_psf_i_dered','mag_auto_i_dered']].values:\n",
        "  if i_mag < 98:\n",
        "    imag_dered.append(i_mag)\n",
        "  else:\n",
        "    imag_dered.append(i_auto)\n",
        "for z_mag,z_auto in gagne_dwarfs[['wavg_mag_psf_z_dered','mag_auto_z_dered']].values:\n",
        "  if z_mag < 98:\n",
        "    zmag_dered.append(z_mag)\n",
        "  else:\n",
        "    zmag_dered.append(z_auto)\n",
        "for y_mag,y_auto in gagne_dwarfs[['wavg_mag_psf_y_dered','mag_auto_y_dered']].values:\n",
        "  if y_mag < 98:\n",
        "    ymag_dered.append(y_mag)\n",
        "  else:\n",
        "    ymag_dered.append(y_auto)\n",
        "\n",
        "gagne_dwarfs['IMAG_DERED'] = imag_dered\n",
        "gagne_dwarfs['ZMAG_DERED'] = zmag_dered\n",
        "gagne_dwarfs['YMAG_DERED'] = ymag_dered\n",
        "\n",
        "\n",
        "imag = []\n",
        "zmag = []\n",
        "ymag = []\n",
        "for i_mag,i_auto in gagne_dwarfs[['wavg_mag_psf_i','mag_auto_i']].values:\n",
        "  if i_mag < 98:\n",
        "    imag.append(i_mag)\n",
        "  else:\n",
        "    imag.append(i_auto)\n",
        "for z_mag,z_auto in gagne_dwarfs[['wavg_mag_psf_z','mag_auto_z']].values:\n",
        "  if z_mag < 98:\n",
        "    zmag.append(z_mag)\n",
        "  else:\n",
        "    zmag.append(z_auto)\n",
        "for y_mag,y_auto in gagne_dwarfs[['wavg_mag_psf_y','mag_auto_y']].values:\n",
        "  if y_mag < 98:\n",
        "    ymag.append(y_mag)\n",
        "  else:\n",
        "    ymag.append(y_auto)\n",
        "\n",
        "gagne_dwarfs['IMAG'] = imag\n",
        "gagne_dwarfs['ZMAG'] = zmag\n",
        "gagne_dwarfs['YMAG'] = ymag"
      ],
      "execution_count": null,
      "outputs": []
    },
    {
      "cell_type": "code",
      "metadata": {
        "id": "oxwXi5X3OOyO",
        "colab_type": "code",
        "colab": {
          "base_uri": "https://localhost:8080/",
          "height": 51
        },
        "outputId": "9bab33a0-299c-4d18-8885-9abfeff180d4"
      },
      "source": [
        "# query cuts:\n",
        "gagne_des_c0 = gagne_dwarfs[(gagne_dwarfs['imaflags_iso_i'] == 0) & (gagne_dwarfs['imaflags_iso_z'] == 0) & (gagne_dwarfs['flags_i'] < 4) & (gagne_dwarfs['flags_z'] < 4)]\n",
        "print(gagne_des_c0.shape)\n",
        "gagne_des_c02 = gagne_des_c0[(gagne_des_c0['mag_auto_i'] - gagne_des_c0['mag_auto_z'] >= 0.75) | (gagne_des_c0['wavg_mag_psf_i'] - gagne_des_c0['wavg_mag_psf_z'] >= 0.75)]\n",
        "print(gagne_des_c02.shape)"
      ],
      "execution_count": null,
      "outputs": [
        {
          "output_type": "stream",
          "text": [
            "(333, 263)\n",
            "(325, 263)\n"
          ],
          "name": "stdout"
        }
      ]
    },
    {
      "cell_type": "code",
      "metadata": {
        "id": "PySRD2d5RG5z",
        "colab_type": "code",
        "colab": {
          "base_uri": "https://localhost:8080/",
          "height": 51
        },
        "outputId": "c42fd1fe-c7c5-4d4c-eb35-e1b45e94cf29"
      },
      "source": [
        "# mag cuts done with regular mags, and color cuts made with dered mags. We'll train with dered mags\n",
        "gagne_des_c1 = gagne_des_c02[(gagne_des_c02['mag_auto_i'] <= 23.00) & (gagne_des_c02['mag_auto_z'] <= 22.25) & (gagne_des_c02['mag_auto_y'] <= 22.00)]\n",
        "print(gagne_des_c1.shape)\n",
        "gagne_des_c2 = gagne_des_c1[(gagne_des_c1['mag_auto_i_dered'] - gagne_des_c1['mag_auto_z_dered'] >= 0.7) & (gagne_des_c1['mag_auto_i_dered'] - gagne_des_c1['mag_auto_z_dered'] <= 20) \n",
        "  & (gagne_des_c1['mag_auto_z_dered'] - gagne_des_c1['mag_auto_y_dered'] >= 0.0)\n",
        "  ]\n",
        "print(gagne_des_c2.shape)"
      ],
      "execution_count": null,
      "outputs": [
        {
          "output_type": "stream",
          "text": [
            "(310, 263)\n",
            "(309, 263)\n"
          ],
          "name": "stdout"
        }
      ]
    },
    {
      "cell_type": "code",
      "metadata": {
        "id": "Al3A1sEeeXxe",
        "colab_type": "code",
        "colab": {
          "base_uri": "https://localhost:8080/",
          "height": 51
        },
        "outputId": "bbce05e2-aca4-417a-a90f-6b055aa3c844"
      },
      "source": [
        "gagne_des_c3 = gagne_des_c2[(gagne_des_c2['IMAG'] <= 23.00) & (gagne_des_c2['ZMAG'] <= 22.25) \n",
        "            & (gagne_des_c2['YMAG'] <= 22.00)]\n",
        "print(gagne_des_c3.shape)\n",
        "\n",
        "# determined this cut based on spectral types to keep M6 and later. Used Rocio's matches and spectral types\n",
        "gagne_des_c4 = gagne_des_c3[(gagne_des_c3['IMAG_DERED'] - gagne_des_c3['ZMAG_DERED'] >= 0.70) \n",
        "                & (gagne_des_c3['ZMAG_DERED'] - gagne_des_c3['YMAG_DERED'] >= 0.0)\n",
        "  ]\n",
        "print(gagne_des_c4.shape)"
      ],
      "execution_count": null,
      "outputs": [
        {
          "output_type": "stream",
          "text": [
            "(309, 263)\n",
            "(309, 263)\n"
          ],
          "name": "stdout"
        }
      ]
    },
    {
      "cell_type": "code",
      "metadata": {
        "id": "g_cym7RJRWyJ",
        "colab_type": "code",
        "colab": {
          "base_uri": "https://localhost:8080/",
          "height": 34
        },
        "outputId": "62c5e0dd-94c2-4e59-e443-76019dc445b9"
      },
      "source": [
        "gagne_des_overlap = gagne_des_c4.merge(des_c2,right_on='COADD_OBJECT_ID',left_on='coadd_object_id',how='inner',suffixes=('','_dup'))\n",
        "gagne_des_overlap = gagne_des_overlap.drop(gagne_des_overlap.filter(regex='_dup').columns, axis=1)\n",
        "gagne_des_overlap.shape"
      ],
      "execution_count": null,
      "outputs": [
        {
          "output_type": "execute_result",
          "data": {
            "text/plain": [
              "(309, 293)"
            ]
          },
          "metadata": {
            "tags": []
          },
          "execution_count": 33
        }
      ]
    },
    {
      "cell_type": "code",
      "metadata": {
        "id": "mm-i7txdfDHC",
        "colab_type": "code",
        "colab": {
          "base_uri": "https://localhost:8080/",
          "height": 34
        },
        "outputId": "6d83b026-4d0c-4472-c52e-1fe01240f2e1"
      },
      "source": [
        "gagne_des_overlap_clean = gagne_des_c4.merge(des_merged4,right_on='COADD_OBJECT_ID',left_on='coadd_object_id',how='inner',suffixes=('','_dup'))\n",
        "gagne_des_overlap_clean = gagne_des_overlap_clean.drop(gagne_des_overlap_clean.filter(regex='_dup').columns, axis=1)\n",
        "gagne_des_overlap_clean.shape # we lose Kiman 33 objects in cleaning"
      ],
      "execution_count": null,
      "outputs": [
        {
          "output_type": "execute_result",
          "data": {
            "text/plain": [
              "(176, 487)"
            ]
          },
          "metadata": {
            "tags": []
          },
          "execution_count": 34
        }
      ]
    },
    {
      "cell_type": "code",
      "metadata": {
        "id": "7CdMx2yQR_Rz",
        "colab_type": "code",
        "colab": {
          "base_uri": "https://localhost:8080/",
          "height": 34
        },
        "outputId": "8d8ff892-27d1-42ff-801f-9e395f277a91"
      },
      "source": [
        "Counter(gagne_des_overlap_clean['spt'])"
      ],
      "execution_count": null,
      "outputs": [
        {
          "output_type": "execute_result",
          "data": {
            "text/plain": [
              "Counter({'LT': 13, 'M': 163})"
            ]
          },
          "metadata": {
            "tags": []
          },
          "execution_count": 35
        }
      ]
    },
    {
      "cell_type": "markdown",
      "metadata": {
        "id": "vXVpmtXm9PxJ",
        "colab_type": "text"
      },
      "source": [
        "## Investigating M_i space\n",
        "\n",
        "Defining absolute magnitude:\n",
        "\n",
        "$$M = m - 5\\log(d_{pc}) + 5$$."
      ]
    },
    {
      "cell_type": "code",
      "metadata": {
        "id": "n2w9vLe9Ssf_",
        "colab_type": "code",
        "colab": {}
      },
      "source": [
        "def M(d, m):\n",
        "    return m - 5*np.log10(d) + 5"
      ],
      "execution_count": null,
      "outputs": []
    },
    {
      "cell_type": "code",
      "metadata": {
        "id": "S8QpOAMN9sq7",
        "colab_type": "code",
        "colab": {}
      },
      "source": [
        "# defining absolute magnitude columns based on the function above:\n",
        "des_merged4['M_i'] = M(des_merged4['rest'],des_merged4['IMAG_DERED'])\n",
        "des_merged4['i_z'] = des_merged4['IMAG_DERED'] - des_merged4['ZMAG_DERED']\n",
        "\n",
        "kiman_des_overlap_clean['M_i'] = M(kiman_des_overlap_clean['rest'],kiman_des_overlap_clean['IMAG_DERED'])\n",
        "kiman_des_overlap_clean['i_z'] = kiman_des_overlap_clean['IMAG_DERED'] - kiman_des_overlap_clean['ZMAG_DERED']\n",
        "\n",
        "gagne_des_overlap_clean['M_i'] = M(gagne_des_overlap_clean['rest'],gagne_des_overlap_clean['IMAG_DERED'])\n",
        "gagne_des_overlap_clean['i_z'] = gagne_des_overlap_clean['IMAG_DERED'] - gagne_des_overlap_clean['ZMAG_DERED']"
      ],
      "execution_count": null,
      "outputs": []
    },
    {
      "cell_type": "code",
      "metadata": {
        "id": "En4uhJ-FTbpl",
        "colab_type": "code",
        "colab": {
          "base_uri": "https://localhost:8080/",
          "height": 51
        },
        "outputId": "83a70abf-be35-4354-9fc7-9f66128f5e89"
      },
      "source": [
        "gagne_m_clean = gagne_des_overlap_clean[gagne_des_overlap_clean['spt'] == 'M']\n",
        "gagne_lty_clean = gagne_des_overlap_clean[gagne_des_overlap_clean['spt'] == 'LT']\n",
        "\n",
        "print(gagne_m_clean.shape)\n",
        "print(gagne_lty_clean.shape)"
      ],
      "execution_count": null,
      "outputs": [
        {
          "output_type": "stream",
          "text": [
            "(163, 488)\n",
            "(13, 488)\n"
          ],
          "name": "stdout"
        }
      ]
    },
    {
      "cell_type": "code",
      "metadata": {
        "id": "9epUXPCani7k",
        "colab_type": "code",
        "colab": {}
      },
      "source": [
        "def func(m,b,x):\n",
        "  return m*x+b"
      ],
      "execution_count": null,
      "outputs": []
    },
    {
      "cell_type": "code",
      "metadata": {
        "id": "Qtd4tJozoPe0",
        "colab_type": "code",
        "colab": {
          "base_uri": "https://localhost:8080/",
          "height": 34
        },
        "outputId": "63aef75d-be52-476a-e592-613e5f998f49"
      },
      "source": [
        "x = np.linspace(des_merged4['i_z'].min(),des_merged4['i_z'].max(),len(des_merged4))\n",
        "print(len(x))\n",
        "params = [6,3.5]\n",
        "y = func(params[0],params[1],x)"
      ],
      "execution_count": null,
      "outputs": [
        {
          "output_type": "stream",
          "text": [
            "227257\n"
          ],
          "name": "stdout"
        }
      ]
    },
    {
      "cell_type": "code",
      "metadata": {
        "id": "CyHYedM2-dYA",
        "colab_type": "code",
        "colab": {
          "base_uri": "https://localhost:8080/",
          "height": 335
        },
        "outputId": "13d36a1d-5a2d-44f0-8c18-f64d3b83a4f1"
      },
      "source": [
        "fig = plt.figure(1, figsize=(2*3.4, 2*3.4*3/4.))\n",
        "ax2=plt.scatter(des_merged4['i_z'],des_merged4['M_i'],s=1,c='k',label='DES Data')\n",
        "ax3=plt.scatter(kiman_des_overlap_clean['i_z'],kiman_des_overlap_clean['M_i'],s=1,c='r',label='Kiman et al (2019)')\n",
        "ax1=plt.scatter(gagne_m_clean['i_z'],gagne_m_clean['M_i'],s=1,c='b',label='Gagne M')\n",
        "ax4=plt.scatter(gagne_lty_clean['i_z'],gagne_lty_clean['M_i'],s=1,c='g',label='Gagne LT')\n",
        "plt.plot(x,y,ls='--',color='r',label = '$M_i = {}*(i - z) + {}$'.format(params[0],abs(params[1])))\n",
        "plt.xlabel('$i - z$')\n",
        "plt.ylabel('$M_i$')\n",
        "leg=plt.legend(loc='best',markerscale=5)\n",
        "for l in leg.get_lines():\n",
        "    l.set_alpha(1)\n",
        "#leg.legendHandles[3]._sizes = [20]\n",
        "ax1.set_alpha(1.0)\n",
        "ax2.set_alpha(0.1)\n",
        "ax3.set_alpha(1.0)\n",
        "ax4.set_alpha(1.0)\n",
        "plt.minorticks_on()\n",
        "\n",
        "plt.gca().invert_yaxis()\n",
        "plt.show()"
      ],
      "execution_count": null,
      "outputs": [
        {
          "output_type": "display_data",
          "data": {
            "image/png": "[encoded data removed]",
            "text/plain": [
              "<Figure size 489.6x367.2 with 1 Axes>"
            ]
          },
          "metadata": {
            "tags": []
          }
        }
      ]
    },
    {
      "cell_type": "code",
      "metadata": {
        "id": "p5gZq-PiCKng",
        "colab_type": "code",
        "colab": {
          "base_uri": "https://localhost:8080/",
          "height": 34
        },
        "outputId": "ea7dfc2d-1a23-417b-9ed7-62f633917a17"
      },
      "source": [
        "sigma_cut = des_merged4[des_merged4['parallax'] > 3*des_merged4['parallax_error']]\n",
        "print(sigma_cut.shape)"
      ],
      "execution_count": null,
      "outputs": [
        {
          "output_type": "stream",
          "text": [
            "(64146, 240)\n"
          ],
          "name": "stdout"
        }
      ]
    },
    {
      "cell_type": "code",
      "metadata": {
        "id": "M8_NPB6mAW9g",
        "colab_type": "code",
        "colab": {
          "base_uri": "https://localhost:8080/",
          "height": 34
        },
        "outputId": "de513aca-9106-4ce8-f9a9-a0e571d9dc71"
      },
      "source": [
        "x = np.linspace(sigma_cut['i_z'].min(),sigma_cut['i_z'].max(),len(sigma_cut))\n",
        "print(len(x))\n",
        "params = [6,3.5]\n",
        "y = func(params[0],params[1],x)"
      ],
      "execution_count": null,
      "outputs": [
        {
          "output_type": "stream",
          "text": [
            "64146\n"
          ],
          "name": "stdout"
        }
      ]
    },
    {
      "cell_type": "code",
      "metadata": {
        "id": "pV6GhFelB7Ml",
        "colab_type": "code",
        "colab": {
          "base_uri": "https://localhost:8080/",
          "height": 68
        },
        "outputId": "0de078e3-871b-4fc7-8c73-e067cea87d32"
      },
      "source": [
        "giants_par = sigma_cut[(sigma_cut['M_i'] < func(params[0],params[1],sigma_cut['i_z']))]\n",
        "dwarfs_par = sigma_cut[(sigma_cut['M_i'] > func(params[0],params[1],sigma_cut['i_z']))]\n",
        "\n",
        "print(len(giants_par))\n",
        "print(len(dwarfs_par))\n",
        "\n",
        "print(len(giants_par)/len(dwarfs_par))"
      ],
      "execution_count": null,
      "outputs": [
        {
          "output_type": "stream",
          "text": [
            "1132\n",
            "63014\n",
            "0.017964261910051734\n"
          ],
          "name": "stdout"
        }
      ]
    },
    {
      "cell_type": "code",
      "metadata": {
        "id": "hzYVwbgzB8B8",
        "colab_type": "code",
        "colab": {
          "base_uri": "https://localhost:8080/",
          "height": 68
        },
        "outputId": "1a982dc7-3f95-433b-bba2-84cff418824c"
      },
      "source": [
        "gagne_m_clean = gagne_m_clean[gagne_m_clean['M_i'] > func(params[0],params[1],gagne_m_clean['i_z'])]\n",
        "gagne_lty_clean = gagne_lty_clean[gagne_lty_clean['M_i'] > func(params[0],params[1],gagne_lty_clean['i_z'])]\n",
        "kiman_des_overlap_clean = kiman_des_overlap_clean[kiman_des_overlap_clean['M_i'] > func(params[0],params[1],kiman_des_overlap_clean['i_z'])]\n",
        "print(gagne_m_clean.shape)\n",
        "print(gagne_lty_clean.shape)\n",
        "print(kiman_des_overlap_clean.shape)"
      ],
      "execution_count": null,
      "outputs": [
        {
          "output_type": "stream",
          "text": [
            "(148, 488)\n",
            "(5, 488)\n",
            "(228, 500)\n"
          ],
          "name": "stdout"
        }
      ]
    },
    {
      "cell_type": "code",
      "metadata": {
        "id": "RmMirToaX3N3",
        "colab_type": "code",
        "colab": {}
      },
      "source": [
        "def conf_levels(x,y,bin_n):\n",
        "  # Make a 2d normed histogram\n",
        "  H,xedges,yedges=np.histogram2d(x,y,bins=bin_n,normed=True)\n",
        "  norm=H.sum() # Find the norm of the sum\n",
        "  # Set contour levels\n",
        "  contour1=0.99\n",
        "  contour2=0.95\n",
        "  contour3=0.68\n",
        "\n",
        "  # Set target levels as percentage of norm\n",
        "  target1 = norm*contour1\n",
        "  target2 = norm*contour2\n",
        "  target3 = norm*contour3\n",
        "\n",
        "  # Take histogram bin membership as proportional to Likelihood\n",
        "  # This is true when data comes from a Markovian process\n",
        "  def objective(limit, target):\n",
        "      w = np.where(H>limit)\n",
        "      count = H[w]\n",
        "      return count.sum() - target\n",
        "\n",
        "  # Find levels by summing histogram to objective\n",
        "  #level1= scipy.optimize.bisect(objective, H.min(), H.max(), args=(target1,))\n",
        "  level2= scipy.optimize.bisect(objective, H.min(), H.max(), args=(target2,))\n",
        "  level3= scipy.optimize.bisect(objective, H.min(), H.max(), args=(target3,))\n",
        "\n",
        "  # Define the levels in an interable:\n",
        "  levels=[level2,level3]\n",
        "  return levels\n",
        "\n",
        "def gauss_levels(x,y):\n",
        "  x,y = x.values,y.values\n",
        "  objects = [[a,b] for a,b in zip(x,y)] \n",
        "  obj_arr = np.array(objects)\n",
        "\n",
        "  xmin = x.min()\n",
        "  xmax = x.max()\n",
        "  ymin = y.min()\n",
        "  ymax = y.max()\n",
        "\n",
        "  X, Y = np.mgrid[xmin:xmax:100j, ymin:ymax:100j]\n",
        "  positions = np.vstack([X.ravel(), Y.ravel()])\n",
        "  #values = np.vstack([m1, m2])\n",
        "  kernel = stats.gaussian_kde(obj_arr.T)\n",
        "  Z = np.reshape(kernel(positions).T, X.shape)\n",
        "  return X,Y,Z"
      ],
      "execution_count": null,
      "outputs": []
    },
    {
      "cell_type": "code",
      "metadata": {
        "id": "66Sl1O8BRSRY",
        "colab_type": "code",
        "colab": {
          "base_uri": "https://localhost:8080/",
          "height": 335
        },
        "outputId": "07bb3582-a3c4-4149-bb0d-c95f311b061a"
      },
      "source": [
        "fig = plt.figure(1, figsize=(1*3.4, 2*3.4*3/4.))\n",
        "plt.subplots_adjust(hspace=0.0)\n",
        "\n",
        "axis2 = plt.subplot(2,1,1)\n",
        "ax1=axis2.scatter(giants_par['i_z'],giants_par['M_i'],s=1,c='C1',label='$N = {}$'.format(len(giants_par)))\n",
        "ax2=axis2.scatter(dwarfs_par['i_z'],dwarfs_par['M_i'],s=1,c='C0',label='$N = {}$'.format(len(dwarfs_par)),rasterized=True)\n",
        "axis2.plot(x,y,ls='--',color='r', label = '$L = {}*(i - z) + {}$'.format(params[0],abs(params[1])))\n",
        "axis2.set_xlabel('$i - z$')\n",
        "axis2.set_ylabel('$M_i$')\n",
        "leg=axis2.legend(loc='best',markerscale=5)\n",
        "for l in leg.get_lines():\n",
        "    l.set_alpha(1)\n",
        "ax1.set_alpha(1.0)\n",
        "ax2.set_alpha(0.1)\n",
        "axis2.minorticks_on()\n",
        "axis2.invert_yaxis()\n",
        "\n",
        "axis1 = plt.subplot(2,1,2)\n",
        "ax2=axis1.scatter(sigma_cut['i_z'],sigma_cut['M_i'],s=1,c='C0',label='DES $\\pi > 3\\sigma$',rasterized=True)\n",
        "ax3=axis1.scatter(kiman_des_overlap_clean['i_z'],kiman_des_overlap_clean['M_i'],s=5,c='C1',label='Kiman et al (2019)')\n",
        "ax1=axis1.scatter(gagne_m_clean['i_z'],gagne_m_clean['M_i'],s=5,c='C2',label='Gagne M')\n",
        "ax4=axis1.scatter(gagne_lty_clean['i_z'],gagne_lty_clean['M_i'],s=5,c='C3',label='Gagne LT')\n",
        "axis1.plot(x,y,ls='--',color='r')\n",
        "axis1.set_xlabel('$i - z$')\n",
        "axis1.set_ylabel('$M_i$')\n",
        "leg=axis1.legend(loc='best',markerscale=5)\n",
        "for l in leg.get_lines():\n",
        "    l.set_alpha(1)\n",
        "leg.legendHandles[3]._sizes = [20]\n",
        "leg.legendHandles[2]._sizes = [20]\n",
        "leg.legendHandles[1]._sizes = [20]\n",
        "ax1.set_alpha(1.0)\n",
        "ax2.set_alpha(0.1)\n",
        "ax3.set_alpha(1.0)\n",
        "ax4.set_alpha(1.0)\n",
        "axis1.minorticks_on()\n",
        "axis1.invert_yaxis()\n",
        "\n",
        "#plt.savefig('gdrive/My Drive/Colab Notebooks/figures/M_i_cut_dwarfs_giants_des.pdf',dpi=300,bbox_inches='tight',padding=0)\n",
        "plt.show()"
      ],
      "execution_count": null,
      "outputs": [
        {
          "output_type": "display_data",
          "data": {
            "image/png": "[encoded data removed]",
            "text/plain": [
              "<Figure size 244.8x367.2 with 2 Axes>"
            ]
          },
          "metadata": {
            "tags": []
          }
        }
      ]
    },
    {
      "cell_type": "code",
      "metadata": {
        "id": "gjLnLNIGXxdF",
        "colab_type": "code",
        "colab": {
          "base_uri": "https://localhost:8080/",
          "height": 68
        },
        "outputId": "38de4399-7616-49fc-acd3-a16d87a29dbd"
      },
      "source": [
        "levels_1 = conf_levels(sigma_cut['i_z'],sigma_cut['M_i'],bin_n=25)\n",
        "levels_2 = conf_levels(kiman_des_overlap_clean['i_z'],kiman_des_overlap_clean['M_i'],bin_n=10)\n",
        "levels_3 = conf_levels(gagne_m_clean['i_z'],gagne_m_clean['M_i'],bin_n=5)\n",
        "#levels_4 = conf_levels(gagne_lty_clean['i_z'],gagne_lty_clean['M_i'],bin_n=5)\n",
        "print(levels_1)\n",
        "print(levels_2)\n",
        "print(levels_3)\n",
        "#print(levels_4)"
      ],
      "execution_count": null,
      "outputs": [
        {
          "output_type": "stream",
          "text": [
            "[0.04948136551758306, 0.6679984344646323]\n",
            "[0.1709974567300464, 0.7694885552807181]\n",
            "[0.12264497760852769, 0.4905799104356352]\n"
          ],
          "name": "stdout"
        }
      ]
    },
    {
      "cell_type": "code",
      "metadata": {
        "id": "vChnWZFdX7-S",
        "colab_type": "code",
        "colab": {
          "base_uri": "https://localhost:8080/",
          "height": 335
        },
        "outputId": "0b6560ab-9234-4e55-8fa8-4c16a5a5c363"
      },
      "source": [
        "fig = plt.figure(1, figsize=(1*3.4, 2*3.4*3/4.))\n",
        "\n",
        "ax = plt.subplot(2,1,1)\n",
        "plt.subplots_adjust(hspace=0.0)\n",
        "\n",
        "X1,Y1,Z1 = gauss_levels(dwarfs_par['i_z'],dwarfs_par['M_i'])\n",
        "X2,Y2,Z2 = gauss_levels(giants_par['i_z'],giants_par['M_i'])\n",
        "levels_1 = conf_levels(dwarfs_par['i_z'],dwarfs_par['M_i'],bin_n=25)\n",
        "levels_2 = conf_levels(giants_par['i_z'],giants_par['M_i'],bin_n=5)\n",
        "\n",
        "ax1 = ax.contour(X1,Y1,Z1, levels=levels_1, colors=['C0'], linestyles=['solid','--','-.'], linewidths=[1,2], zorder=-20)\n",
        "ax2 = ax.contour(X2,Y2,Z2, levels=levels_2, colors=['C1'], linestyles=['solid','--','-.'], linewidths=[1,2], zorder=-20)\n",
        "ax.plot(x,y,ls='--',color='r', \n",
        "        #label = '$L = {}*(i - z) + {}$'.format(params[0],abs(params[1]))\n",
        "        )\n",
        "ax.set_xlabel('$i - z$')\n",
        "ax.set_ylabel('$M_i$')\n",
        "ax.set_xlim(0.70,2.0)\n",
        "ax.invert_yaxis()\n",
        "plt.minorticks_on()\n",
        "\n",
        "X1,Y1,Z1 = gauss_levels(sigma_cut['i_z'],sigma_cut['M_i'])\n",
        "X2,Y2,Z2 = gauss_levels(kiman_des_overlap_clean['i_z'],kiman_des_overlap_clean['M_i'])\n",
        "X3,Y3,Z3 = gauss_levels(gagne_m_clean['i_z'],gagne_m_clean['M_i'])\n",
        "#X4,Y4,Z4 = gauss_levels(des_pred_kiman['IMAG_DERED']-des_pred_kiman['ZMAG_DERED'],des_pred_kiman['ZMAG_DERED'] - des_pred_kiman['YMAG_DERED'])\n",
        "levels_1 = conf_levels(sigma_cut['i_z'],sigma_cut['M_i'],bin_n=20)\n",
        "levels_2 = conf_levels(kiman_des_overlap_clean['i_z'],kiman_des_overlap_clean['M_i'],bin_n=5)\n",
        "levels_3 = conf_levels(gagne_m_clean['i_z'],gagne_m_clean['M_i'],bin_n=5)\n",
        "\n",
        "ax_2 = plt.subplot(2,1,2)\n",
        "ax1 = ax_2.contour(X1,Y1,Z1, levels=levels_1, colors=['C0'], linestyles=['solid','--','-.'], linewidths=[1,2], zorder=-20)\n",
        "ax2 = ax_2.contour(X2,Y2,Z2, levels=levels_2, colors=['C1'], linestyles=['solid','--','-.'], linewidths=[1,2], zorder=-20)\n",
        "ax3 = ax_2.contour(X3,Y3,Z3, levels=levels_3, colors=['C2'], linestyles=['solid','--','-.'], linewidths=[1,2], zorder=-20)\n",
        "ax4= ax_2.scatter(gagne_lty_clean['i_z'],gagne_lty_clean['M_i'],s=10,c='C3')\n",
        "ax_2.plot(x,y,ls='--',color='r')\n",
        "ax_2.set_xlabel('$i - z$')\n",
        "ax_2.set_ylabel('$M_i$')\n",
        "\n",
        "ax.plot([0,0],[0,0], ls='solid', c='C0', lw=2, label=r'$N = {}$'.format(len(dwarfs_par)))\n",
        "ax.plot([0,0],[0,0], ls='solid', c='C1', lw=2, label=r'$N = {}$'.format(len(giants_par)))\n",
        "ax.legend(loc='upper right', frameon=False)\n",
        "\n",
        "ax_2.plot([0,0],[0,0], ls='solid', c='C0', lw=2, label=r'DES $\\pi > 3\\sigma$')\n",
        "ax_2.plot([0,0],[0,0], ls='solid', c='C1', lw=2, label=r'K19 UCD')\n",
        "ax_2.plot([0,0],[0,0], ls='solid', c='C2', lw=2, label=r'Gagne M UCD')\n",
        "ax_2.plot([0,0],[0,0], 'o', c='C3', label=r'Gagne LT UCD')\n",
        "ax_2.legend(loc='upper right', frameon=False)\n",
        "\n",
        "plt.minorticks_on()\n",
        "ax_2.set_xlim(0.70,2.0)\n",
        "ax_2.invert_yaxis()\n",
        "#ax_2.set_ylim(0.0,1.0)\n",
        "#plt.tight_layout()\n",
        "plt.savefig('gdrive/My Drive/Colab Notebooks/figures/M_i_cut_dwarfs_giants_des_contour.pdf',dpi=300,bbox_inches='tight',padding=0)\n",
        "plt.show()"
      ],
      "execution_count": null,
      "outputs": [
        {
          "output_type": "display_data",
          "data": {
            "image/png": "[encoded data removed]",
            "text/plain": [
              "<Figure size 244.8x367.2 with 2 Axes>"
            ]
          },
          "metadata": {
            "tags": []
          }
        }
      ]
    },
    {
      "cell_type": "code",
      "metadata": {
        "id": "szdt3XrPDPmQ",
        "colab_type": "code",
        "colab": {
          "base_uri": "https://localhost:8080/",
          "height": 198
        },
        "outputId": "0d82207e-6b54-4425-df79-22270002a3c1"
      },
      "source": [
        "fig = plt.figure(1, figsize=(1*3.4, 1*3.4*3/4.))\n",
        "plt.hist(dwarfs_par['parallax'],bins=500,histtype='step',density=True,label='$M_i \\geq L(i-z)$')\n",
        "plt.hist(giants_par['parallax'],bins=100,histtype='step',density=True,label='$M_i < L(i-z)$')\n",
        "#plt.hist(des_c4_g['log_par'],bins=1000,histtype='step',density=True)\n",
        "plt.xlabel('$\\pi$ (mas)') \n",
        "plt.xscale('symlog')\n",
        "plt.legend(loc='upper right')\n",
        "plt.minorticks_on()\n",
        "plt.savefig('gdrive/My Drive/Colab Notebooks/figures/des_par_distributions.pdf',dpi=300,bbox_inches='tight',padding=0)\n",
        "plt.show()"
      ],
      "execution_count": null,
      "outputs": [
        {
          "output_type": "display_data",
          "data": {
            "image/png": "[encoded data removed]",
            "text/plain": [
              "<Figure size 244.8x183.6 with 1 Axes>"
            ]
          },
          "metadata": {
            "tags": []
          }
        }
      ]
    },
    {
      "cell_type": "markdown",
      "metadata": {
        "id": "fTEYiWzK70JO",
        "colab_type": "text"
      },
      "source": [
        "# Kiman et al. (2019) cuts and 1kpc cuts for Giants\n",
        "\n",
        "To ensure we select dwarfs for our training set, we follow the cuts made by Kiman et al 2019:\n",
        "\n",
        "1. `parallax_over_error` > 10\n",
        "2. `visibility_periods_used` > 8\n",
        "3. `UWE` < 1.2 $\\times$ max(1.4, $\\exp(-0.2(G -  19.5))$)\n",
        "\n",
        "`parallax_over_error` = `parallax`/`parallax_error`"
      ]
    },
    {
      "cell_type": "code",
      "metadata": {
        "id": "TFD7RWeV7yuD",
        "colab_type": "code",
        "colab": {}
      },
      "source": [
        "def uwe_squared(chi2,obs):\n",
        "    return chi2/(obs - 5)\n",
        "    \n",
        "def uwe_cut(gmag):\n",
        "    return 1.2*max(1.4,np.exp(-0.2*(float(gmag) - 19.5)))"
      ],
      "execution_count": null,
      "outputs": []
    },
    {
      "cell_type": "code",
      "metadata": {
        "id": "LF4uFf2Y8NhP",
        "colab_type": "code",
        "colab": {
          "base_uri": "https://localhost:8080/",
          "height": 136
        },
        "outputId": "1e735b69-ab5c-42a7-aa6c-2cd996cae717"
      },
      "source": [
        "dwarfs_par['UWE'] = np.sqrt(uwe_squared(dwarfs_par['astrometric_chi2_al'],\n",
        "                                         dwarfs_par['astrometric_n_obs_al']))\n",
        "\n",
        "filtered = dwarfs_par[['COADD_OBJECT_ID','UWE','phot_g_mean_mag']]\n",
        "\n",
        "# UWE cut:\n",
        "s = [[col[0],col[1]] for index, col in filtered.T.iteritems() if col[1] < uwe_cut(col[2])]\n",
        "\n",
        "s_df = pd.DataFrame(s,columns=['COADD_OBJECT_ID','UWE'])\n",
        "s_df.shape"
      ],
      "execution_count": null,
      "outputs": [
        {
          "output_type": "stream",
          "text": [
            "/usr/local/lib/python3.6/dist-packages/ipykernel_launcher.py:2: SettingWithCopyWarning: \n",
            "A value is trying to be set on a copy of a slice from a DataFrame.\n",
            "Try using .loc[row_indexer,col_indexer] = value instead\n",
            "\n",
            "See the caveats in the documentation: https://pandas.pydata.org/pandas-docs/stable/user_guide/indexing.html#returning-a-view-versus-a-copy\n",
            "  \n"
          ],
          "name": "stderr"
        },
        {
          "output_type": "execute_result",
          "data": {
            "text/plain": [
              "(62056, 2)"
            ]
          },
          "metadata": {
            "tags": []
          },
          "execution_count": 46
        }
      ]
    },
    {
      "cell_type": "code",
      "metadata": {
        "id": "5oSX6q2S6FtF",
        "colab_type": "code",
        "colab": {}
      },
      "source": [
        "def merger(df1,df2,r_col,l_col,method):\n",
        "  df3 = df1.merge(df2,left_on=l_col,right_on=r_col,how=method,suffixes=('','_y'))\n",
        "  df3 = df3.drop(df3.filter(regex='_y').columns, axis=1)\n",
        "  df3 = df3.drop_duplicates(subset=l_col)\n",
        "  return df3"
      ],
      "execution_count": null,
      "outputs": []
    },
    {
      "cell_type": "code",
      "metadata": {
        "id": "CrhFm_4n8Ner",
        "colab_type": "code",
        "colab": {
          "base_uri": "https://localhost:8080/",
          "height": 34
        },
        "outputId": "3c466332-9c95-4c62-b7cc-ac273b05bce4"
      },
      "source": [
        "des_tset_dwarfs = merger(s_df,dwarfs_par,l_col='COADD_OBJECT_ID',r_col='COADD_OBJECT_ID',method='inner')\n",
        "des_tset_dwarfs.shape"
      ],
      "execution_count": null,
      "outputs": [
        {
          "output_type": "execute_result",
          "data": {
            "text/plain": [
              "(62056, 241)"
            ]
          },
          "metadata": {
            "tags": []
          },
          "execution_count": 48
        }
      ]
    },
    {
      "cell_type": "code",
      "metadata": {
        "id": "bUPKUlfw7feA",
        "colab_type": "code",
        "colab": {
          "base_uri": "https://localhost:8080/",
          "height": 34
        },
        "outputId": "d087031a-4d32-4166-fc61-fff202de661d"
      },
      "source": [
        "print('Total dwarfs and giants:',len(des_tset_dwarfs) + len(giants_par))"
      ],
      "execution_count": null,
      "outputs": [
        {
          "output_type": "stream",
          "text": [
            "Total dwarfs and giants: 63188\n"
          ],
          "name": "stdout"
        }
      ]
    },
    {
      "cell_type": "code",
      "metadata": {
        "id": "Y189Y9qY9rAm",
        "colab_type": "code",
        "colab": {
          "base_uri": "https://localhost:8080/",
          "height": 348
        },
        "outputId": "b78ad870-89af-4b31-fdc0-cb3415bb87ca"
      },
      "source": [
        "plt.figure(figsize=(2*3.4,2*3.4*3/4.))\n",
        "ax2=plt.scatter(giants_par['parallax'],np.log10(giants_par['rest']),\n",
        "            s=2,c='C1',label='Training RG')\n",
        "ax1=plt.scatter(des_tset_dwarfs['parallax'],np.log10(des_tset_dwarfs['rest']),\n",
        "            s=2,c='C0',label='Training UCD',rasterized=True)\n",
        "plt.xlabel('$\\pi$ (mas)')\n",
        "plt.ylabel('$\\log_{10}{d_{pc}}$')\n",
        "leg=plt.legend(loc='best',markerscale=5)\n",
        "leg.legendHandles[1]._sizes = [20]\n",
        "leg.legendHandles[0]._sizes = [20]\n",
        "for l in leg.get_lines():\n",
        "    l.set_alpha(1)\n",
        "ax1.set_alpha(1.0)\n",
        "ax2.set_alpha(1.0)\n",
        "plt.xlim(-1.0,55)\n",
        "plt.xticks(fontsize=16)\n",
        "plt.yticks(fontsize=16)\n",
        "plt.minorticks_on()\n",
        "\n",
        "plt.savefig('gdrive/My Drive/Colab Notebooks/figures/des_par_v_dist.pdf',dpi=300,bbox_inches='tight',padding=0)\n",
        "plt.show()"
      ],
      "execution_count": null,
      "outputs": [
        {
          "output_type": "display_data",
          "data": {
            "image/png": "[encoded data removed]",
            "text/plain": [
              "<Figure size 489.6x367.2 with 1 Axes>"
            ]
          },
          "metadata": {
            "tags": []
          }
        }
      ]
    },
    {
      "cell_type": "markdown",
      "metadata": {
        "id": "C1YcUCqQHCPO",
        "colab_type": "text"
      },
      "source": [
        "# Pre-Training Set Assembly\n",
        "\n",
        "Pre-Training set contains only point sources from DES, and the objects from Gagne and Kiman"
      ]
    },
    {
      "cell_type": "code",
      "metadata": {
        "id": "5oLkhSOKCl-h",
        "colab_type": "code",
        "colab": {
          "base_uri": "https://localhost:8080/",
          "height": 119
        },
        "outputId": "23a0cece-e56b-4d34-c51f-87eba6edc8a5"
      },
      "source": [
        "#giants_1kpc['label'] = 'hm*'\n",
        "giants_par['label'] = 'hm*'\n",
        "des_tset_dwarfs['label'] = 'lm*'\n",
        "gagne_m_clean['label'] = 'lm*'\n",
        "gagne_lty_clean['label'] = 'lm*'\n",
        "kiman_des_overlap_clean['label'] = 'lm*'"
      ],
      "execution_count": null,
      "outputs": [
        {
          "output_type": "stream",
          "text": [
            "/usr/local/lib/python3.6/dist-packages/ipykernel_launcher.py:2: SettingWithCopyWarning: \n",
            "A value is trying to be set on a copy of a slice from a DataFrame.\n",
            "Try using .loc[row_indexer,col_indexer] = value instead\n",
            "\n",
            "See the caveats in the documentation: https://pandas.pydata.org/pandas-docs/stable/user_guide/indexing.html#returning-a-view-versus-a-copy\n",
            "  \n"
          ],
          "name": "stderr"
        }
      ]
    },
    {
      "cell_type": "code",
      "metadata": {
        "id": "EHVKlrUYDdwD",
        "colab_type": "code",
        "colab": {
          "base_uri": "https://localhost:8080/",
          "height": 121
        },
        "outputId": "0057d76c-af6e-406b-b64e-4cc6743f8742"
      },
      "source": [
        "# placing trackers to see what surveys the data comes from:\n",
        "# rob: Taking away the 1kpc to see the new color - absolute magnitude profiles\n",
        "giants_par['survey_marker'] = 'des_gaia_parallax'\n",
        "des_tset_dwarfs['survey_marker'] = 'des_gaia_parallax'\n",
        "gagne_m_clean['survey_marker'] = 'gagne_m'\n",
        "gagne_lty_clean['survey_marker'] = 'gagne_lty'\n",
        "kiman_des_overlap_clean['survey_marker'] = 'kiman'"
      ],
      "execution_count": null,
      "outputs": [
        {
          "output_type": "stream",
          "text": [
            "/usr/local/lib/python3.6/dist-packages/ipykernel_launcher.py:3: SettingWithCopyWarning: \n",
            "A value is trying to be set on a copy of a slice from a DataFrame.\n",
            "Try using .loc[row_indexer,col_indexer] = value instead\n",
            "\n",
            "See the caveats in the documentation: https://pandas.pydata.org/pandas-docs/stable/user_guide/indexing.html#returning-a-view-versus-a-copy\n",
            "  This is separate from the ipykernel package so we can avoid doing imports until\n"
          ],
          "name": "stderr"
        }
      ]
    },
    {
      "cell_type": "code",
      "metadata": {
        "id": "sv7sunaRCw2t",
        "colab_type": "code",
        "colab": {}
      },
      "source": [
        "relevant_column_list = ['COADD_OBJECT_ID','RA','DEC','IMAG_DERED','ZMAG_DERED','YMAG_DERED','IMAG','ZMAG','YMAG', # new corrected magnitudes\n",
        " 'MAG_AUTO_I',\n",
        " 'MAG_AUTO_Y',\n",
        " 'MAG_AUTO_Z',\n",
        " 'MAG_AUTO_I_DERED',\n",
        " 'MAG_AUTO_Y_DERED',\n",
        " 'MAG_AUTO_Z_DERED',\n",
        " 'WAVG_MAG_PSF_I',\n",
        " 'WAVG_MAG_PSF_Y',\n",
        " 'WAVG_MAG_PSF_Z',\n",
        " 'WAVG_MAG_PSF_I_DERED',\n",
        " 'WAVG_MAG_PSF_Y_DERED',\n",
        " 'WAVG_MAG_PSF_Z_DERED',\n",
        "'parallax',\n",
        "'parallax_error',\n",
        "'parallax_over_error',\n",
        "'pmra',\n",
        "'pmra_error',\n",
        "'pmdec',\n",
        "'pmdec_error',\n",
        "'ra_dec_corr',\n",
        "'ra_parallax_corr',\n",
        "'ra_pmra_corr',\n",
        "'ra_pmdec_corr',\n",
        "'dec_parallax_corr',\n",
        "'dec_pmra_corr',\n",
        "'dec_pmdec_corr',\n",
        "'parallax_pmra_corr',\n",
        "'parallax_pmdec_corr',\n",
        "'pmra_pmdec_corr',\n",
        "'radius_val',\n",
        "'radius_percentile_lower',\n",
        "'radius_percentile_upper',\n",
        "'lum_val',\n",
        "'lum_percentile_lower',\n",
        "'lum_percentile_upper',\n",
        "'astrometric_gof_al',\n",
        "'astrometric_chi2_al',\n",
        "'astrometric_excess_noise',\n",
        "'astrometric_excess_noise_sig',\n",
        "'astrometric_weight_al',\n",
        "'astrometric_pseudo_colour',\n",
        "'astrometric_pseudo_colour_error',\n",
        "'mean_varpi_factor_al',\n",
        "'astrometric_sigma5d_max',\n",
        "'phot_g_mean_flux',\n",
        "'phot_g_mean_flux_error',\n",
        "'phot_g_mean_flux_over_error',\n",
        "'phot_g_mean_mag',\n",
        "'phot_bp_mean_flux',\n",
        "'phot_bp_mean_flux_error',\n",
        "'phot_bp_mean_flux_over_error',\n",
        "'phot_bp_mean_mag',\n",
        "'phot_rp_mean_flux',\n",
        "'phot_rp_mean_flux_error',\n",
        "'phot_rp_mean_flux_over_error',\n",
        "'phot_rp_mean_mag',\n",
        "'phot_bp_rp_excess_factor',\n",
        "'bp_rp',\n",
        "'bp_g',\n",
        "'g_rp',\n",
        "'radial_velocity',\n",
        "'radial_velocity_error',\n",
        "'l',\n",
        "'b',\n",
        "'ecl_lon',\n",
        "'ecl_lat',\n",
        "'teff_val',\n",
        "'teff_percentile_lower',\n",
        "'teff_percentile_upper',\n",
        "'ref_epoch',\n",
        "'rv_template_teff',\n",
        "'rv_template_logg',\n",
        "'rv_template_fe_h',\n",
        "'a_g_val',\n",
        "'a_g_percentile_lower',\n",
        "'a_g_percentile_upper',\n",
        "'e_bp_min_rp_val',\n",
        "'e_bp_min_rp_percentile_lower',\n",
        "'e_bp_min_rp_percentile_upper',\n",
        "'random_id',\n",
        "'random_index',\n",
        "'priam_flags',\n",
        "'flame_flags',\n",
        "'htm9',\n",
        "'ring256',\n",
        "'nest4096',\n",
        "'astrometric_n_obs_al',\n",
        "'astrometric_n_obs_ac',\n",
        "'astrometric_n_good_obs_al',\n",
        "'astrometric_n_bad_obs_al',\n",
        "'astrometric_params_solved',\n",
        "'astrometric_primary_flag',\n",
        "'astrometric_matched_observations',\n",
        "'visibility_periods_used',\n",
        "'frame_rotator_object_type',\n",
        "'matched_observations',\n",
        "'duplicated_source',\n",
        "'phot_g_n_obs',\n",
        "'phot_bp_n_obs',\n",
        "'phot_rp_n_obs',\n",
        "'phot_proc_mode',\n",
        "'rv_nb_transits',\n",
        "'phot_variable_flag',\n",
        "'designation',\n",
        "'dist_arcsec',\n",
        "'best_use_cntr',\n",
        "'cc_flags',\n",
        "'dec_pm',\n",
        "'elat',\n",
        "'elon',\n",
        "'ext_flg',\n",
        "'glat',\n",
        "'glon',\n",
        "'ph_qual',\n",
        "'ra_pm',\n",
        "'var_flg',\n",
        "'w1m',\n",
        "'w1mpro',\n",
        "'w1nm',\n",
        "'w1rchi2',\n",
        "'w1rchi2_pm',\n",
        "'w1sigmpro',\n",
        "'w1snr',\n",
        "'w2m',\n",
        "'w2mpro',\n",
        "'w2nm',\n",
        "'w2rchi2',\n",
        "'w2rchi2_pm',\n",
        "'w2sigmpro',\n",
        "'w2snr','survey_marker','label']"
      ],
      "execution_count": null,
      "outputs": []
    },
    {
      "cell_type": "code",
      "metadata": {
        "id": "l0Jg-RJXDCGh",
        "colab_type": "code",
        "colab": {
          "base_uri": "https://localhost:8080/",
          "height": 86
        },
        "outputId": "4473c9e5-7947-4c1b-d97b-a15d1e816811"
      },
      "source": [
        "des_tset_psources1 = pd.concat([gagne_m_clean[relevant_column_list],gagne_lty_clean[relevant_column_list],\n",
        "                                kiman_des_overlap_clean[relevant_column_list]])\n",
        "print(des_tset_psources1.shape)\n",
        "print(Counter(des_tset_psources1['survey_marker']))\n",
        "\n",
        "des_tset_psources1_nodupes = des_tset_psources1.drop_duplicates(subset='COADD_OBJECT_ID',keep='last')\n",
        "print(Counter(des_tset_psources1_nodupes['survey_marker']))\n",
        "print(des_tset_psources1_nodupes.shape) # 34 overlaps between kiman and gagne m, and 1 overlap between kiman and gagne_lty1"
      ],
      "execution_count": null,
      "outputs": [
        {
          "output_type": "stream",
          "text": [
            "(381, 141)\n",
            "Counter({'kiman': 228, 'gagne_m': 148, 'gagne_lty': 5})\n",
            "Counter({'kiman': 222, 'gagne_m': 97, 'gagne_lty': 4})\n",
            "(323, 141)\n"
          ],
          "name": "stdout"
        }
      ]
    },
    {
      "cell_type": "code",
      "metadata": {
        "id": "8kptB7xKArLv",
        "colab_type": "code",
        "colab": {
          "base_uri": "https://localhost:8080/",
          "height": 69
        },
        "outputId": "ec8178d8-0064-4d0d-94da-822edb386d4f"
      },
      "source": [
        "des_tset_psources2 = pd.concat([des_tset_dwarfs[relevant_column_list],giants_par[relevant_column_list]])\n",
        "des_tset_psources2_nodupes = des_tset_psources2.drop_duplicates(subset='COADD_OBJECT_ID',keep='last')\n",
        "print(des_tset_psources2.shape)\n",
        "print(des_tset_psources2_nodupes.shape)\n",
        "print(Counter(des_tset_psources2_nodupes['survey_marker']))"
      ],
      "execution_count": null,
      "outputs": [
        {
          "output_type": "stream",
          "text": [
            "(63188, 141)\n",
            "(63188, 141)\n",
            "Counter({'des_gaia_parallax': 63188})\n"
          ],
          "name": "stdout"
        }
      ]
    },
    {
      "cell_type": "code",
      "metadata": {
        "id": "geStcmVlBBSB",
        "colab_type": "code",
        "colab": {
          "base_uri": "https://localhost:8080/",
          "height": 35
        },
        "outputId": "e519d726-e3af-4d6a-cc08-160e5fa39e07"
      },
      "source": [
        "merged = des_tset_psources2_nodupes.merge(des_tset_psources1_nodupes,on='COADD_OBJECT_ID',how='outer',indicator=True,suffixes=('','_y'))\n",
        "print(Counter(merged['_merge']))"
      ],
      "execution_count": null,
      "outputs": [
        {
          "output_type": "stream",
          "text": [
            "Counter({'left_only': 62879, 'both': 309, 'right_only': 14})\n"
          ],
          "name": "stdout"
        }
      ]
    },
    {
      "cell_type": "code",
      "metadata": {
        "id": "Zm4WcF1lFatv",
        "colab_type": "code",
        "colab": {
          "base_uri": "https://localhost:8080/",
          "height": 35
        },
        "outputId": "4dbd381f-16ab-4dab-ae2f-6e1eff4a002f"
      },
      "source": [
        "gaia_par_objs = merged[merged['_merge'] =='left_only']\n",
        "gaia_par_objs = gaia_par_objs.drop(gaia_par_objs.filter(regex='_y').columns, axis=1)\n",
        "print(gaia_par_objs.shape)"
      ],
      "execution_count": null,
      "outputs": [
        {
          "output_type": "stream",
          "text": [
            "(62879, 142)\n"
          ],
          "name": "stdout"
        }
      ]
    },
    {
      "cell_type": "code",
      "metadata": {
        "id": "MN_z8c4bG1sc",
        "colab_type": "code",
        "colab": {
          "base_uri": "https://localhost:8080/",
          "height": 35
        },
        "outputId": "8bb232fa-1310-416f-f787-3ac73c53cd55"
      },
      "source": [
        "des_tset_psources = pd.concat([gaia_par_objs,des_tset_psources1_nodupes])\n",
        "des_tset_psources.shape"
      ],
      "execution_count": null,
      "outputs": [
        {
          "output_type": "execute_result",
          "data": {
            "text/plain": [
              "(63202, 142)"
            ]
          },
          "metadata": {
            "tags": []
          },
          "execution_count": 142
        }
      ]
    },
    {
      "cell_type": "code",
      "metadata": {
        "id": "zP4zcV2hINyW",
        "colab_type": "code",
        "colab": {
          "base_uri": "https://localhost:8080/",
          "height": 86
        },
        "outputId": "e94dcec7-ecf8-40d0-cbee-b74705d9580f"
      },
      "source": [
        "Counter(des_tset_psources.survey_marker)"
      ],
      "execution_count": null,
      "outputs": [
        {
          "output_type": "execute_result",
          "data": {
            "text/plain": [
              "Counter({'des_gaia_parallax': 62879,\n",
              "         'gagne_lty': 4,\n",
              "         'gagne_m': 97,\n",
              "         'kiman': 222})"
            ]
          },
          "metadata": {
            "tags": []
          },
          "execution_count": 143
        }
      ]
    },
    {
      "cell_type": "code",
      "metadata": {
        "id": "7N4ysYhaOTG3",
        "colab_type": "code",
        "colab": {
          "base_uri": "https://localhost:8080/",
          "height": 35
        },
        "outputId": "9ebc8318-1478-4c1b-a806-dfc8c2a9eeb8"
      },
      "source": [
        "Counter(des_tset_psources.label)"
      ],
      "execution_count": null,
      "outputs": [
        {
          "output_type": "execute_result",
          "data": {
            "text/plain": [
              "Counter({'hm*': 1132, 'lm*': 62070})"
            ]
          },
          "metadata": {
            "tags": []
          },
          "execution_count": 144
        }
      ]
    },
    {
      "cell_type": "code",
      "metadata": {
        "id": "hqclyfi87V1G",
        "colab_type": "code",
        "colab": {
          "base_uri": "https://localhost:8080/",
          "height": 52
        },
        "outputId": "7a6d0050-e333-4553-b401-72e63abc47d6"
      },
      "source": [
        "des_tset_psources_nodupes = des_tset_psources.drop_duplicates(subset='COADD_OBJECT_ID',keep='last')\n",
        "print(Counter(des_tset_psources_nodupes['survey_marker']))\n",
        "print(des_tset_psources_nodupes.shape)"
      ],
      "execution_count": null,
      "outputs": [
        {
          "output_type": "stream",
          "text": [
            "Counter({'des_gaia_parallax': 62879, 'kiman': 222, 'gagne_m': 97, 'gagne_lty': 4})\n",
            "(63202, 142)\n"
          ],
          "name": "stdout"
        }
      ]
    },
    {
      "cell_type": "code",
      "metadata": {
        "id": "uj36nKQmGkQS",
        "colab_type": "code",
        "colab": {}
      },
      "source": [
        "des_tset_psources_nodupes.to_csv(path_des+'des_dered_data/des_tset_psources_allgiants.csv',index=False)"
      ],
      "execution_count": null,
      "outputs": []
    },
    {
      "cell_type": "markdown",
      "metadata": {
        "id": "m9s2kSI2_9Q3",
        "colab_type": "text"
      },
      "source": [
        "# Galaxy and QSO Prep\n",
        "\n",
        "Adding Galaxies from the Hyper Suprime-Cam Subaru Program DR 2 and QSO's from the MILLIQUAS catalog."
      ]
    },
    {
      "cell_type": "code",
      "metadata": {
        "id": "8xU_dw5cJBJU",
        "colab_type": "code",
        "colab": {}
      },
      "source": [
        "des_tset_psources_nodupes = pd.read_csv(path_des+'des_dered_data/des_tset_psources_allgiants.csv')"
      ],
      "execution_count": null,
      "outputs": []
    },
    {
      "cell_type": "code",
      "metadata": {
        "id": "voVCvQSq_9pF",
        "colab_type": "code",
        "colab": {
          "base_uri": "https://localhost:8080/",
          "height": 35
        },
        "outputId": "f03b79ec-b92b-4196-9d9e-17f8985f1b11"
      },
      "source": [
        "hsc_dr2 = pd.read_csv(path_des+'hsc_pdr2_ctheissen.csv')\n",
        "hsc_dr2.shape"
      ],
      "execution_count": null,
      "outputs": [
        {
          "output_type": "execute_result",
          "data": {
            "text/plain": [
              "(15617323, 10)"
            ]
          },
          "metadata": {
            "tags": []
          },
          "execution_count": 146
        }
      ]
    },
    {
      "cell_type": "code",
      "metadata": {
        "id": "IwCA0WQ1_98-",
        "colab_type": "code",
        "colab": {
          "base_uri": "https://localhost:8080/",
          "height": 35
        },
        "outputId": "86c1e62c-bfe0-488b-893d-677d96e4792f"
      },
      "source": [
        "# matched to des_c2_dered:\n",
        "des_hscdr2 = pd.read_csv(path_des+'des_dered_data/des_c2_dered_hsc.csv')\n",
        "des_hscdr2.shape"
      ],
      "execution_count": null,
      "outputs": [
        {
          "output_type": "execute_result",
          "data": {
            "text/plain": [
              "(10881, 6)"
            ]
          },
          "metadata": {
            "tags": []
          },
          "execution_count": 147
        }
      ]
    },
    {
      "cell_type": "code",
      "metadata": {
        "id": "pCZ32eZM_-Ki",
        "colab_type": "code",
        "colab": {
          "base_uri": "https://localhost:8080/",
          "height": 35
        },
        "outputId": "33c0c238-4610-4d31-a50d-cdba7047365b"
      },
      "source": [
        "des_milliquas = pd.read_csv(path_des+'des_dered_data/des_c2_dered_milliquas.csv')\n",
        "des_milliquas.shape"
      ],
      "execution_count": null,
      "outputs": [
        {
          "output_type": "execute_result",
          "data": {
            "text/plain": [
              "(61, 6)"
            ]
          },
          "metadata": {
            "tags": []
          },
          "execution_count": 148
        }
      ]
    },
    {
      "cell_type": "code",
      "metadata": {
        "id": "ZDUDAtMIL-ws",
        "colab_type": "code",
        "colab": {
          "base_uri": "https://localhost:8080/",
          "height": 35
        },
        "outputId": "f22ade75-0259-41d5-9eaf-cd403d6e31ad"
      },
      "source": [
        "des_hscdr2_clean = des_hscdr2.merge(des_merged3,on='COADD_OBJECT_ID',how='inner',suffixes=('','_dup'))\n",
        "des_hscdr2_clean = des_hscdr2_clean.drop(des_hscdr2_clean.filter(regex='_dup').columns, axis=1)\n",
        "des_hscdr2_clean.shape"
      ],
      "execution_count": null,
      "outputs": [
        {
          "output_type": "execute_result",
          "data": {
            "text/plain": [
              "(195, 233)"
            ]
          },
          "metadata": {
            "tags": []
          },
          "execution_count": 149
        }
      ]
    },
    {
      "cell_type": "code",
      "metadata": {
        "id": "HTayjqU6MNBe",
        "colab_type": "code",
        "colab": {
          "base_uri": "https://localhost:8080/",
          "height": 35
        },
        "outputId": "2eed19dd-4da6-4ed1-d945-38f3e7b44ae9"
      },
      "source": [
        "des_milliquas_clean = des_milliquas.merge(des_merged3,on='COADD_OBJECT_ID',how='inner',suffixes=('','_dup'))\n",
        "des_milliquas_clean = des_milliquas_clean.drop(des_milliquas_clean.filter(regex='_dup').columns, axis=1)\n",
        "des_milliquas_clean.shape"
      ],
      "execution_count": null,
      "outputs": [
        {
          "output_type": "execute_result",
          "data": {
            "text/plain": [
              "(10, 231)"
            ]
          },
          "metadata": {
            "tags": []
          },
          "execution_count": 150
        }
      ]
    },
    {
      "cell_type": "code",
      "metadata": {
        "id": "YhPUybVCM-g9",
        "colab_type": "code",
        "colab": {}
      },
      "source": [
        "des_hscdr2_clean['label'] = 'gal'\n",
        "des_milliquas_clean['label'] = 'qso'\n",
        "des_hscdr2_clean['survey_marker'] = 'hsc_dr2'\n",
        "des_milliquas_clean['survey_marker'] = 'milliquas'"
      ],
      "execution_count": null,
      "outputs": []
    },
    {
      "cell_type": "markdown",
      "metadata": {
        "id": "IVU7Z94RM47w",
        "colab_type": "text"
      },
      "source": [
        "# Final Training Set"
      ]
    },
    {
      "cell_type": "code",
      "metadata": {
        "id": "MKeeLTKJM0yQ",
        "colab_type": "code",
        "colab": {
          "base_uri": "https://localhost:8080/",
          "height": 35
        },
        "outputId": "02818e1e-8e5e-4752-c9aa-ff5b13348eae"
      },
      "source": [
        "des_tset = pd.concat([des_tset_psources_nodupes,des_hscdr2_clean[relevant_column_list],des_milliquas_clean[relevant_column_list]])\n",
        "des_tset.shape"
      ],
      "execution_count": null,
      "outputs": [
        {
          "output_type": "execute_result",
          "data": {
            "text/plain": [
              "(63407, 142)"
            ]
          },
          "metadata": {
            "tags": []
          },
          "execution_count": 152
        }
      ]
    },
    {
      "cell_type": "code",
      "metadata": {
        "id": "Op-ls9Lyzt9t",
        "colab_type": "code",
        "colab": {}
      },
      "source": [
        "des_tset.to_csv(path_des+'des_dered_data/des_tset_rob_cuts_dered_allgiants.csv',index=False)"
      ],
      "execution_count": null,
      "outputs": []
    },
    {
      "cell_type": "code",
      "metadata": {
        "id": "AIckgKNVNk6I",
        "colab_type": "code",
        "colab": {
          "base_uri": "https://localhost:8080/",
          "height": 35
        },
        "outputId": "3e62241c-ab5e-452a-b931-3bca688026bd"
      },
      "source": [
        "Counter(des_tset['label'])"
      ],
      "execution_count": null,
      "outputs": [
        {
          "output_type": "execute_result",
          "data": {
            "text/plain": [
              "Counter({'gal': 195, 'hm*': 1132, 'lm*': 62070, 'qso': 10})"
            ]
          },
          "metadata": {
            "tags": []
          },
          "execution_count": 79
        }
      ]
    },
    {
      "cell_type": "code",
      "metadata": {
        "id": "ih4hLVAr8sm6",
        "colab_type": "code",
        "colab": {}
      },
      "source": [
        "des_tset = pd.read_csv(path_des+'des_dered_data/des_tset_rob_cuts_dered_allgiants.csv')"
      ],
      "execution_count": null,
      "outputs": []
    },
    {
      "cell_type": "code",
      "metadata": {
        "id": "TR1we1VFVyXv",
        "colab_type": "code",
        "colab": {}
      },
      "source": [
        "lm = des_tset[des_tset['label'] == 'lm*']\n",
        "hm = des_tset[des_tset['label'] == 'hm*']\n",
        "gal = des_tset[des_tset['label'] == 'gal']\n",
        "qso = des_tset[des_tset['label'] == 'qso']"
      ],
      "execution_count": null,
      "outputs": []
    },
    {
      "cell_type": "code",
      "metadata": {
        "id": "poGiFtQ3WAUa",
        "colab_type": "code",
        "colab": {
          "base_uri": "https://localhost:8080/",
          "height": 275
        },
        "outputId": "1726fae6-96d7-4f9f-d0fd-9d3fca57fa9f"
      },
      "source": [
        "plt.hist(lm['IMAG_DERED'],bins=500,histtype='step',density=True,label='TSET dwarfs')\n",
        "plt.hist(hm['IMAG_DERED'],bins=100,histtype='step',density=True,label='TSET giants')\n",
        "plt.hist(gal['IMAG_DERED'],bins=50,histtype='step',density=True,label='TSET galaxies')\n",
        "plt.hist(qso['IMAG_DERED'],bins=50,histtype='step',density=True,label='TSET QSOs')\n",
        "plt.xlabel('IMAG\\_DERED')\n",
        "plt.legend(loc='upper center')\n",
        "plt.show()"
      ],
      "execution_count": null,
      "outputs": [
        {
          "output_type": "display_data",
          "data": {
            "image/png": "[encoded data removed]",
            "text/plain": [
              "<Figure size 432x288 with 1 Axes>"
            ]
          },
          "metadata": {
            "tags": []
          }
        }
      ]
    },
    {
      "cell_type": "code",
      "metadata": {
        "id": "iRT3IctmWAPO",
        "colab_type": "code",
        "colab": {
          "base_uri": "https://localhost:8080/",
          "height": 366
        },
        "outputId": "b9b93e8e-f597-4041-b0b3-61d8972edb8a"
      },
      "source": [
        "fig = plt.figure(1, figsize=(1*3.4, 2*3.4*3/4.))\n",
        "\n",
        "ax = plt.subplot(2,1,1)\n",
        "ax1 = ax.scatter(lm['IMAG_DERED']-lm['ZMAG_DERED'],lm['w1mpro'] - lm['w2mpro'],\n",
        "                c='C0',s=1,label='Train UCD',rasterized=True)\n",
        "ax4 = ax.scatter(hm['IMAG_DERED']-hm['ZMAG_DERED'],hm['w1mpro'] - hm['w2mpro'],\n",
        "                  c='C1',s=1,label='Train HMS*')\n",
        "ax2 = ax.scatter(gal['IMAG_DERED']-gal['ZMAG_DERED'],gal['w1mpro'] - gal['w2mpro'],\n",
        "                c='C2',s=1,label='Train Galaxy')\n",
        "ax3 = ax.scatter(qso['IMAG_DERED']-qso['ZMAG_DERED'],qso['w1mpro'] - qso['w2mpro'],\n",
        "                  c='C3',s=10,label='Train QSO')\n",
        "plt.ylabel('$W1 - W2$')\n",
        "plt.xlabel('$i - z$')\n",
        "#plt.xlim(0,5)\n",
        "#plt.ylim(-0.5,2.0)\n",
        "leg=plt.legend(loc='upper right',markerscale=5, borderaxespad=0.)\n",
        "leg.legendHandles[3]._sizes = [20]\n",
        "for l in leg.get_lines():\n",
        "    l.set_alpha(1)\n",
        "ax1.set_alpha(0.1)\n",
        "ax2.set_alpha(1.0)\n",
        "ax3.set_alpha(1.0)\n",
        "ax4.set_alpha(1.0)\n",
        "#ax5.set_alpha(0.3)\n",
        "plt.minorticks_on()\n",
        "\n",
        "\n",
        "ax_2 = plt.subplot(2,1,2)\n",
        "ax1=ax_2.scatter(lm['IMAG_DERED'] - lm['ZMAG_DERED'],lm['ZMAG_DERED'] - lm['YMAG_DERED'],\n",
        "                c='C0',s=1,label='Train UCD',rasterized=True)\n",
        "ax4 = ax_2.scatter(hm['IMAG_DERED'] - hm['ZMAG_DERED'],hm['ZMAG_DERED'] - hm['YMAG_DERED'],\n",
        "                  c='C1',s=1,label='Train HMS*')\n",
        "ax2=ax_2.scatter(gal['IMAG_DERED'] - gal['ZMAG_DERED'],gal['ZMAG_DERED'] - gal['YMAG_DERED'],\n",
        "                c='C2',s=1,label='Train GAL')\n",
        "ax3 = ax_2.scatter(qso['IMAG_DERED'] - qso['ZMAG_DERED'],qso['ZMAG_DERED'] - qso['YMAG_DERED'],\n",
        "                  c='C3',s=10,label='Train QSO')\n",
        "plt.xlabel('$i - z$')\n",
        "plt.ylabel('$z - Y$')\n",
        "plt.ylim(-0.2,2.0)\n",
        "#leg=plt.legend(loc='upper right',markerscale=10, borderaxespad=0.)\n",
        "#for l in leg.get_lines():\n",
        "    #l.set_alpha(1)\n",
        "ax1.set_alpha(0.1)\n",
        "ax2.set_alpha(1.0)\n",
        "ax3.set_alpha(1.0)\n",
        "ax4.set_alpha(1.0)\n",
        "\n",
        "plt.minorticks_on()\n",
        "plt.tight_layout()\n",
        "plt.savefig('gdrive/My Drive/Colab Notebooks/figures/des_training_parameter_space_scatter.pdf',dpi=300,bbox_inches='tight',padding=0)\n",
        "plt.show()"
      ],
      "execution_count": null,
      "outputs": [
        {
          "output_type": "display_data",
          "data": {
            "image/png": "[encoded data removed]",
            "text/plain": [
              "<Figure size 244.8x367.2 with 2 Axes>"
            ]
          },
          "metadata": {
            "tags": []
          }
        }
      ]
    },
    {
      "cell_type": "code",
      "metadata": {
        "id": "_PaexieBWAH7",
        "colab_type": "code",
        "colab": {
          "base_uri": "https://localhost:8080/",
          "height": 68
        },
        "outputId": "73a8ae92-e3ff-4bc9-bf41-1d7aa41f11b4"
      },
      "source": [
        "levels_1 = conf_levels(lm['IMAG_DERED']-lm['ZMAG_DERED'],lm['w1mpro'] - lm['w2mpro'],bin_n = 10)\n",
        "levels_2 = conf_levels(hm['IMAG_DERED']-hm['ZMAG_DERED'],hm['w1mpro'] - hm['w2mpro'],bin_n = 10)\n",
        "levels_3 = conf_levels(gal['IMAG_DERED']-gal['ZMAG_DERED'],gal['w1mpro'] - gal['w2mpro'],bin_n = 7)\n",
        "\n",
        "print(levels_1)\n",
        "print(levels_2)\n",
        "print(levels_3)\n",
        "#print(levels_4)"
      ],
      "execution_count": null,
      "outputs": [
        {
          "output_type": "stream",
          "text": [
            "[0.6630172622649336, 5.8127845070360324]\n",
            "[0.4561917657314513, 4.105725891592439]\n",
            "[0.41435187415759317, 1.657407496634471]\n"
          ],
          "name": "stdout"
        }
      ]
    },
    {
      "cell_type": "code",
      "metadata": {
        "id": "GoI85HUtWABI",
        "colab_type": "code",
        "colab": {
          "base_uri": "https://localhost:8080/",
          "height": 366
        },
        "outputId": "f3b39268-4dd5-4edb-ec2a-68f82ec3583e"
      },
      "source": [
        "fig = plt.figure(1, figsize=(1*3.4, 2*3.4*3/4.))\n",
        "\n",
        "ax = plt.subplot(2,1,1)\n",
        "\n",
        "X1,Y1,Z1 = gauss_levels(lm['IMAG_DERED']-lm['ZMAG_DERED'],lm['w1mpro'] - lm['w2mpro'])\n",
        "X2,Y2,Z2 = gauss_levels(hm['IMAG_DERED']-hm['ZMAG_DERED'],hm['w1mpro'] - hm['w2mpro'])\n",
        "X3,Y3,Z3 = gauss_levels(gal['IMAG_DERED']-gal['ZMAG_DERED'],gal['w1mpro'] - gal['w2mpro'])\n",
        "#X4,Y4,Z4 = gauss_levels(qso['IMAG_DERED'] - qso['ZMAG_DERED'],qso['w1mpro'] - qso['w2mpro'])\n",
        "levels_1 = conf_levels(lm['IMAG_DERED']-lm['ZMAG_DERED'],lm['w1mpro'] - lm['w2mpro'],bin_n = 25)\n",
        "levels_2 = conf_levels(hm['IMAG_DERED']-hm['ZMAG_DERED'],hm['w1mpro'] - hm['w2mpro'],bin_n = 10)\n",
        "levels_3 = conf_levels(gal['IMAG_DERED']-gal['ZMAG_DERED'],gal['w1mpro'] - gal['w2mpro'],bin_n = 7)\n",
        "#levels_4 = conf_levels(qso['IMAG_DERED'] - qso['ZMAG_DERED'],qso['w1mpro'] - qso['w2mpro'],bin_n = 3)\n",
        "\n",
        "ax1 = ax.contour(X1,Y1,Z1, levels=levels_1, colors=['C0'], linestyles=['solid','--','-.'], linewidths=[1,2], zorder=-20)\n",
        "ax2 = ax.contour(X2,Y2,Z2, levels=levels_2, colors=['C1'], linestyles=['solid','--','-.'], linewidths=[1,2], zorder=-20)\n",
        "ax3 = ax.contour(X3,Y3,Z3, levels=levels_3, colors=['C2'], linestyles=['solid','--','-.'], linewidths=[1,2], zorder=-20)\n",
        "ax4 = ax.scatter(qso['IMAG_DERED']-qso['ZMAG_DERED'],qso['w1mpro'] - qso['w2mpro'],\n",
        "                  c='C3',s=10)\n",
        "plt.ylabel('$W1 - W2$')\n",
        "plt.xlabel('$i - z$')\n",
        "ax.set_xlim(0.70,2.0)\n",
        "#ax.set_ylim(0.0,2.0)\n",
        "plt.minorticks_on()\n",
        "\n",
        "X1,Y1,Z1 = gauss_levels(lm['IMAG_DERED']-lm['ZMAG_DERED'],lm['ZMAG_DERED'] - lm['YMAG_DERED'])\n",
        "X2,Y2,Z2 = gauss_levels(hm['IMAG_DERED']-hm['ZMAG_DERED'],hm['ZMAG_DERED'] - hm['YMAG_DERED'])\n",
        "X3,Y3,Z3 = gauss_levels(gal['IMAG_DERED']-gal['ZMAG_DERED'],gal['ZMAG_DERED'] - gal['YMAG_DERED'])\n",
        "#X4,Y4,Z4 = gauss_levels(qso['IMAG_DERED'] - qso['ZMAG_DERED'],qso['ZMAG_DERED'] - qso['YMAG_DERED'])\n",
        "levels_1 = conf_levels(lm['IMAG_DERED']-lm['ZMAG_DERED'],lm['ZMAG_DERED'] - lm['YMAG_DERED'],bin_n = 25)\n",
        "levels_2 = conf_levels(hm['IMAG_DERED']-hm['ZMAG_DERED'],hm['ZMAG_DERED'] - hm['YMAG_DERED'],bin_n = 10)\n",
        "levels_3 = conf_levels(gal['IMAG_DERED']-gal['ZMAG_DERED'],gal['ZMAG_DERED'] - gal['YMAG_DERED'],bin_n = 5)\n",
        "#levels_4 = conf_levels(qso['IMAG_DERED'] - qso['ZMAG_DERED'],qso['ZMAG_DERED'] - qso['YMAG_DERED'],bin_n = 3)\n",
        "\n",
        "ax_2 = plt.subplot(2,1,2)\n",
        "ax1 = ax_2.contour(X1,Y1,Z1, levels=levels_1, colors=['C0'], linestyles=['solid','--','-.'], linewidths=[1,2], zorder=-20)\n",
        "ax2 = ax_2.contour(X2,Y2,Z2, levels=levels_2, colors=['C1'], linestyles=['solid','--','-.'], linewidths=[1,2], zorder=-20)\n",
        "ax3 = ax_2.contour(X3,Y3,Z3, levels=levels_3, colors=['C2'], linestyles=['solid','--','-.'], linewidths=[1,2], zorder=-20)\n",
        "ax4 = ax_2.scatter(qso['IMAG_DERED']-qso['ZMAG_DERED'],qso['ZMAG_DERED'] - qso['YMAG_DERED'],\n",
        "                  c='C3',s=10)\n",
        "ax_2.set_xlim(0.70,2.0)\n",
        "ax_2.set_ylim(-0.1,2.3)\n",
        "plt.xlabel('$i - z$')\n",
        "plt.ylabel('$z - Y$')\n",
        "\n",
        "ax.plot([0,0],[0,0], ls='solid', c='C0', lw=2, label=r'UCD')\n",
        "ax.plot([0,0],[0,0], ls='solid', c='C1', lw=2, label=r'RG')\n",
        "ax.plot([0,0],[0,0], ls='solid', c='C2', lw=2, label=r'GAL')\n",
        "ax.plot([0,0],[0,0], 'o', c='C3', label=r'QSO')\n",
        "ax.legend(loc='upper right', frameon=False)\n",
        "\n",
        "plt.minorticks_on()\n",
        "plt.tight_layout()\n",
        "plt.savefig('gdrive/My Drive/Colab Notebooks/figures/des_training_parameter_space_contour.pdf',dpi=300,bbox_inches='tight',padding=0)\n",
        "plt.show()"
      ],
      "execution_count": null,
      "outputs": [
        {
          "output_type": "display_data",
          "data": {
            "image/png": "[encoded data removed]",
            "text/plain": [
              "<Figure size 244.8x367.2 with 2 Axes>"
            ]
          },
          "metadata": {
            "tags": []
          }
        }
      ]
    },
    {
      "cell_type": "markdown",
      "metadata": {
        "id": "N9ZBYpfy7nbJ",
        "colab_type": "text"
      },
      "source": [
        ""
      ]
    }
  ]
}